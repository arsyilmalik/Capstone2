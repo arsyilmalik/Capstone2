{
 "cells": [
  {
   "cell_type": "markdown",
   "metadata": {},
   "source": [
    "<img src=http://transjakarta.co.id/tj-berkas/gambar/logo/tj.png>"
   ]
  },
  {
   "cell_type": "markdown",
   "metadata": {},
   "source": [
    "## LATAR BELAKANG DAN RANGKUMAN ##\n",
    "\n",
    "Transjakarta adalah Layanan Transportasi Umum berpusat di Jakarta. Bulan April 2023, Transjakarta melakukan evaluasi bulanan untuk mendapatkan insight terbaru agar kedepannya berbagai layanan dapat ditingkatkan lagi. Kini Jak Lingko hadir bersama Transjakarta untuk menambah Layanan Transportasi Umum. Terdapat berbagai jenis layanan Transjakarta, seperti:\n",
    "* BRT\n",
    "* Non-BRT\n",
    "* Trans Jabodetabek\n",
    "* Royal Trans\n",
    "* Mikrotrans / Jak Lingko \n",
    "* Wisata\n",
    "* Rumah Susun \n",
    "\n",
    "Rangkuman Analisis:\n",
    "1. Identitas Pengguna Transjakarta\n",
    "    - Pengguna Transjakarta berdasarkan umur.\n",
    "    - Pengguna Transjakatta berdasarkan jenis kelamin.\n",
    "    - Perbandingan pengguna Transjakarta berdasarkan kategori umur dan jenis kelamin.\n",
    "2. Keuangan dan Alat Bayar\n",
    "    - Pengguna Transjakarta berdasarkan alat bayar.\n",
    "    - Perbandingan pengguna Transjakarta berdasarkan alat bayar dan jumlah bayar.\n",
    "    - Membuat Kategori berdasarkan jenis layanan transjakarta menggunakan jumlah bayar\n",
    "3. Koridor Transjakarta\n",
    "    - Koridor tersibuk dan tersepi secara keseluruhan (TapIn)\n",
    "    - Koridor berdasarkan penumpang dan jenis kelamin (TapIn)\n",
    "    - Koridor tersibuk dan tersepi secara keseluruhan (TapOut)\n",
    "    - Koridor berdasarkan penumpang dan jenis kelamin (TapOut)\n",
    "4. Peak Hours\n",
    "5. Analisis RFM\n"
   ]
  },
  {
   "cell_type": "markdown",
   "metadata": {},
   "source": [
    "## MENGENALI DATA ##\n",
    "\n",
    "Tahapan pertama adalah Mengenali data. Mengenali data adalah melihat apa saja terdapat dalam dataset Transjakarta, mengenali bentuk data dan mengenali berbagai rangkuman data."
   ]
  },
  {
   "cell_type": "code",
   "execution_count": 664,
   "metadata": {},
   "outputs": [],
   "source": [
    "import pandas as pd\n",
    "import numpy as np\n",
    "import matplotlib.pyplot as plt\n",
    "import matplotlib.colors as mcolors\n",
    "import seaborn as sns\n",
    "import missingno as msno\n",
    "import plotly.express as px    \n",
    "import plotly.graph_objects as go \n",
    "from plotly.subplots import make_subplots"
   ]
  },
  {
   "cell_type": "code",
   "execution_count": 665,
   "metadata": {},
   "outputs": [
    {
     "data": {
      "text/html": [
       "<div>\n",
       "<style scoped>\n",
       "    .dataframe tbody tr th:only-of-type {\n",
       "        vertical-align: middle;\n",
       "    }\n",
       "\n",
       "    .dataframe tbody tr th {\n",
       "        vertical-align: top;\n",
       "    }\n",
       "\n",
       "    .dataframe thead th {\n",
       "        text-align: right;\n",
       "    }\n",
       "</style>\n",
       "<table border=\"1\" class=\"dataframe\">\n",
       "  <thead>\n",
       "    <tr style=\"text-align: right;\">\n",
       "      <th></th>\n",
       "      <th>transID</th>\n",
       "      <th>payCardID</th>\n",
       "      <th>payCardBank</th>\n",
       "      <th>payCardName</th>\n",
       "      <th>payCardSex</th>\n",
       "      <th>payCardBirthDate</th>\n",
       "      <th>corridorID</th>\n",
       "      <th>corridorName</th>\n",
       "      <th>direction</th>\n",
       "      <th>tapInStops</th>\n",
       "      <th>...</th>\n",
       "      <th>tapInStopsLon</th>\n",
       "      <th>stopStartSeq</th>\n",
       "      <th>tapInTime</th>\n",
       "      <th>tapOutStops</th>\n",
       "      <th>tapOutStopsName</th>\n",
       "      <th>tapOutStopsLat</th>\n",
       "      <th>tapOutStopsLon</th>\n",
       "      <th>stopEndSeq</th>\n",
       "      <th>tapOutTime</th>\n",
       "      <th>payAmount</th>\n",
       "    </tr>\n",
       "  </thead>\n",
       "  <tbody>\n",
       "    <tr>\n",
       "      <th>0</th>\n",
       "      <td>EIIW227B8L34VB</td>\n",
       "      <td>180062659848800</td>\n",
       "      <td>emoney</td>\n",
       "      <td>Bajragin Usada</td>\n",
       "      <td>M</td>\n",
       "      <td>2008</td>\n",
       "      <td>5</td>\n",
       "      <td>Matraman Baru - Ancol</td>\n",
       "      <td>1.0</td>\n",
       "      <td>P00142</td>\n",
       "      <td>...</td>\n",
       "      <td>106.84402</td>\n",
       "      <td>7</td>\n",
       "      <td>2023-04-03 05:21:44</td>\n",
       "      <td>P00253</td>\n",
       "      <td>Tegalan</td>\n",
       "      <td>-6.203101</td>\n",
       "      <td>106.85715</td>\n",
       "      <td>12.0</td>\n",
       "      <td>2023-04-03 06:00:53</td>\n",
       "      <td>3500.0</td>\n",
       "    </tr>\n",
       "    <tr>\n",
       "      <th>1</th>\n",
       "      <td>LGXO740D2N47GZ</td>\n",
       "      <td>4885331907664776</td>\n",
       "      <td>dki</td>\n",
       "      <td>Gandi Widodo</td>\n",
       "      <td>F</td>\n",
       "      <td>1997</td>\n",
       "      <td>6C</td>\n",
       "      <td>Stasiun Tebet - Karet via Patra Kuningan</td>\n",
       "      <td>0.0</td>\n",
       "      <td>B01963P</td>\n",
       "      <td>...</td>\n",
       "      <td>106.83302</td>\n",
       "      <td>13</td>\n",
       "      <td>2023-04-03 05:42:44</td>\n",
       "      <td>B03307P</td>\n",
       "      <td>Sampoerna Strategic</td>\n",
       "      <td>-6.217152</td>\n",
       "      <td>106.81892</td>\n",
       "      <td>21.0</td>\n",
       "      <td>2023-04-03 06:40:01</td>\n",
       "      <td>3500.0</td>\n",
       "    </tr>\n",
       "    <tr>\n",
       "      <th>2</th>\n",
       "      <td>DJWR385V2U57TO</td>\n",
       "      <td>4996225095064169</td>\n",
       "      <td>dki</td>\n",
       "      <td>Emong Wastuti</td>\n",
       "      <td>F</td>\n",
       "      <td>1992</td>\n",
       "      <td>R1A</td>\n",
       "      <td>Pantai Maju - Kota</td>\n",
       "      <td>0.0</td>\n",
       "      <td>B00499P</td>\n",
       "      <td>...</td>\n",
       "      <td>106.81435</td>\n",
       "      <td>38</td>\n",
       "      <td>2023-04-03 05:59:06</td>\n",
       "      <td>B04962P</td>\n",
       "      <td>Simpang Kunir Kemukus</td>\n",
       "      <td>-6.133731</td>\n",
       "      <td>106.81475</td>\n",
       "      <td>39.0</td>\n",
       "      <td>2023-04-03 06:50:55</td>\n",
       "      <td>3500.0</td>\n",
       "    </tr>\n",
       "    <tr>\n",
       "      <th>3</th>\n",
       "      <td>JTUZ800U7C86EH</td>\n",
       "      <td>639099174703</td>\n",
       "      <td>flazz</td>\n",
       "      <td>Surya Wacana</td>\n",
       "      <td>F</td>\n",
       "      <td>1978</td>\n",
       "      <td>11D</td>\n",
       "      <td>Pulo Gebang - Pulo Gadung 2 via PIK</td>\n",
       "      <td>0.0</td>\n",
       "      <td>B05587P</td>\n",
       "      <td>...</td>\n",
       "      <td>106.93526</td>\n",
       "      <td>23</td>\n",
       "      <td>2023-04-03 05:44:51</td>\n",
       "      <td>B03090P</td>\n",
       "      <td>Raya Penggilingan</td>\n",
       "      <td>-6.183068</td>\n",
       "      <td>106.93194</td>\n",
       "      <td>29.0</td>\n",
       "      <td>2023-04-03 06:28:16</td>\n",
       "      <td>3500.0</td>\n",
       "    </tr>\n",
       "    <tr>\n",
       "      <th>4</th>\n",
       "      <td>VMLO535V7F95NJ</td>\n",
       "      <td>570928206772</td>\n",
       "      <td>flazz</td>\n",
       "      <td>Embuh Mardhiyah</td>\n",
       "      <td>M</td>\n",
       "      <td>1982</td>\n",
       "      <td>12</td>\n",
       "      <td>Tanjung Priok - Pluit</td>\n",
       "      <td>0.0</td>\n",
       "      <td>P00239</td>\n",
       "      <td>...</td>\n",
       "      <td>106.88900</td>\n",
       "      <td>5</td>\n",
       "      <td>2023-04-03 06:17:35</td>\n",
       "      <td>P00098</td>\n",
       "      <td>Kali Besar Barat</td>\n",
       "      <td>-6.135355</td>\n",
       "      <td>106.81143</td>\n",
       "      <td>15.0</td>\n",
       "      <td>2023-04-03 06:57:03</td>\n",
       "      <td>3500.0</td>\n",
       "    </tr>\n",
       "  </tbody>\n",
       "</table>\n",
       "<p>5 rows × 22 columns</p>\n",
       "</div>"
      ],
      "text/plain": [
       "          transID         payCardID payCardBank      payCardName payCardSex  \\\n",
       "0  EIIW227B8L34VB   180062659848800      emoney   Bajragin Usada          M   \n",
       "1  LGXO740D2N47GZ  4885331907664776         dki     Gandi Widodo          F   \n",
       "2  DJWR385V2U57TO  4996225095064169         dki    Emong Wastuti          F   \n",
       "3  JTUZ800U7C86EH      639099174703       flazz     Surya Wacana          F   \n",
       "4  VMLO535V7F95NJ      570928206772       flazz  Embuh Mardhiyah          M   \n",
       "\n",
       "   payCardBirthDate corridorID                              corridorName  \\\n",
       "0              2008          5                     Matraman Baru - Ancol   \n",
       "1              1997         6C  Stasiun Tebet - Karet via Patra Kuningan   \n",
       "2              1992        R1A                        Pantai Maju - Kota   \n",
       "3              1978        11D       Pulo Gebang - Pulo Gadung 2 via PIK   \n",
       "4              1982         12                     Tanjung Priok - Pluit   \n",
       "\n",
       "   direction tapInStops  ... tapInStopsLon  stopStartSeq            tapInTime  \\\n",
       "0        1.0     P00142  ...     106.84402             7  2023-04-03 05:21:44   \n",
       "1        0.0    B01963P  ...     106.83302            13  2023-04-03 05:42:44   \n",
       "2        0.0    B00499P  ...     106.81435            38  2023-04-03 05:59:06   \n",
       "3        0.0    B05587P  ...     106.93526            23  2023-04-03 05:44:51   \n",
       "4        0.0     P00239  ...     106.88900             5  2023-04-03 06:17:35   \n",
       "\n",
       "   tapOutStops        tapOutStopsName tapOutStopsLat tapOutStopsLon  \\\n",
       "0       P00253                Tegalan      -6.203101      106.85715   \n",
       "1      B03307P    Sampoerna Strategic      -6.217152      106.81892   \n",
       "2      B04962P  Simpang Kunir Kemukus      -6.133731      106.81475   \n",
       "3      B03090P      Raya Penggilingan      -6.183068      106.93194   \n",
       "4       P00098       Kali Besar Barat      -6.135355      106.81143   \n",
       "\n",
       "   stopEndSeq           tapOutTime  payAmount  \n",
       "0        12.0  2023-04-03 06:00:53     3500.0  \n",
       "1        21.0  2023-04-03 06:40:01     3500.0  \n",
       "2        39.0  2023-04-03 06:50:55     3500.0  \n",
       "3        29.0  2023-04-03 06:28:16     3500.0  \n",
       "4        15.0  2023-04-03 06:57:03     3500.0  \n",
       "\n",
       "[5 rows x 22 columns]"
      ]
     },
     "execution_count": 665,
     "metadata": {},
     "output_type": "execute_result"
    }
   ],
   "source": [
    "df=pd.read_csv('Transjakarta.csv')\n",
    "df.head()"
   ]
  },
  {
   "cell_type": "code",
   "execution_count": 666,
   "metadata": {},
   "outputs": [
    {
     "name": "stdout",
     "output_type": "stream",
     "text": [
      "<class 'pandas.core.frame.DataFrame'>\n",
      "RangeIndex: 37900 entries, 0 to 37899\n",
      "Data columns (total 22 columns):\n",
      " #   Column            Non-Null Count  Dtype  \n",
      "---  ------            --------------  -----  \n",
      " 0   transID           37900 non-null  object \n",
      " 1   payCardID         37900 non-null  int64  \n",
      " 2   payCardBank       37900 non-null  object \n",
      " 3   payCardName       37900 non-null  object \n",
      " 4   payCardSex        37900 non-null  object \n",
      " 5   payCardBirthDate  37900 non-null  int64  \n",
      " 6   corridorID        36643 non-null  object \n",
      " 7   corridorName      35970 non-null  object \n",
      " 8   direction         37900 non-null  float64\n",
      " 9   tapInStops        36687 non-null  object \n",
      " 10  tapInStopsName    37900 non-null  object \n",
      " 11  tapInStopsLat     37900 non-null  float64\n",
      " 12  tapInStopsLon     37900 non-null  float64\n",
      " 13  stopStartSeq      37900 non-null  int64  \n",
      " 14  tapInTime         37900 non-null  object \n",
      " 15  tapOutStops       35611 non-null  object \n",
      " 16  tapOutStopsName   36556 non-null  object \n",
      " 17  tapOutStopsLat    36556 non-null  float64\n",
      " 18  tapOutStopsLon    36556 non-null  float64\n",
      " 19  stopEndSeq        36556 non-null  float64\n",
      " 20  tapOutTime        36556 non-null  object \n",
      " 21  payAmount         36893 non-null  float64\n",
      "dtypes: float64(7), int64(3), object(12)\n",
      "memory usage: 6.4+ MB\n"
     ]
    }
   ],
   "source": [
    "df.info()"
   ]
  },
  {
   "cell_type": "code",
   "execution_count": 667,
   "metadata": {},
   "outputs": [
    {
     "data": {
      "text/html": [
       "<div>\n",
       "<style scoped>\n",
       "    .dataframe tbody tr th:only-of-type {\n",
       "        vertical-align: middle;\n",
       "    }\n",
       "\n",
       "    .dataframe tbody tr th {\n",
       "        vertical-align: top;\n",
       "    }\n",
       "\n",
       "    .dataframe thead th {\n",
       "        text-align: right;\n",
       "    }\n",
       "</style>\n",
       "<table border=\"1\" class=\"dataframe\">\n",
       "  <thead>\n",
       "    <tr style=\"text-align: right;\">\n",
       "      <th></th>\n",
       "      <th>payCardID</th>\n",
       "      <th>payCardBirthDate</th>\n",
       "      <th>direction</th>\n",
       "      <th>tapInStopsLat</th>\n",
       "      <th>tapInStopsLon</th>\n",
       "      <th>stopStartSeq</th>\n",
       "      <th>tapOutStopsLat</th>\n",
       "      <th>tapOutStopsLon</th>\n",
       "      <th>stopEndSeq</th>\n",
       "      <th>payAmount</th>\n",
       "    </tr>\n",
       "  </thead>\n",
       "  <tbody>\n",
       "    <tr>\n",
       "      <th>count</th>\n",
       "      <td>3.790000e+04</td>\n",
       "      <td>37900.000000</td>\n",
       "      <td>37900.000000</td>\n",
       "      <td>37900.000000</td>\n",
       "      <td>37900.000000</td>\n",
       "      <td>37900.000000</td>\n",
       "      <td>36556.000000</td>\n",
       "      <td>36556.000000</td>\n",
       "      <td>36556.000000</td>\n",
       "      <td>36893.000000</td>\n",
       "    </tr>\n",
       "    <tr>\n",
       "      <th>mean</th>\n",
       "      <td>4.250060e+17</td>\n",
       "      <td>1990.089314</td>\n",
       "      <td>0.500633</td>\n",
       "      <td>-6.214838</td>\n",
       "      <td>106.841554</td>\n",
       "      <td>13.572480</td>\n",
       "      <td>-6.214651</td>\n",
       "      <td>106.841233</td>\n",
       "      <td>21.219909</td>\n",
       "      <td>2699.712683</td>\n",
       "    </tr>\n",
       "    <tr>\n",
       "      <th>std</th>\n",
       "      <td>1.321699e+18</td>\n",
       "      <td>13.051482</td>\n",
       "      <td>0.500006</td>\n",
       "      <td>0.057911</td>\n",
       "      <td>0.060369</td>\n",
       "      <td>12.237623</td>\n",
       "      <td>0.059022</td>\n",
       "      <td>0.060999</td>\n",
       "      <td>13.800689</td>\n",
       "      <td>4212.225592</td>\n",
       "    </tr>\n",
       "    <tr>\n",
       "      <th>min</th>\n",
       "      <td>6.040368e+10</td>\n",
       "      <td>1946.000000</td>\n",
       "      <td>0.000000</td>\n",
       "      <td>-6.394973</td>\n",
       "      <td>106.614730</td>\n",
       "      <td>0.000000</td>\n",
       "      <td>-6.394973</td>\n",
       "      <td>106.614730</td>\n",
       "      <td>1.000000</td>\n",
       "      <td>0.000000</td>\n",
       "    </tr>\n",
       "    <tr>\n",
       "      <th>25%</th>\n",
       "      <td>1.800442e+14</td>\n",
       "      <td>1982.000000</td>\n",
       "      <td>0.000000</td>\n",
       "      <td>-6.245863</td>\n",
       "      <td>106.803470</td>\n",
       "      <td>4.000000</td>\n",
       "      <td>-6.247225</td>\n",
       "      <td>106.801750</td>\n",
       "      <td>11.000000</td>\n",
       "      <td>0.000000</td>\n",
       "    </tr>\n",
       "    <tr>\n",
       "      <th>50%</th>\n",
       "      <td>3.507947e+15</td>\n",
       "      <td>1990.000000</td>\n",
       "      <td>1.000000</td>\n",
       "      <td>-6.214587</td>\n",
       "      <td>106.834830</td>\n",
       "      <td>10.000000</td>\n",
       "      <td>-6.214718</td>\n",
       "      <td>106.834580</td>\n",
       "      <td>18.000000</td>\n",
       "      <td>3500.000000</td>\n",
       "    </tr>\n",
       "    <tr>\n",
       "      <th>75%</th>\n",
       "      <td>4.699023e+15</td>\n",
       "      <td>2001.000000</td>\n",
       "      <td>1.000000</td>\n",
       "      <td>-6.175528</td>\n",
       "      <td>106.882270</td>\n",
       "      <td>19.000000</td>\n",
       "      <td>-6.174736</td>\n",
       "      <td>106.883030</td>\n",
       "      <td>29.000000</td>\n",
       "      <td>3500.000000</td>\n",
       "    </tr>\n",
       "    <tr>\n",
       "      <th>max</th>\n",
       "      <td>4.997694e+18</td>\n",
       "      <td>2012.000000</td>\n",
       "      <td>1.000000</td>\n",
       "      <td>-6.089429</td>\n",
       "      <td>107.023950</td>\n",
       "      <td>68.000000</td>\n",
       "      <td>-6.091746</td>\n",
       "      <td>107.023660</td>\n",
       "      <td>77.000000</td>\n",
       "      <td>20000.000000</td>\n",
       "    </tr>\n",
       "  </tbody>\n",
       "</table>\n",
       "</div>"
      ],
      "text/plain": [
       "          payCardID  payCardBirthDate     direction  tapInStopsLat  \\\n",
       "count  3.790000e+04      37900.000000  37900.000000   37900.000000   \n",
       "mean   4.250060e+17       1990.089314      0.500633      -6.214838   \n",
       "std    1.321699e+18         13.051482      0.500006       0.057911   \n",
       "min    6.040368e+10       1946.000000      0.000000      -6.394973   \n",
       "25%    1.800442e+14       1982.000000      0.000000      -6.245863   \n",
       "50%    3.507947e+15       1990.000000      1.000000      -6.214587   \n",
       "75%    4.699023e+15       2001.000000      1.000000      -6.175528   \n",
       "max    4.997694e+18       2012.000000      1.000000      -6.089429   \n",
       "\n",
       "       tapInStopsLon  stopStartSeq  tapOutStopsLat  tapOutStopsLon  \\\n",
       "count   37900.000000  37900.000000    36556.000000    36556.000000   \n",
       "mean      106.841554     13.572480       -6.214651      106.841233   \n",
       "std         0.060369     12.237623        0.059022        0.060999   \n",
       "min       106.614730      0.000000       -6.394973      106.614730   \n",
       "25%       106.803470      4.000000       -6.247225      106.801750   \n",
       "50%       106.834830     10.000000       -6.214718      106.834580   \n",
       "75%       106.882270     19.000000       -6.174736      106.883030   \n",
       "max       107.023950     68.000000       -6.091746      107.023660   \n",
       "\n",
       "         stopEndSeq     payAmount  \n",
       "count  36556.000000  36893.000000  \n",
       "mean      21.219909   2699.712683  \n",
       "std       13.800689   4212.225592  \n",
       "min        1.000000      0.000000  \n",
       "25%       11.000000      0.000000  \n",
       "50%       18.000000   3500.000000  \n",
       "75%       29.000000   3500.000000  \n",
       "max       77.000000  20000.000000  "
      ]
     },
     "execution_count": 667,
     "metadata": {},
     "output_type": "execute_result"
    }
   ],
   "source": [
    "df.describe()"
   ]
  },
  {
   "cell_type": "code",
   "execution_count": 668,
   "metadata": {},
   "outputs": [
    {
     "data": {
      "text/html": [
       "<div>\n",
       "<style scoped>\n",
       "    .dataframe tbody tr th:only-of-type {\n",
       "        vertical-align: middle;\n",
       "    }\n",
       "\n",
       "    .dataframe tbody tr th {\n",
       "        vertical-align: top;\n",
       "    }\n",
       "\n",
       "    .dataframe thead th {\n",
       "        text-align: right;\n",
       "    }\n",
       "</style>\n",
       "<table border=\"1\" class=\"dataframe\">\n",
       "  <thead>\n",
       "    <tr style=\"text-align: right;\">\n",
       "      <th></th>\n",
       "      <th>transID</th>\n",
       "      <th>payCardBank</th>\n",
       "      <th>payCardName</th>\n",
       "      <th>payCardSex</th>\n",
       "      <th>corridorID</th>\n",
       "      <th>corridorName</th>\n",
       "      <th>tapInStops</th>\n",
       "      <th>tapInStopsName</th>\n",
       "      <th>tapInTime</th>\n",
       "      <th>tapOutStops</th>\n",
       "      <th>tapOutStopsName</th>\n",
       "      <th>tapOutTime</th>\n",
       "    </tr>\n",
       "  </thead>\n",
       "  <tbody>\n",
       "    <tr>\n",
       "      <th>count</th>\n",
       "      <td>37900</td>\n",
       "      <td>37900</td>\n",
       "      <td>37900</td>\n",
       "      <td>37900</td>\n",
       "      <td>36643</td>\n",
       "      <td>35970</td>\n",
       "      <td>36687</td>\n",
       "      <td>37900</td>\n",
       "      <td>37900</td>\n",
       "      <td>35611</td>\n",
       "      <td>36556</td>\n",
       "      <td>36556</td>\n",
       "    </tr>\n",
       "    <tr>\n",
       "      <th>unique</th>\n",
       "      <td>37900</td>\n",
       "      <td>6</td>\n",
       "      <td>1993</td>\n",
       "      <td>2</td>\n",
       "      <td>221</td>\n",
       "      <td>216</td>\n",
       "      <td>2570</td>\n",
       "      <td>2602</td>\n",
       "      <td>37079</td>\n",
       "      <td>2230</td>\n",
       "      <td>2248</td>\n",
       "      <td>35908</td>\n",
       "    </tr>\n",
       "    <tr>\n",
       "      <th>top</th>\n",
       "      <td>EIIW227B8L34VB</td>\n",
       "      <td>dki</td>\n",
       "      <td>Fathonah Saefullah</td>\n",
       "      <td>F</td>\n",
       "      <td>1T</td>\n",
       "      <td>Cibubur - Balai Kota</td>\n",
       "      <td>P00170</td>\n",
       "      <td>Penjaringan</td>\n",
       "      <td>2023-04-25 06:23:00</td>\n",
       "      <td>P00016</td>\n",
       "      <td>BKN</td>\n",
       "      <td>2023-04-10 19:10:15</td>\n",
       "    </tr>\n",
       "    <tr>\n",
       "      <th>freq</th>\n",
       "      <td>1</td>\n",
       "      <td>18743</td>\n",
       "      <td>80</td>\n",
       "      <td>20157</td>\n",
       "      <td>400</td>\n",
       "      <td>391</td>\n",
       "      <td>236</td>\n",
       "      <td>243</td>\n",
       "      <td>3</td>\n",
       "      <td>306</td>\n",
       "      <td>316</td>\n",
       "      <td>3</td>\n",
       "    </tr>\n",
       "  </tbody>\n",
       "</table>\n",
       "</div>"
      ],
      "text/plain": [
       "               transID payCardBank         payCardName payCardSex corridorID  \\\n",
       "count            37900       37900               37900      37900      36643   \n",
       "unique           37900           6                1993          2        221   \n",
       "top     EIIW227B8L34VB         dki  Fathonah Saefullah          F         1T   \n",
       "freq                 1       18743                  80      20157        400   \n",
       "\n",
       "                corridorName tapInStops tapInStopsName            tapInTime  \\\n",
       "count                  35970      36687          37900                37900   \n",
       "unique                   216       2570           2602                37079   \n",
       "top     Cibubur - Balai Kota     P00170    Penjaringan  2023-04-25 06:23:00   \n",
       "freq                     391        236            243                    3   \n",
       "\n",
       "       tapOutStops tapOutStopsName           tapOutTime  \n",
       "count        35611           36556                36556  \n",
       "unique        2230            2248                35908  \n",
       "top         P00016             BKN  2023-04-10 19:10:15  \n",
       "freq           306             316                    3  "
      ]
     },
     "execution_count": 668,
     "metadata": {},
     "output_type": "execute_result"
    }
   ],
   "source": [
    "df.describe(include='object')"
   ]
  },
  {
   "cell_type": "markdown",
   "metadata": {},
   "source": [
    "*Insight* :\n",
    "* Terdapat 22 kolom dan 37.900 baris pada dataset transjakarta.\n",
    "* Terdapat ketidaksesuaian jumlah unik antara corridorID dan CorridorName."
   ]
  },
  {
   "cell_type": "markdown",
   "metadata": {},
   "source": [
    "## DATA DUPLIKAT ##\n",
    "\n",
    "Karena terdapat ketidaksesuaian antara jumlah Unik corridorID dan corridorName maka kita akan mengecek kemungkinan data duplikat pada variabel tersebut."
   ]
  },
  {
   "cell_type": "code",
   "execution_count": 669,
   "metadata": {},
   "outputs": [
    {
     "data": {
      "text/html": [
       "<div>\n",
       "<style scoped>\n",
       "    .dataframe tbody tr th:only-of-type {\n",
       "        vertical-align: middle;\n",
       "    }\n",
       "\n",
       "    .dataframe tbody tr th {\n",
       "        vertical-align: top;\n",
       "    }\n",
       "\n",
       "    .dataframe thead th {\n",
       "        text-align: right;\n",
       "    }\n",
       "</style>\n",
       "<table border=\"1\" class=\"dataframe\">\n",
       "  <thead>\n",
       "    <tr style=\"text-align: right;\">\n",
       "      <th></th>\n",
       "      <th>corridorName</th>\n",
       "      <th>totalCorridorID</th>\n",
       "    </tr>\n",
       "  </thead>\n",
       "  <tbody>\n",
       "    <tr>\n",
       "      <th>0</th>\n",
       "      <td>Blok M - Kota</td>\n",
       "      <td>2</td>\n",
       "    </tr>\n",
       "    <tr>\n",
       "      <th>1</th>\n",
       "      <td>Kalideres - Bundaran HI via Veteran</td>\n",
       "      <td>2</td>\n",
       "    </tr>\n",
       "    <tr>\n",
       "      <th>2</th>\n",
       "      <td>Matraman Baru - Ancol</td>\n",
       "      <td>2</td>\n",
       "    </tr>\n",
       "    <tr>\n",
       "      <th>3</th>\n",
       "      <td>Pinang Ranti - Pluit</td>\n",
       "      <td>2</td>\n",
       "    </tr>\n",
       "    <tr>\n",
       "      <th>4</th>\n",
       "      <td>Pulo Gadung - Monas</td>\n",
       "      <td>2</td>\n",
       "    </tr>\n",
       "  </tbody>\n",
       "</table>\n",
       "</div>"
      ],
      "text/plain": [
       "                          corridorName  totalCorridorID\n",
       "0                        Blok M - Kota                2\n",
       "1  Kalideres - Bundaran HI via Veteran                2\n",
       "2                Matraman Baru - Ancol                2\n",
       "3                 Pinang Ranti - Pluit                2\n",
       "4                  Pulo Gadung - Monas                2"
      ]
     },
     "execution_count": 669,
     "metadata": {},
     "output_type": "execute_result"
    }
   ],
   "source": [
    "cekDuplikatCorridor = df.groupby('corridorName')['corridorID'].nunique()\n",
    "hasilDuplikat = cekDuplikatCorridor[cekDuplikatCorridor > 1].to_frame().reset_index().rename(columns={'corridorID':'totalCorridorID'})\n",
    "hasilDuplikat"
   ]
  },
  {
   "cell_type": "code",
   "execution_count": 670,
   "metadata": {},
   "outputs": [
    {
     "data": {
      "text/html": [
       "<div>\n",
       "<style scoped>\n",
       "    .dataframe tbody tr th:only-of-type {\n",
       "        vertical-align: middle;\n",
       "    }\n",
       "\n",
       "    .dataframe tbody tr th {\n",
       "        vertical-align: top;\n",
       "    }\n",
       "\n",
       "    .dataframe thead th {\n",
       "        text-align: right;\n",
       "    }\n",
       "</style>\n",
       "<table border=\"1\" class=\"dataframe\">\n",
       "  <thead>\n",
       "    <tr style=\"text-align: right;\">\n",
       "      <th></th>\n",
       "      <th>corridorName</th>\n",
       "      <th>totalCorridorID</th>\n",
       "      <th>corridorID</th>\n",
       "    </tr>\n",
       "  </thead>\n",
       "  <tbody>\n",
       "    <tr>\n",
       "      <th>0</th>\n",
       "      <td>Blok M - Kota</td>\n",
       "      <td>2</td>\n",
       "      <td>[M1, 1]</td>\n",
       "    </tr>\n",
       "    <tr>\n",
       "      <th>1</th>\n",
       "      <td>Kalideres - Bundaran HI via Veteran</td>\n",
       "      <td>2</td>\n",
       "      <td>[M3, 3, nan]</td>\n",
       "    </tr>\n",
       "    <tr>\n",
       "      <th>2</th>\n",
       "      <td>Matraman Baru - Ancol</td>\n",
       "      <td>2</td>\n",
       "      <td>[5, nan, M5]</td>\n",
       "    </tr>\n",
       "    <tr>\n",
       "      <th>3</th>\n",
       "      <td>Pinang Ranti - Pluit</td>\n",
       "      <td>2</td>\n",
       "      <td>[M9, 9, nan]</td>\n",
       "    </tr>\n",
       "    <tr>\n",
       "      <th>4</th>\n",
       "      <td>Pulo Gadung - Monas</td>\n",
       "      <td>2</td>\n",
       "      <td>[2, M2, nan]</td>\n",
       "    </tr>\n",
       "  </tbody>\n",
       "</table>\n",
       "</div>"
      ],
      "text/plain": [
       "                          corridorName  totalCorridorID    corridorID\n",
       "0                        Blok M - Kota                2       [M1, 1]\n",
       "1  Kalideres - Bundaran HI via Veteran                2  [M3, 3, nan]\n",
       "2                Matraman Baru - Ancol                2  [5, nan, M5]\n",
       "3                 Pinang Ranti - Pluit                2  [M9, 9, nan]\n",
       "4                  Pulo Gadung - Monas                2  [2, M2, nan]"
      ]
     },
     "execution_count": 670,
     "metadata": {},
     "output_type": "execute_result"
    }
   ],
   "source": [
    "idCorridor = []\n",
    "for i in hasilDuplikat['corridorName']:\n",
    "    idUnik = df[df['corridorName'] == i]['corridorID'].unique()\n",
    "    idCorridor.append(idUnik)\n",
    "hasilDuplikat['corridorID'] = idCorridor\n",
    "hasilDuplikat"
   ]
  },
  {
   "cell_type": "code",
   "execution_count": 671,
   "metadata": {},
   "outputs": [],
   "source": [
    "df.loc[(df['corridorID'] == '1') & (df['corridorName'] == 'Blok M - Kota'), 'corridorName'] = 'Blok M - Kota 1'\n",
    "df.loc[(df['corridorID'] == '2') & (df['corridorName'] == 'Pulo Gadung - Monas'), 'corridorName'] = 'Pulo Gadung - Monas 2'\n",
    "df.loc[(df['corridorID'] == '3') & (df['corridorName'] == 'Kalideres - Bundaran HI via Veteran'), 'corridorName'] = 'Kalideres - Bundaran HI via Veteran 3'\n",
    "df.loc[(df['corridorID'] == '5') & (df['corridorName'] == 'Matraman Baru - Ancol'), 'corridorName'] = 'Matraman Baru - Ancol 5'\n",
    "df.loc[(df['corridorID'] == '9') & (df['corridorName'] == 'Pinang Ranti - Pluit'), 'corridorName'] = 'Pinang Ranti - Pluit 9'"
   ]
  },
  {
   "cell_type": "code",
   "execution_count": 672,
   "metadata": {},
   "outputs": [
    {
     "data": {
      "text/plain": [
       "Series([], Name: corridorID, dtype: int64)"
      ]
     },
     "execution_count": 672,
     "metadata": {},
     "output_type": "execute_result"
    }
   ],
   "source": [
    "cekDuplikatCorridor2 = df.groupby('corridorName')['corridorID'].nunique()\n",
    "cekDuplikatCorridor2[cekDuplikatCorridor2 > 1]"
   ]
  },
  {
   "cell_type": "markdown",
   "metadata": {},
   "source": [
    "Data Duplikat terdapat 5 data, lalu berhasil dijadikan data unik kembali."
   ]
  },
  {
   "cell_type": "markdown",
   "metadata": {},
   "source": [
    "## MISSING VALUE ##\n",
    "\n",
    "Terdapat 10 kolom yang memiliki *missing value*. Besaran tiap kolom yang terdapat *missing value* tidak terlalu signifikan dengan toal data pada dataset Transajakarta."
   ]
  },
  {
   "cell_type": "code",
   "execution_count": 673,
   "metadata": {},
   "outputs": [
    {
     "data": {
      "text/plain": [
       "transID                0\n",
       "payCardID              0\n",
       "payCardBank            0\n",
       "payCardName            0\n",
       "payCardSex             0\n",
       "payCardBirthDate       0\n",
       "corridorID          1257\n",
       "corridorName        1930\n",
       "direction              0\n",
       "tapInStops          1213\n",
       "tapInStopsName         0\n",
       "tapInStopsLat          0\n",
       "tapInStopsLon          0\n",
       "stopStartSeq           0\n",
       "tapInTime              0\n",
       "tapOutStops         2289\n",
       "tapOutStopsName     1344\n",
       "tapOutStopsLat      1344\n",
       "tapOutStopsLon      1344\n",
       "stopEndSeq          1344\n",
       "tapOutTime          1344\n",
       "payAmount           1007\n",
       "dtype: int64"
      ]
     },
     "execution_count": 673,
     "metadata": {},
     "output_type": "execute_result"
    }
   ],
   "source": [
    "df.isna().sum()"
   ]
  },
  {
   "cell_type": "code",
   "execution_count": 674,
   "metadata": {},
   "outputs": [
    {
     "data": {
      "image/png": "[encoded data removed]",
      "text/plain": [
       "<Figure size 2500x1000 with 2 Axes>"
      ]
     },
     "metadata": {},
     "output_type": "display_data"
    }
   ],
   "source": [
    "msno.matrix(df)\n",
    "plt.show()"
   ]
  },
  {
   "cell_type": "code",
   "execution_count": 675,
   "metadata": {},
   "outputs": [],
   "source": [
    "df = df.dropna()"
   ]
  },
  {
   "cell_type": "code",
   "execution_count": 676,
   "metadata": {},
   "outputs": [
    {
     "data": {
      "text/plain": [
       "transID             0\n",
       "payCardID           0\n",
       "payCardBank         0\n",
       "payCardName         0\n",
       "payCardSex          0\n",
       "payCardBirthDate    0\n",
       "corridorID          0\n",
       "corridorName        0\n",
       "direction           0\n",
       "tapInStops          0\n",
       "tapInStopsName      0\n",
       "tapInStopsLat       0\n",
       "tapInStopsLon       0\n",
       "stopStartSeq        0\n",
       "tapInTime           0\n",
       "tapOutStops         0\n",
       "tapOutStopsName     0\n",
       "tapOutStopsLat      0\n",
       "tapOutStopsLon      0\n",
       "stopEndSeq          0\n",
       "tapOutTime          0\n",
       "payAmount           0\n",
       "dtype: int64"
      ]
     },
     "execution_count": 676,
     "metadata": {},
     "output_type": "execute_result"
    }
   ],
   "source": [
    "df.isna().sum()"
   ]
  },
  {
   "cell_type": "markdown",
   "metadata": {},
   "source": [
    "Terjadinya *Missing Value* pada dataset Transjakarta bukan semerta-merta hanya kekosongan biasa, pasti ada sebab yang krusial dari perangkat maupun sistem Transjakarta pada lokasi Halte. Sehingga pihak Transjakarta harus memeriksa kembali perangkat dan sistem agar tidak terjadi hal serupa."
   ]
  },
  {
   "cell_type": "markdown",
   "metadata": {},
   "source": [
    "## TAMBAH DAN MODIF DATA ##"
   ]
  },
  {
   "cell_type": "code",
   "execution_count": 677,
   "metadata": {},
   "outputs": [],
   "source": [
    "df['tapInTime'] = pd.to_datetime(df['tapInTime'])\n",
    "df['tapOutTime'] = pd.to_datetime(df['tapOutTime'])"
   ]
  },
  {
   "cell_type": "code",
   "execution_count": 678,
   "metadata": {},
   "outputs": [
    {
     "data": {
      "text/html": [
       "<div>\n",
       "<style scoped>\n",
       "    .dataframe tbody tr th:only-of-type {\n",
       "        vertical-align: middle;\n",
       "    }\n",
       "\n",
       "    .dataframe tbody tr th {\n",
       "        vertical-align: top;\n",
       "    }\n",
       "\n",
       "    .dataframe thead th {\n",
       "        text-align: right;\n",
       "    }\n",
       "</style>\n",
       "<table border=\"1\" class=\"dataframe\">\n",
       "  <thead>\n",
       "    <tr style=\"text-align: right;\">\n",
       "      <th></th>\n",
       "      <th>transID</th>\n",
       "      <th>payCardID</th>\n",
       "      <th>payCardBank</th>\n",
       "      <th>payCardName</th>\n",
       "      <th>payCardSex</th>\n",
       "      <th>payCardBirthDate</th>\n",
       "      <th>corridorID</th>\n",
       "      <th>corridorName</th>\n",
       "      <th>direction</th>\n",
       "      <th>tapInStops</th>\n",
       "      <th>...</th>\n",
       "      <th>tapInStopsLon</th>\n",
       "      <th>stopStartSeq</th>\n",
       "      <th>tapInTime</th>\n",
       "      <th>tapOutStops</th>\n",
       "      <th>tapOutStopsName</th>\n",
       "      <th>tapOutStopsLat</th>\n",
       "      <th>tapOutStopsLon</th>\n",
       "      <th>stopEndSeq</th>\n",
       "      <th>tapOutTime</th>\n",
       "      <th>payAmount</th>\n",
       "    </tr>\n",
       "  </thead>\n",
       "  <tbody>\n",
       "    <tr>\n",
       "      <th>0</th>\n",
       "      <td>EIIW227B8L34VB</td>\n",
       "      <td>180062659848800</td>\n",
       "      <td>emoney</td>\n",
       "      <td>Bajragin Usada</td>\n",
       "      <td>M</td>\n",
       "      <td>2008</td>\n",
       "      <td>5</td>\n",
       "      <td>Matraman Baru - Ancol 5</td>\n",
       "      <td>1.0</td>\n",
       "      <td>P00142</td>\n",
       "      <td>...</td>\n",
       "      <td>106.84402</td>\n",
       "      <td>7</td>\n",
       "      <td>2023-04-03 05:21:44</td>\n",
       "      <td>P00253</td>\n",
       "      <td>Tegalan</td>\n",
       "      <td>-6.203101</td>\n",
       "      <td>106.85715</td>\n",
       "      <td>12.0</td>\n",
       "      <td>2023-04-03 06:00:53</td>\n",
       "      <td>3500.0</td>\n",
       "    </tr>\n",
       "    <tr>\n",
       "      <th>1</th>\n",
       "      <td>LGXO740D2N47GZ</td>\n",
       "      <td>4885331907664776</td>\n",
       "      <td>dki</td>\n",
       "      <td>Gandi Widodo</td>\n",
       "      <td>F</td>\n",
       "      <td>1997</td>\n",
       "      <td>6C</td>\n",
       "      <td>Stasiun Tebet - Karet via Patra Kuningan</td>\n",
       "      <td>0.0</td>\n",
       "      <td>B01963P</td>\n",
       "      <td>...</td>\n",
       "      <td>106.83302</td>\n",
       "      <td>13</td>\n",
       "      <td>2023-04-03 05:42:44</td>\n",
       "      <td>B03307P</td>\n",
       "      <td>Sampoerna Strategic</td>\n",
       "      <td>-6.217152</td>\n",
       "      <td>106.81892</td>\n",
       "      <td>21.0</td>\n",
       "      <td>2023-04-03 06:40:01</td>\n",
       "      <td>3500.0</td>\n",
       "    </tr>\n",
       "    <tr>\n",
       "      <th>2</th>\n",
       "      <td>DJWR385V2U57TO</td>\n",
       "      <td>4996225095064169</td>\n",
       "      <td>dki</td>\n",
       "      <td>Emong Wastuti</td>\n",
       "      <td>F</td>\n",
       "      <td>1992</td>\n",
       "      <td>R1A</td>\n",
       "      <td>Pantai Maju - Kota</td>\n",
       "      <td>0.0</td>\n",
       "      <td>B00499P</td>\n",
       "      <td>...</td>\n",
       "      <td>106.81435</td>\n",
       "      <td>38</td>\n",
       "      <td>2023-04-03 05:59:06</td>\n",
       "      <td>B04962P</td>\n",
       "      <td>Simpang Kunir Kemukus</td>\n",
       "      <td>-6.133731</td>\n",
       "      <td>106.81475</td>\n",
       "      <td>39.0</td>\n",
       "      <td>2023-04-03 06:50:55</td>\n",
       "      <td>3500.0</td>\n",
       "    </tr>\n",
       "    <tr>\n",
       "      <th>3</th>\n",
       "      <td>JTUZ800U7C86EH</td>\n",
       "      <td>639099174703</td>\n",
       "      <td>flazz</td>\n",
       "      <td>Surya Wacana</td>\n",
       "      <td>F</td>\n",
       "      <td>1978</td>\n",
       "      <td>11D</td>\n",
       "      <td>Pulo Gebang - Pulo Gadung 2 via PIK</td>\n",
       "      <td>0.0</td>\n",
       "      <td>B05587P</td>\n",
       "      <td>...</td>\n",
       "      <td>106.93526</td>\n",
       "      <td>23</td>\n",
       "      <td>2023-04-03 05:44:51</td>\n",
       "      <td>B03090P</td>\n",
       "      <td>Raya Penggilingan</td>\n",
       "      <td>-6.183068</td>\n",
       "      <td>106.93194</td>\n",
       "      <td>29.0</td>\n",
       "      <td>2023-04-03 06:28:16</td>\n",
       "      <td>3500.0</td>\n",
       "    </tr>\n",
       "    <tr>\n",
       "      <th>4</th>\n",
       "      <td>VMLO535V7F95NJ</td>\n",
       "      <td>570928206772</td>\n",
       "      <td>flazz</td>\n",
       "      <td>Embuh Mardhiyah</td>\n",
       "      <td>M</td>\n",
       "      <td>1982</td>\n",
       "      <td>12</td>\n",
       "      <td>Tanjung Priok - Pluit</td>\n",
       "      <td>0.0</td>\n",
       "      <td>P00239</td>\n",
       "      <td>...</td>\n",
       "      <td>106.88900</td>\n",
       "      <td>5</td>\n",
       "      <td>2023-04-03 06:17:35</td>\n",
       "      <td>P00098</td>\n",
       "      <td>Kali Besar Barat</td>\n",
       "      <td>-6.135355</td>\n",
       "      <td>106.81143</td>\n",
       "      <td>15.0</td>\n",
       "      <td>2023-04-03 06:57:03</td>\n",
       "      <td>3500.0</td>\n",
       "    </tr>\n",
       "  </tbody>\n",
       "</table>\n",
       "<p>5 rows × 22 columns</p>\n",
       "</div>"
      ],
      "text/plain": [
       "          transID         payCardID payCardBank      payCardName payCardSex  \\\n",
       "0  EIIW227B8L34VB   180062659848800      emoney   Bajragin Usada          M   \n",
       "1  LGXO740D2N47GZ  4885331907664776         dki     Gandi Widodo          F   \n",
       "2  DJWR385V2U57TO  4996225095064169         dki    Emong Wastuti          F   \n",
       "3  JTUZ800U7C86EH      639099174703       flazz     Surya Wacana          F   \n",
       "4  VMLO535V7F95NJ      570928206772       flazz  Embuh Mardhiyah          M   \n",
       "\n",
       "   payCardBirthDate corridorID                              corridorName  \\\n",
       "0              2008          5                   Matraman Baru - Ancol 5   \n",
       "1              1997         6C  Stasiun Tebet - Karet via Patra Kuningan   \n",
       "2              1992        R1A                        Pantai Maju - Kota   \n",
       "3              1978        11D       Pulo Gebang - Pulo Gadung 2 via PIK   \n",
       "4              1982         12                     Tanjung Priok - Pluit   \n",
       "\n",
       "   direction tapInStops  ... tapInStopsLon  stopStartSeq           tapInTime  \\\n",
       "0        1.0     P00142  ...     106.84402             7 2023-04-03 05:21:44   \n",
       "1        0.0    B01963P  ...     106.83302            13 2023-04-03 05:42:44   \n",
       "2        0.0    B00499P  ...     106.81435            38 2023-04-03 05:59:06   \n",
       "3        0.0    B05587P  ...     106.93526            23 2023-04-03 05:44:51   \n",
       "4        0.0     P00239  ...     106.88900             5 2023-04-03 06:17:35   \n",
       "\n",
       "   tapOutStops        tapOutStopsName tapOutStopsLat tapOutStopsLon  \\\n",
       "0       P00253                Tegalan      -6.203101      106.85715   \n",
       "1      B03307P    Sampoerna Strategic      -6.217152      106.81892   \n",
       "2      B04962P  Simpang Kunir Kemukus      -6.133731      106.81475   \n",
       "3      B03090P      Raya Penggilingan      -6.183068      106.93194   \n",
       "4       P00098       Kali Besar Barat      -6.135355      106.81143   \n",
       "\n",
       "   stopEndSeq          tapOutTime  payAmount  \n",
       "0        12.0 2023-04-03 06:00:53     3500.0  \n",
       "1        21.0 2023-04-03 06:40:01     3500.0  \n",
       "2        39.0 2023-04-03 06:50:55     3500.0  \n",
       "3        29.0 2023-04-03 06:28:16     3500.0  \n",
       "4        15.0 2023-04-03 06:57:03     3500.0  \n",
       "\n",
       "[5 rows x 22 columns]"
      ]
     },
     "execution_count": 678,
     "metadata": {},
     "output_type": "execute_result"
    }
   ],
   "source": [
    "df.head()"
   ]
  },
  {
   "cell_type": "markdown",
   "metadata": {},
   "source": [
    "## ANALISIS DATA ##\n",
    "\n",
    "### IDENTITAS CUSTOMER ###\n",
    "Analisis pertama yang dilakukan adalah mengetahui identitas tiap penumpang dari dataset Transjakarta. Identitas sederhana yang terdapat pada dataset adalah Jenis Kelamin dan Tahun Kelahiran tiap pengguna. Maka dari itu kita dapat melakukan analsisis proporsi tiap pengguna berdasarkan Jenis Kelamin dan Umur Pengguna."
   ]
  },
  {
   "cell_type": "code",
   "execution_count": 679,
   "metadata": {},
   "outputs": [
    {
     "data": {
      "text/html": [
       "<div>\n",
       "<style scoped>\n",
       "    .dataframe tbody tr th:only-of-type {\n",
       "        vertical-align: middle;\n",
       "    }\n",
       "\n",
       "    .dataframe tbody tr th {\n",
       "        vertical-align: top;\n",
       "    }\n",
       "\n",
       "    .dataframe thead th {\n",
       "        text-align: right;\n",
       "    }\n",
       "</style>\n",
       "<table border=\"1\" class=\"dataframe\">\n",
       "  <thead>\n",
       "    <tr style=\"text-align: right;\">\n",
       "      <th></th>\n",
       "      <th>payCardName</th>\n",
       "      <th>payCardSex</th>\n",
       "      <th>payCardBirthDate</th>\n",
       "    </tr>\n",
       "  </thead>\n",
       "  <tbody>\n",
       "    <tr>\n",
       "      <th>0</th>\n",
       "      <td>Bajragin Usada</td>\n",
       "      <td>M</td>\n",
       "      <td>2008</td>\n",
       "    </tr>\n",
       "    <tr>\n",
       "      <th>1</th>\n",
       "      <td>Gandi Widodo</td>\n",
       "      <td>F</td>\n",
       "      <td>1997</td>\n",
       "    </tr>\n",
       "    <tr>\n",
       "      <th>2</th>\n",
       "      <td>Emong Wastuti</td>\n",
       "      <td>F</td>\n",
       "      <td>1992</td>\n",
       "    </tr>\n",
       "    <tr>\n",
       "      <th>3</th>\n",
       "      <td>Surya Wacana</td>\n",
       "      <td>F</td>\n",
       "      <td>1978</td>\n",
       "    </tr>\n",
       "    <tr>\n",
       "      <th>4</th>\n",
       "      <td>Embuh Mardhiyah</td>\n",
       "      <td>M</td>\n",
       "      <td>1982</td>\n",
       "    </tr>\n",
       "    <tr>\n",
       "      <th>...</th>\n",
       "      <td>...</td>\n",
       "      <td>...</td>\n",
       "      <td>...</td>\n",
       "    </tr>\n",
       "    <tr>\n",
       "      <th>37895</th>\n",
       "      <td>Kamila Mahendra</td>\n",
       "      <td>F</td>\n",
       "      <td>2004</td>\n",
       "    </tr>\n",
       "    <tr>\n",
       "      <th>37896</th>\n",
       "      <td>Titi Siregar</td>\n",
       "      <td>M</td>\n",
       "      <td>1974</td>\n",
       "    </tr>\n",
       "    <tr>\n",
       "      <th>37897</th>\n",
       "      <td>drg. Zahra Nashiruddin</td>\n",
       "      <td>F</td>\n",
       "      <td>1976</td>\n",
       "    </tr>\n",
       "    <tr>\n",
       "      <th>37898</th>\n",
       "      <td>Ana Agustina</td>\n",
       "      <td>M</td>\n",
       "      <td>1976</td>\n",
       "    </tr>\n",
       "    <tr>\n",
       "      <th>37899</th>\n",
       "      <td>drg. Leo Najmudin</td>\n",
       "      <td>F</td>\n",
       "      <td>1985</td>\n",
       "    </tr>\n",
       "  </tbody>\n",
       "</table>\n",
       "<p>31730 rows × 3 columns</p>\n",
       "</div>"
      ],
      "text/plain": [
       "                  payCardName payCardSex  payCardBirthDate\n",
       "0              Bajragin Usada          M              2008\n",
       "1                Gandi Widodo          F              1997\n",
       "2               Emong Wastuti          F              1992\n",
       "3                Surya Wacana          F              1978\n",
       "4             Embuh Mardhiyah          M              1982\n",
       "...                       ...        ...               ...\n",
       "37895         Kamila Mahendra          F              2004\n",
       "37896            Titi Siregar          M              1974\n",
       "37897  drg. Zahra Nashiruddin          F              1976\n",
       "37898            Ana Agustina          M              1976\n",
       "37899       drg. Leo Najmudin          F              1985\n",
       "\n",
       "[31730 rows x 3 columns]"
      ]
     },
     "execution_count": 679,
     "metadata": {},
     "output_type": "execute_result"
    }
   ],
   "source": [
    "identity = df[['payCardName','payCardSex','payCardBirthDate']]\n",
    "identity"
   ]
  },
  {
   "cell_type": "code",
   "execution_count": 680,
   "metadata": {},
   "outputs": [
    {
     "name": "stderr",
     "output_type": "stream",
     "text": [
      "/var/folders/jp/kqzf5z7d4gg594lx82fkysvh0000gn/T/ipykernel_15472/3933677028.py:2: SettingWithCopyWarning:\n",
      "\n",
      "\n",
      "A value is trying to be set on a copy of a slice from a DataFrame.\n",
      "Try using .loc[row_indexer,col_indexer] = value instead\n",
      "\n",
      "See the caveats in the documentation: https://pandas.pydata.org/pandas-docs/stable/user_guide/indexing.html#returning-a-view-versus-a-copy\n",
      "\n"
     ]
    }
   ],
   "source": [
    "year = 2023\n",
    "identity['payCardAge'] = year - identity['payCardBirthDate']"
   ]
  },
  {
   "cell_type": "code",
   "execution_count": 681,
   "metadata": {},
   "outputs": [
    {
     "name": "stderr",
     "output_type": "stream",
     "text": [
      "/var/folders/jp/kqzf5z7d4gg594lx82fkysvh0000gn/T/ipykernel_15472/2789341231.py:11: SettingWithCopyWarning:\n",
      "\n",
      "\n",
      "A value is trying to be set on a copy of a slice from a DataFrame.\n",
      "Try using .loc[row_indexer,col_indexer] = value instead\n",
      "\n",
      "See the caveats in the documentation: https://pandas.pydata.org/pandas-docs/stable/user_guide/indexing.html#returning-a-view-versus-a-copy\n",
      "\n"
     ]
    },
    {
     "data": {
      "text/html": [
       "<div>\n",
       "<style scoped>\n",
       "    .dataframe tbody tr th:only-of-type {\n",
       "        vertical-align: middle;\n",
       "    }\n",
       "\n",
       "    .dataframe tbody tr th {\n",
       "        vertical-align: top;\n",
       "    }\n",
       "\n",
       "    .dataframe thead th {\n",
       "        text-align: right;\n",
       "    }\n",
       "</style>\n",
       "<table border=\"1\" class=\"dataframe\">\n",
       "  <thead>\n",
       "    <tr style=\"text-align: right;\">\n",
       "      <th></th>\n",
       "      <th>payCardName</th>\n",
       "      <th>payCardSex</th>\n",
       "      <th>payCardBirthDate</th>\n",
       "      <th>payCardAge</th>\n",
       "      <th>payCardAgeCategory</th>\n",
       "    </tr>\n",
       "  </thead>\n",
       "  <tbody>\n",
       "    <tr>\n",
       "      <th>0</th>\n",
       "      <td>Bajragin Usada</td>\n",
       "      <td>M</td>\n",
       "      <td>2008</td>\n",
       "      <td>15</td>\n",
       "      <td>Remaja</td>\n",
       "    </tr>\n",
       "    <tr>\n",
       "      <th>1</th>\n",
       "      <td>Gandi Widodo</td>\n",
       "      <td>F</td>\n",
       "      <td>1997</td>\n",
       "      <td>26</td>\n",
       "      <td>Dewasa</td>\n",
       "    </tr>\n",
       "    <tr>\n",
       "      <th>2</th>\n",
       "      <td>Emong Wastuti</td>\n",
       "      <td>F</td>\n",
       "      <td>1992</td>\n",
       "      <td>31</td>\n",
       "      <td>Dewasa</td>\n",
       "    </tr>\n",
       "    <tr>\n",
       "      <th>3</th>\n",
       "      <td>Surya Wacana</td>\n",
       "      <td>F</td>\n",
       "      <td>1978</td>\n",
       "      <td>45</td>\n",
       "      <td>Dewasa</td>\n",
       "    </tr>\n",
       "    <tr>\n",
       "      <th>4</th>\n",
       "      <td>Embuh Mardhiyah</td>\n",
       "      <td>M</td>\n",
       "      <td>1982</td>\n",
       "      <td>41</td>\n",
       "      <td>Dewasa</td>\n",
       "    </tr>\n",
       "    <tr>\n",
       "      <th>...</th>\n",
       "      <td>...</td>\n",
       "      <td>...</td>\n",
       "      <td>...</td>\n",
       "      <td>...</td>\n",
       "      <td>...</td>\n",
       "    </tr>\n",
       "    <tr>\n",
       "      <th>37895</th>\n",
       "      <td>Kamila Mahendra</td>\n",
       "      <td>F</td>\n",
       "      <td>2004</td>\n",
       "      <td>19</td>\n",
       "      <td>Remaja</td>\n",
       "    </tr>\n",
       "    <tr>\n",
       "      <th>37896</th>\n",
       "      <td>Titi Siregar</td>\n",
       "      <td>M</td>\n",
       "      <td>1974</td>\n",
       "      <td>49</td>\n",
       "      <td>Lansia</td>\n",
       "    </tr>\n",
       "    <tr>\n",
       "      <th>37897</th>\n",
       "      <td>drg. Zahra Nashiruddin</td>\n",
       "      <td>F</td>\n",
       "      <td>1976</td>\n",
       "      <td>47</td>\n",
       "      <td>Lansia</td>\n",
       "    </tr>\n",
       "    <tr>\n",
       "      <th>37898</th>\n",
       "      <td>Ana Agustina</td>\n",
       "      <td>M</td>\n",
       "      <td>1976</td>\n",
       "      <td>47</td>\n",
       "      <td>Lansia</td>\n",
       "    </tr>\n",
       "    <tr>\n",
       "      <th>37899</th>\n",
       "      <td>drg. Leo Najmudin</td>\n",
       "      <td>F</td>\n",
       "      <td>1985</td>\n",
       "      <td>38</td>\n",
       "      <td>Dewasa</td>\n",
       "    </tr>\n",
       "  </tbody>\n",
       "</table>\n",
       "<p>31730 rows × 5 columns</p>\n",
       "</div>"
      ],
      "text/plain": [
       "                  payCardName payCardSex  payCardBirthDate  payCardAge  \\\n",
       "0              Bajragin Usada          M              2008          15   \n",
       "1                Gandi Widodo          F              1997          26   \n",
       "2               Emong Wastuti          F              1992          31   \n",
       "3                Surya Wacana          F              1978          45   \n",
       "4             Embuh Mardhiyah          M              1982          41   \n",
       "...                       ...        ...               ...         ...   \n",
       "37895         Kamila Mahendra          F              2004          19   \n",
       "37896            Titi Siregar          M              1974          49   \n",
       "37897  drg. Zahra Nashiruddin          F              1976          47   \n",
       "37898            Ana Agustina          M              1976          47   \n",
       "37899       drg. Leo Najmudin          F              1985          38   \n",
       "\n",
       "      payCardAgeCategory  \n",
       "0                 Remaja  \n",
       "1                 Dewasa  \n",
       "2                 Dewasa  \n",
       "3                 Dewasa  \n",
       "4                 Dewasa  \n",
       "...                  ...  \n",
       "37895             Remaja  \n",
       "37896             Lansia  \n",
       "37897             Lansia  \n",
       "37898             Lansia  \n",
       "37899             Dewasa  \n",
       "\n",
       "[31730 rows x 5 columns]"
      ]
     },
     "execution_count": 681,
     "metadata": {},
     "output_type": "execute_result"
    }
   ],
   "source": [
    "def payCardAgeCategory(num):\n",
    "    if num < 12:\n",
    "        return 'Kanak-Kanak'\n",
    "    elif num < 26:\n",
    "        return 'Remaja'\n",
    "    elif num < 46:\n",
    "        return 'Dewasa'\n",
    "    else:\n",
    "        return 'Lansia'\n",
    "\n",
    "identity['payCardAgeCategory'] = identity['payCardAge'].apply(payCardAgeCategory)\n",
    "df['payCardAgeCategory'] = identity['payCardAge'].apply(payCardAgeCategory)\n",
    "identity"
   ]
  },
  {
   "cell_type": "code",
   "execution_count": 682,
   "metadata": {},
   "outputs": [
    {
     "data": {
      "text/html": [
       "<div>\n",
       "<style scoped>\n",
       "    .dataframe tbody tr th:only-of-type {\n",
       "        vertical-align: middle;\n",
       "    }\n",
       "\n",
       "    .dataframe tbody tr th {\n",
       "        vertical-align: top;\n",
       "    }\n",
       "\n",
       "    .dataframe thead th {\n",
       "        text-align: right;\n",
       "    }\n",
       "</style>\n",
       "<table border=\"1\" class=\"dataframe\">\n",
       "  <thead>\n",
       "    <tr style=\"text-align: right;\">\n",
       "      <th></th>\n",
       "      <th>payCardAgeCategory</th>\n",
       "      <th>count</th>\n",
       "    </tr>\n",
       "  </thead>\n",
       "  <tbody>\n",
       "    <tr>\n",
       "      <th>0</th>\n",
       "      <td>Dewasa</td>\n",
       "      <td>17113</td>\n",
       "    </tr>\n",
       "    <tr>\n",
       "      <th>1</th>\n",
       "      <td>Remaja</td>\n",
       "      <td>8805</td>\n",
       "    </tr>\n",
       "    <tr>\n",
       "      <th>2</th>\n",
       "      <td>Lansia</td>\n",
       "      <td>5122</td>\n",
       "    </tr>\n",
       "    <tr>\n",
       "      <th>3</th>\n",
       "      <td>Kanak-Kanak</td>\n",
       "      <td>690</td>\n",
       "    </tr>\n",
       "  </tbody>\n",
       "</table>\n",
       "</div>"
      ],
      "text/plain": [
       "  payCardAgeCategory  count\n",
       "0             Dewasa  17113\n",
       "1             Remaja   8805\n",
       "2             Lansia   5122\n",
       "3        Kanak-Kanak    690"
      ]
     },
     "execution_count": 682,
     "metadata": {},
     "output_type": "execute_result"
    }
   ],
   "source": [
    "ageCategory = identity['payCardAgeCategory'].value_counts().to_frame().reset_index()\n",
    "ageCategory"
   ]
  },
  {
   "cell_type": "code",
   "execution_count": 683,
   "metadata": {},
   "outputs": [
    {
     "data": {
      "application/vnd.plotly.v1+json": {
       "config": {
        "plotlyServerURL": "https://plot.ly"
       },
       "data": [
        {
         "alignmentgroup": "True",
         "hovertemplate": "payCardAgeCategory=%{x}<br>count=%{y}<extra></extra>",
         "legendgroup": "",
         "marker": {
          "color": "#636efa",
          "pattern": {
           "shape": ""
          }
         },
         "name": "",
         "offsetgroup": "",
         "orientation": "v",
         "showlegend": false,
         "textposition": "auto",
         "type": "bar",
         "x": [
          "Dewasa",
          "Remaja",
          "Lansia",
          "Kanak-Kanak"
         ],
         "xaxis": "x",
         "y": [
          17113,
          8805,
          5122,
          690
         ],
         "yaxis": "y"
        }
       ],
       "layout": {
        "barmode": "relative",
        "legend": {
         "tracegroupgap": 0
        },
        "template": {
         "data": {
          "bar": [
           {
            "error_x": {
             "color": "#2a3f5f"
            },
            "error_y": {
             "color": "#2a3f5f"
            },
            "marker": {
             "line": {
              "color": "#E5ECF6",
              "width": 0.5
             },
             "pattern": {
              "fillmode": "overlay",
              "size": 10,
              "solidity": 0.2
             }
            },
            "type": "bar"
           }
          ],
          "barpolar": [
           {
            "marker": {
             "line": {
              "color": "#E5ECF6",
              "width": 0.5
             },
             "pattern": {
              "fillmode": "overlay",
              "size": 10,
              "solidity": 0.2
             }
            },
            "type": "barpolar"
           }
          ],
          "carpet": [
           {
            "aaxis": {
             "endlinecolor": "#2a3f5f",
             "gridcolor": "white",
             "linecolor": "white",
             "minorgridcolor": "white",
             "startlinecolor": "#2a3f5f"
            },
            "baxis": {
             "endlinecolor": "#2a3f5f",
             "gridcolor": "white",
             "linecolor": "white",
             "minorgridcolor": "white",
             "startlinecolor": "#2a3f5f"
            },
            "type": "carpet"
           }
          ],
          "choropleth": [
           {
            "colorbar": {
             "outlinewidth": 0,
             "ticks": ""
            },
            "type": "choropleth"
           }
          ],
          "contour": [
           {
            "colorbar": {
             "outlinewidth": 0,
             "ticks": ""
            },
            "colorscale": [
             [
              0,
              "#0d0887"
             ],
             [
              0.1111111111111111,
              "#46039f"
             ],
             [
              0.2222222222222222,
              "#7201a8"
             ],
             [
              0.3333333333333333,
              "#9c179e"
             ],
             [
              0.4444444444444444,
              "#bd3786"
             ],
             [
              0.5555555555555556,
              "#d8576b"
             ],
             [
              0.6666666666666666,
              "#ed7953"
             ],
             [
              0.7777777777777778,
              "#fb9f3a"
             ],
             [
              0.8888888888888888,
              "#fdca26"
             ],
             [
              1,
              "#f0f921"
             ]
            ],
            "type": "contour"
           }
          ],
          "contourcarpet": [
           {
            "colorbar": {
             "outlinewidth": 0,
             "ticks": ""
            },
            "type": "contourcarpet"
           }
          ],
          "heatmap": [
           {
            "colorbar": {
             "outlinewidth": 0,
             "ticks": ""
            },
            "colorscale": [
             [
              0,
              "#0d0887"
             ],
             [
              0.1111111111111111,
              "#46039f"
             ],
             [
              0.2222222222222222,
              "#7201a8"
             ],
             [
              0.3333333333333333,
              "#9c179e"
             ],
             [
              0.4444444444444444,
              "#bd3786"
             ],
             [
              0.5555555555555556,
              "#d8576b"
             ],
             [
              0.6666666666666666,
              "#ed7953"
             ],
             [
              0.7777777777777778,
              "#fb9f3a"
             ],
             [
              0.8888888888888888,
              "#fdca26"
             ],
             [
              1,
              "#f0f921"
             ]
            ],
            "type": "heatmap"
           }
          ],
          "heatmapgl": [
           {
            "colorbar": {
             "outlinewidth": 0,
             "ticks": ""
            },
            "colorscale": [
             [
              0,
              "#0d0887"
             ],
             [
              0.1111111111111111,
              "#46039f"
             ],
             [
              0.2222222222222222,
              "#7201a8"
             ],
             [
              0.3333333333333333,
              "#9c179e"
             ],
             [
              0.4444444444444444,
              "#bd3786"
             ],
             [
              0.5555555555555556,
              "#d8576b"
             ],
             [
              0.6666666666666666,
              "#ed7953"
             ],
             [
              0.7777777777777778,
              "#fb9f3a"
             ],
             [
              0.8888888888888888,
              "#fdca26"
             ],
             [
              1,
              "#f0f921"
             ]
            ],
            "type": "heatmapgl"
           }
          ],
          "histogram": [
           {
            "marker": {
             "pattern": {
              "fillmode": "overlay",
              "size": 10,
              "solidity": 0.2
             }
            },
            "type": "histogram"
           }
          ],
          "histogram2d": [
           {
            "colorbar": {
             "outlinewidth": 0,
             "ticks": ""
            },
            "colorscale": [
             [
              0,
              "#0d0887"
             ],
             [
              0.1111111111111111,
              "#46039f"
             ],
             [
              0.2222222222222222,
              "#7201a8"
             ],
             [
              0.3333333333333333,
              "#9c179e"
             ],
             [
              0.4444444444444444,
              "#bd3786"
             ],
             [
              0.5555555555555556,
              "#d8576b"
             ],
             [
              0.6666666666666666,
              "#ed7953"
             ],
             [
              0.7777777777777778,
              "#fb9f3a"
             ],
             [
              0.8888888888888888,
              "#fdca26"
             ],
             [
              1,
              "#f0f921"
             ]
            ],
            "type": "histogram2d"
           }
          ],
          "histogram2dcontour": [
           {
            "colorbar": {
             "outlinewidth": 0,
             "ticks": ""
            },
            "colorscale": [
             [
              0,
              "#0d0887"
             ],
             [
              0.1111111111111111,
              "#46039f"
             ],
             [
              0.2222222222222222,
              "#7201a8"
             ],
             [
              0.3333333333333333,
              "#9c179e"
             ],
             [
              0.4444444444444444,
              "#bd3786"
             ],
             [
              0.5555555555555556,
              "#d8576b"
             ],
             [
              0.6666666666666666,
              "#ed7953"
             ],
             [
              0.7777777777777778,
              "#fb9f3a"
             ],
             [
              0.8888888888888888,
              "#fdca26"
             ],
             [
              1,
              "#f0f921"
             ]
            ],
            "type": "histogram2dcontour"
           }
          ],
          "mesh3d": [
           {
            "colorbar": {
             "outlinewidth": 0,
             "ticks": ""
            },
            "type": "mesh3d"
           }
          ],
          "parcoords": [
           {
            "line": {
             "colorbar": {
              "outlinewidth": 0,
              "ticks": ""
             }
            },
            "type": "parcoords"
           }
          ],
          "pie": [
           {
            "automargin": true,
            "type": "pie"
           }
          ],
          "scatter": [
           {
            "fillpattern": {
             "fillmode": "overlay",
             "size": 10,
             "solidity": 0.2
            },
            "type": "scatter"
           }
          ],
          "scatter3d": [
           {
            "line": {
             "colorbar": {
              "outlinewidth": 0,
              "ticks": ""
             }
            },
            "marker": {
             "colorbar": {
              "outlinewidth": 0,
              "ticks": ""
             }
            },
            "type": "scatter3d"
           }
          ],
          "scattercarpet": [
           {
            "marker": {
             "colorbar": {
              "outlinewidth": 0,
              "ticks": ""
             }
            },
            "type": "scattercarpet"
           }
          ],
          "scattergeo": [
           {
            "marker": {
             "colorbar": {
              "outlinewidth": 0,
              "ticks": ""
             }
            },
            "type": "scattergeo"
           }
          ],
          "scattergl": [
           {
            "marker": {
             "colorbar": {
              "outlinewidth": 0,
              "ticks": ""
             }
            },
            "type": "scattergl"
           }
          ],
          "scattermapbox": [
           {
            "marker": {
             "colorbar": {
              "outlinewidth": 0,
              "ticks": ""
             }
            },
            "type": "scattermapbox"
           }
          ],
          "scatterpolar": [
           {
            "marker": {
             "colorbar": {
              "outlinewidth": 0,
              "ticks": ""
             }
            },
            "type": "scatterpolar"
           }
          ],
          "scatterpolargl": [
           {
            "marker": {
             "colorbar": {
              "outlinewidth": 0,
              "ticks": ""
             }
            },
            "type": "scatterpolargl"
           }
          ],
          "scatterternary": [
           {
            "marker": {
             "colorbar": {
              "outlinewidth": 0,
              "ticks": ""
             }
            },
            "type": "scatterternary"
           }
          ],
          "surface": [
           {
            "colorbar": {
             "outlinewidth": 0,
             "ticks": ""
            },
            "colorscale": [
             [
              0,
              "#0d0887"
             ],
             [
              0.1111111111111111,
              "#46039f"
             ],
             [
              0.2222222222222222,
              "#7201a8"
             ],
             [
              0.3333333333333333,
              "#9c179e"
             ],
             [
              0.4444444444444444,
              "#bd3786"
             ],
             [
              0.5555555555555556,
              "#d8576b"
             ],
             [
              0.6666666666666666,
              "#ed7953"
             ],
             [
              0.7777777777777778,
              "#fb9f3a"
             ],
             [
              0.8888888888888888,
              "#fdca26"
             ],
             [
              1,
              "#f0f921"
             ]
            ],
            "type": "surface"
           }
          ],
          "table": [
           {
            "cells": {
             "fill": {
              "color": "#EBF0F8"
             },
             "line": {
              "color": "white"
             }
            },
            "header": {
             "fill": {
              "color": "#C8D4E3"
             },
             "line": {
              "color": "white"
             }
            },
            "type": "table"
           }
          ]
         },
         "layout": {
          "annotationdefaults": {
           "arrowcolor": "#2a3f5f",
           "arrowhead": 0,
           "arrowwidth": 1
          },
          "autotypenumbers": "strict",
          "coloraxis": {
           "colorbar": {
            "outlinewidth": 0,
            "ticks": ""
           }
          },
          "colorscale": {
           "diverging": [
            [
             0,
             "#8e0152"
            ],
            [
             0.1,
             "#c51b7d"
            ],
            [
             0.2,
             "#de77ae"
            ],
            [
             0.3,
             "#f1b6da"
            ],
            [
             0.4,
             "#fde0ef"
            ],
            [
             0.5,
             "#f7f7f7"
            ],
            [
             0.6,
             "#e6f5d0"
            ],
            [
             0.7,
             "#b8e186"
            ],
            [
             0.8,
             "#7fbc41"
            ],
            [
             0.9,
             "#4d9221"
            ],
            [
             1,
             "#276419"
            ]
           ],
           "sequential": [
            [
             0,
             "#0d0887"
            ],
            [
             0.1111111111111111,
             "#46039f"
            ],
            [
             0.2222222222222222,
             "#7201a8"
            ],
            [
             0.3333333333333333,
             "#9c179e"
            ],
            [
             0.4444444444444444,
             "#bd3786"
            ],
            [
             0.5555555555555556,
             "#d8576b"
            ],
            [
             0.6666666666666666,
             "#ed7953"
            ],
            [
             0.7777777777777778,
             "#fb9f3a"
            ],
            [
             0.8888888888888888,
             "#fdca26"
            ],
            [
             1,
             "#f0f921"
            ]
           ],
           "sequentialminus": [
            [
             0,
             "#0d0887"
            ],
            [
             0.1111111111111111,
             "#46039f"
            ],
            [
             0.2222222222222222,
             "#7201a8"
            ],
            [
             0.3333333333333333,
             "#9c179e"
            ],
            [
             0.4444444444444444,
             "#bd3786"
            ],
            [
             0.5555555555555556,
             "#d8576b"
            ],
            [
             0.6666666666666666,
             "#ed7953"
            ],
            [
             0.7777777777777778,
             "#fb9f3a"
            ],
            [
             0.8888888888888888,
             "#fdca26"
            ],
            [
             1,
             "#f0f921"
            ]
           ]
          },
          "colorway": [
           "#636efa",
           "#EF553B",
           "#00cc96",
           "#ab63fa",
           "#FFA15A",
           "#19d3f3",
           "#FF6692",
           "#B6E880",
           "#FF97FF",
           "#FECB52"
          ],
          "font": {
           "color": "#2a3f5f"
          },
          "geo": {
           "bgcolor": "white",
           "lakecolor": "white",
           "landcolor": "#E5ECF6",
           "showlakes": true,
           "showland": true,
           "subunitcolor": "white"
          },
          "hoverlabel": {
           "align": "left"
          },
          "hovermode": "closest",
          "mapbox": {
           "style": "light"
          },
          "paper_bgcolor": "white",
          "plot_bgcolor": "#E5ECF6",
          "polar": {
           "angularaxis": {
            "gridcolor": "white",
            "linecolor": "white",
            "ticks": ""
           },
           "bgcolor": "#E5ECF6",
           "radialaxis": {
            "gridcolor": "white",
            "linecolor": "white",
            "ticks": ""
           }
          },
          "scene": {
           "xaxis": {
            "backgroundcolor": "#E5ECF6",
            "gridcolor": "white",
            "gridwidth": 2,
            "linecolor": "white",
            "showbackground": true,
            "ticks": "",
            "zerolinecolor": "white"
           },
           "yaxis": {
            "backgroundcolor": "#E5ECF6",
            "gridcolor": "white",
            "gridwidth": 2,
            "linecolor": "white",
            "showbackground": true,
            "ticks": "",
            "zerolinecolor": "white"
           },
           "zaxis": {
            "backgroundcolor": "#E5ECF6",
            "gridcolor": "white",
            "gridwidth": 2,
            "linecolor": "white",
            "showbackground": true,
            "ticks": "",
            "zerolinecolor": "white"
           }
          },
          "shapedefaults": {
           "line": {
            "color": "#2a3f5f"
           }
          },
          "ternary": {
           "aaxis": {
            "gridcolor": "white",
            "linecolor": "white",
            "ticks": ""
           },
           "baxis": {
            "gridcolor": "white",
            "linecolor": "white",
            "ticks": ""
           },
           "bgcolor": "#E5ECF6",
           "caxis": {
            "gridcolor": "white",
            "linecolor": "white",
            "ticks": ""
           }
          },
          "title": {
           "x": 0.05
          },
          "xaxis": {
           "automargin": true,
           "gridcolor": "white",
           "linecolor": "white",
           "ticks": "",
           "title": {
            "standoff": 15
           },
           "zerolinecolor": "white",
           "zerolinewidth": 2
          },
          "yaxis": {
           "automargin": true,
           "gridcolor": "white",
           "linecolor": "white",
           "ticks": "",
           "title": {
            "standoff": 15
           },
           "zerolinecolor": "white",
           "zerolinewidth": 2
          }
         }
        },
        "title": {
         "text": "Penumpang Berdasarkan Kategori Umur"
        },
        "xaxis": {
         "anchor": "y",
         "domain": [
          0,
          1
         ],
         "title": {
          "text": "payCardAgeCategory"
         }
        },
        "yaxis": {
         "anchor": "x",
         "domain": [
          0,
          1
         ],
         "title": {
          "text": "count"
         }
        }
       }
      }
     },
     "metadata": {},
     "output_type": "display_data"
    }
   ],
   "source": [
    "px.bar(\n",
    "    ageCategory,\n",
    "    x='payCardAgeCategory',\n",
    "    y='count',\n",
    "    title=\"Penumpang Berdasarkan Kategori Umur\"\n",
    ")"
   ]
  },
  {
   "cell_type": "code",
   "execution_count": 684,
   "metadata": {},
   "outputs": [
    {
     "data": {
      "text/html": [
       "<div>\n",
       "<style scoped>\n",
       "    .dataframe tbody tr th:only-of-type {\n",
       "        vertical-align: middle;\n",
       "    }\n",
       "\n",
       "    .dataframe tbody tr th {\n",
       "        vertical-align: top;\n",
       "    }\n",
       "\n",
       "    .dataframe thead th {\n",
       "        text-align: right;\n",
       "    }\n",
       "</style>\n",
       "<table border=\"1\" class=\"dataframe\">\n",
       "  <thead>\n",
       "    <tr style=\"text-align: right;\">\n",
       "      <th></th>\n",
       "      <th>payCardSex</th>\n",
       "      <th>count</th>\n",
       "    </tr>\n",
       "  </thead>\n",
       "  <tbody>\n",
       "    <tr>\n",
       "      <th>0</th>\n",
       "      <td>F</td>\n",
       "      <td>16939</td>\n",
       "    </tr>\n",
       "    <tr>\n",
       "      <th>1</th>\n",
       "      <td>M</td>\n",
       "      <td>14791</td>\n",
       "    </tr>\n",
       "  </tbody>\n",
       "</table>\n",
       "</div>"
      ],
      "text/plain": [
       "  payCardSex  count\n",
       "0          F  16939\n",
       "1          M  14791"
      ]
     },
     "execution_count": 684,
     "metadata": {},
     "output_type": "execute_result"
    }
   ],
   "source": [
    "genderCategory = identity['payCardSex'].value_counts().to_frame().reset_index()\n",
    "genderCategory"
   ]
  },
  {
   "cell_type": "code",
   "execution_count": 685,
   "metadata": {},
   "outputs": [
    {
     "data": {
      "application/vnd.plotly.v1+json": {
       "config": {
        "plotlyServerURL": "https://plot.ly"
       },
       "data": [
        {
         "hole": 0.7,
         "hoverinfo": "label+percent+name",
         "labels": [
          "F",
          "M"
         ],
         "marker": {
          "colors": [
           "Red",
           "LightSkyBlue"
          ]
         },
         "name": "Survive?",
         "type": "pie",
         "values": [
          16939,
          14791
         ]
        }
       ],
       "layout": {
        "annotations": [
         {
          "font": {
           "size": 15
          },
          "showarrow": false,
          "text": "Total Passenger",
          "x": 0.5,
          "y": 0.65
         },
         {
          "font": {
           "size": 40
          },
          "showarrow": false,
          "text": "31730",
          "x": 0.5,
          "y": 0.55
         },
         {
          "font": {
           "size": 15
          },
          "showarrow": false,
          "text": "M",
          "x": 0.481,
          "y": 0.425
         },
         {
          "font": {
           "size": 15
          },
          "showarrow": false,
          "text": "F",
          "x": 0.5409999999999999,
          "y": 0.425
         }
        ],
        "shapes": [
         {
          "fillcolor": "LightSkyBlue",
          "line": {
           "color": "Black",
           "width": 2
          },
          "type": "rect",
          "x0": 0.44999999999999996,
          "x1": 0.47000000000000003,
          "y0": 0.4,
          "y1": 0.45
         },
         {
          "fillcolor": "Red",
          "line": {
           "color": "Black",
           "width": 2
          },
          "type": "rect",
          "x0": 0.51,
          "x1": 0.53,
          "y0": 0.4,
          "y1": 0.45
         }
        ],
        "showlegend": false,
        "template": {
         "data": {
          "bar": [
           {
            "error_x": {
             "color": "#2a3f5f"
            },
            "error_y": {
             "color": "#2a3f5f"
            },
            "marker": {
             "line": {
              "color": "#E5ECF6",
              "width": 0.5
             },
             "pattern": {
              "fillmode": "overlay",
              "size": 10,
              "solidity": 0.2
             }
            },
            "type": "bar"
           }
          ],
          "barpolar": [
           {
            "marker": {
             "line": {
              "color": "#E5ECF6",
              "width": 0.5
             },
             "pattern": {
              "fillmode": "overlay",
              "size": 10,
              "solidity": 0.2
             }
            },
            "type": "barpolar"
           }
          ],
          "carpet": [
           {
            "aaxis": {
             "endlinecolor": "#2a3f5f",
             "gridcolor": "white",
             "linecolor": "white",
             "minorgridcolor": "white",
             "startlinecolor": "#2a3f5f"
            },
            "baxis": {
             "endlinecolor": "#2a3f5f",
             "gridcolor": "white",
             "linecolor": "white",
             "minorgridcolor": "white",
             "startlinecolor": "#2a3f5f"
            },
            "type": "carpet"
           }
          ],
          "choropleth": [
           {
            "colorbar": {
             "outlinewidth": 0,
             "ticks": ""
            },
            "type": "choropleth"
           }
          ],
          "contour": [
           {
            "colorbar": {
             "outlinewidth": 0,
             "ticks": ""
            },
            "colorscale": [
             [
              0,
              "#0d0887"
             ],
             [
              0.1111111111111111,
              "#46039f"
             ],
             [
              0.2222222222222222,
              "#7201a8"
             ],
             [
              0.3333333333333333,
              "#9c179e"
             ],
             [
              0.4444444444444444,
              "#bd3786"
             ],
             [
              0.5555555555555556,
              "#d8576b"
             ],
             [
              0.6666666666666666,
              "#ed7953"
             ],
             [
              0.7777777777777778,
              "#fb9f3a"
             ],
             [
              0.8888888888888888,
              "#fdca26"
             ],
             [
              1,
              "#f0f921"
             ]
            ],
            "type": "contour"
           }
          ],
          "contourcarpet": [
           {
            "colorbar": {
             "outlinewidth": 0,
             "ticks": ""
            },
            "type": "contourcarpet"
           }
          ],
          "heatmap": [
           {
            "colorbar": {
             "outlinewidth": 0,
             "ticks": ""
            },
            "colorscale": [
             [
              0,
              "#0d0887"
             ],
             [
              0.1111111111111111,
              "#46039f"
             ],
             [
              0.2222222222222222,
              "#7201a8"
             ],
             [
              0.3333333333333333,
              "#9c179e"
             ],
             [
              0.4444444444444444,
              "#bd3786"
             ],
             [
              0.5555555555555556,
              "#d8576b"
             ],
             [
              0.6666666666666666,
              "#ed7953"
             ],
             [
              0.7777777777777778,
              "#fb9f3a"
             ],
             [
              0.8888888888888888,
              "#fdca26"
             ],
             [
              1,
              "#f0f921"
             ]
            ],
            "type": "heatmap"
           }
          ],
          "heatmapgl": [
           {
            "colorbar": {
             "outlinewidth": 0,
             "ticks": ""
            },
            "colorscale": [
             [
              0,
              "#0d0887"
             ],
             [
              0.1111111111111111,
              "#46039f"
             ],
             [
              0.2222222222222222,
              "#7201a8"
             ],
             [
              0.3333333333333333,
              "#9c179e"
             ],
             [
              0.4444444444444444,
              "#bd3786"
             ],
             [
              0.5555555555555556,
              "#d8576b"
             ],
             [
              0.6666666666666666,
              "#ed7953"
             ],
             [
              0.7777777777777778,
              "#fb9f3a"
             ],
             [
              0.8888888888888888,
              "#fdca26"
             ],
             [
              1,
              "#f0f921"
             ]
            ],
            "type": "heatmapgl"
           }
          ],
          "histogram": [
           {
            "marker": {
             "pattern": {
              "fillmode": "overlay",
              "size": 10,
              "solidity": 0.2
             }
            },
            "type": "histogram"
           }
          ],
          "histogram2d": [
           {
            "colorbar": {
             "outlinewidth": 0,
             "ticks": ""
            },
            "colorscale": [
             [
              0,
              "#0d0887"
             ],
             [
              0.1111111111111111,
              "#46039f"
             ],
             [
              0.2222222222222222,
              "#7201a8"
             ],
             [
              0.3333333333333333,
              "#9c179e"
             ],
             [
              0.4444444444444444,
              "#bd3786"
             ],
             [
              0.5555555555555556,
              "#d8576b"
             ],
             [
              0.6666666666666666,
              "#ed7953"
             ],
             [
              0.7777777777777778,
              "#fb9f3a"
             ],
             [
              0.8888888888888888,
              "#fdca26"
             ],
             [
              1,
              "#f0f921"
             ]
            ],
            "type": "histogram2d"
           }
          ],
          "histogram2dcontour": [
           {
            "colorbar": {
             "outlinewidth": 0,
             "ticks": ""
            },
            "colorscale": [
             [
              0,
              "#0d0887"
             ],
             [
              0.1111111111111111,
              "#46039f"
             ],
             [
              0.2222222222222222,
              "#7201a8"
             ],
             [
              0.3333333333333333,
              "#9c179e"
             ],
             [
              0.4444444444444444,
              "#bd3786"
             ],
             [
              0.5555555555555556,
              "#d8576b"
             ],
             [
              0.6666666666666666,
              "#ed7953"
             ],
             [
              0.7777777777777778,
              "#fb9f3a"
             ],
             [
              0.8888888888888888,
              "#fdca26"
             ],
             [
              1,
              "#f0f921"
             ]
            ],
            "type": "histogram2dcontour"
           }
          ],
          "mesh3d": [
           {
            "colorbar": {
             "outlinewidth": 0,
             "ticks": ""
            },
            "type": "mesh3d"
           }
          ],
          "parcoords": [
           {
            "line": {
             "colorbar": {
              "outlinewidth": 0,
              "ticks": ""
             }
            },
            "type": "parcoords"
           }
          ],
          "pie": [
           {
            "automargin": true,
            "type": "pie"
           }
          ],
          "scatter": [
           {
            "fillpattern": {
             "fillmode": "overlay",
             "size": 10,
             "solidity": 0.2
            },
            "type": "scatter"
           }
          ],
          "scatter3d": [
           {
            "line": {
             "colorbar": {
              "outlinewidth": 0,
              "ticks": ""
             }
            },
            "marker": {
             "colorbar": {
              "outlinewidth": 0,
              "ticks": ""
             }
            },
            "type": "scatter3d"
           }
          ],
          "scattercarpet": [
           {
            "marker": {
             "colorbar": {
              "outlinewidth": 0,
              "ticks": ""
             }
            },
            "type": "scattercarpet"
           }
          ],
          "scattergeo": [
           {
            "marker": {
             "colorbar": {
              "outlinewidth": 0,
              "ticks": ""
             }
            },
            "type": "scattergeo"
           }
          ],
          "scattergl": [
           {
            "marker": {
             "colorbar": {
              "outlinewidth": 0,
              "ticks": ""
             }
            },
            "type": "scattergl"
           }
          ],
          "scattermapbox": [
           {
            "marker": {
             "colorbar": {
              "outlinewidth": 0,
              "ticks": ""
             }
            },
            "type": "scattermapbox"
           }
          ],
          "scatterpolar": [
           {
            "marker": {
             "colorbar": {
              "outlinewidth": 0,
              "ticks": ""
             }
            },
            "type": "scatterpolar"
           }
          ],
          "scatterpolargl": [
           {
            "marker": {
             "colorbar": {
              "outlinewidth": 0,
              "ticks": ""
             }
            },
            "type": "scatterpolargl"
           }
          ],
          "scatterternary": [
           {
            "marker": {
             "colorbar": {
              "outlinewidth": 0,
              "ticks": ""
             }
            },
            "type": "scatterternary"
           }
          ],
          "surface": [
           {
            "colorbar": {
             "outlinewidth": 0,
             "ticks": ""
            },
            "colorscale": [
             [
              0,
              "#0d0887"
             ],
             [
              0.1111111111111111,
              "#46039f"
             ],
             [
              0.2222222222222222,
              "#7201a8"
             ],
             [
              0.3333333333333333,
              "#9c179e"
             ],
             [
              0.4444444444444444,
              "#bd3786"
             ],
             [
              0.5555555555555556,
              "#d8576b"
             ],
             [
              0.6666666666666666,
              "#ed7953"
             ],
             [
              0.7777777777777778,
              "#fb9f3a"
             ],
             [
              0.8888888888888888,
              "#fdca26"
             ],
             [
              1,
              "#f0f921"
             ]
            ],
            "type": "surface"
           }
          ],
          "table": [
           {
            "cells": {
             "fill": {
              "color": "#EBF0F8"
             },
             "line": {
              "color": "white"
             }
            },
            "header": {
             "fill": {
              "color": "#C8D4E3"
             },
             "line": {
              "color": "white"
             }
            },
            "type": "table"
           }
          ]
         },
         "layout": {
          "annotationdefaults": {
           "arrowcolor": "#2a3f5f",
           "arrowhead": 0,
           "arrowwidth": 1
          },
          "autotypenumbers": "strict",
          "coloraxis": {
           "colorbar": {
            "outlinewidth": 0,
            "ticks": ""
           }
          },
          "colorscale": {
           "diverging": [
            [
             0,
             "#8e0152"
            ],
            [
             0.1,
             "#c51b7d"
            ],
            [
             0.2,
             "#de77ae"
            ],
            [
             0.3,
             "#f1b6da"
            ],
            [
             0.4,
             "#fde0ef"
            ],
            [
             0.5,
             "#f7f7f7"
            ],
            [
             0.6,
             "#e6f5d0"
            ],
            [
             0.7,
             "#b8e186"
            ],
            [
             0.8,
             "#7fbc41"
            ],
            [
             0.9,
             "#4d9221"
            ],
            [
             1,
             "#276419"
            ]
           ],
           "sequential": [
            [
             0,
             "#0d0887"
            ],
            [
             0.1111111111111111,
             "#46039f"
            ],
            [
             0.2222222222222222,
             "#7201a8"
            ],
            [
             0.3333333333333333,
             "#9c179e"
            ],
            [
             0.4444444444444444,
             "#bd3786"
            ],
            [
             0.5555555555555556,
             "#d8576b"
            ],
            [
             0.6666666666666666,
             "#ed7953"
            ],
            [
             0.7777777777777778,
             "#fb9f3a"
            ],
            [
             0.8888888888888888,
             "#fdca26"
            ],
            [
             1,
             "#f0f921"
            ]
           ],
           "sequentialminus": [
            [
             0,
             "#0d0887"
            ],
            [
             0.1111111111111111,
             "#46039f"
            ],
            [
             0.2222222222222222,
             "#7201a8"
            ],
            [
             0.3333333333333333,
             "#9c179e"
            ],
            [
             0.4444444444444444,
             "#bd3786"
            ],
            [
             0.5555555555555556,
             "#d8576b"
            ],
            [
             0.6666666666666666,
             "#ed7953"
            ],
            [
             0.7777777777777778,
             "#fb9f3a"
            ],
            [
             0.8888888888888888,
             "#fdca26"
            ],
            [
             1,
             "#f0f921"
            ]
           ]
          },
          "colorway": [
           "#636efa",
           "#EF553B",
           "#00cc96",
           "#ab63fa",
           "#FFA15A",
           "#19d3f3",
           "#FF6692",
           "#B6E880",
           "#FF97FF",
           "#FECB52"
          ],
          "font": {
           "color": "#2a3f5f"
          },
          "geo": {
           "bgcolor": "white",
           "lakecolor": "white",
           "landcolor": "#E5ECF6",
           "showlakes": true,
           "showland": true,
           "subunitcolor": "white"
          },
          "hoverlabel": {
           "align": "left"
          },
          "hovermode": "closest",
          "mapbox": {
           "style": "light"
          },
          "paper_bgcolor": "white",
          "plot_bgcolor": "#E5ECF6",
          "polar": {
           "angularaxis": {
            "gridcolor": "white",
            "linecolor": "white",
            "ticks": ""
           },
           "bgcolor": "#E5ECF6",
           "radialaxis": {
            "gridcolor": "white",
            "linecolor": "white",
            "ticks": ""
           }
          },
          "scene": {
           "xaxis": {
            "backgroundcolor": "#E5ECF6",
            "gridcolor": "white",
            "gridwidth": 2,
            "linecolor": "white",
            "showbackground": true,
            "ticks": "",
            "zerolinecolor": "white"
           },
           "yaxis": {
            "backgroundcolor": "#E5ECF6",
            "gridcolor": "white",
            "gridwidth": 2,
            "linecolor": "white",
            "showbackground": true,
            "ticks": "",
            "zerolinecolor": "white"
           },
           "zaxis": {
            "backgroundcolor": "#E5ECF6",
            "gridcolor": "white",
            "gridwidth": 2,
            "linecolor": "white",
            "showbackground": true,
            "ticks": "",
            "zerolinecolor": "white"
           }
          },
          "shapedefaults": {
           "line": {
            "color": "#2a3f5f"
           }
          },
          "ternary": {
           "aaxis": {
            "gridcolor": "white",
            "linecolor": "white",
            "ticks": ""
           },
           "baxis": {
            "gridcolor": "white",
            "linecolor": "white",
            "ticks": ""
           },
           "bgcolor": "#E5ECF6",
           "caxis": {
            "gridcolor": "white",
            "linecolor": "white",
            "ticks": ""
           }
          },
          "title": {
           "x": 0.05
          },
          "xaxis": {
           "automargin": true,
           "gridcolor": "white",
           "linecolor": "white",
           "ticks": "",
           "title": {
            "standoff": 15
           },
           "zerolinecolor": "white",
           "zerolinewidth": 2
          },
          "yaxis": {
           "automargin": true,
           "gridcolor": "white",
           "linecolor": "white",
           "ticks": "",
           "title": {
            "standoff": 15
           },
           "zerolinecolor": "white",
           "zerolinewidth": 2
          }
         }
        },
        "title": {
         "text": "Penumpang Berdasarkan Jenis Kelamin"
        }
       }
      }
     },
     "metadata": {},
     "output_type": "display_data"
    }
   ],
   "source": [
    "# Graphic Objects Plotly (Advanced)\n",
    "# Create subplot with 1 row and 2 columns\n",
    "# in matplotlib, this is similar with plt.subplots(1, 2)\n",
    "fig = go.Figure()\n",
    "\n",
    "# Create first pie plot about survival data in coords (1,1)\n",
    "fig.add_trace(go.Pie(labels = genderCategory[\"payCardSex\"], \n",
    "                     values = genderCategory[\"count\"], \n",
    "                     name  = \"Survive?\",\n",
    "                     marker= {'colors': [\"Red\",\"LightSkyBlue\"]}),\n",
    "              )\n",
    "fig.update_traces(hole=0.7, hoverinfo=\"label+percent+name\")\n",
    "\n",
    "fig.update_layout(\n",
    "    title_text=\"Penumpang Berdasarkan Jenis Kelamin\",\n",
    "    showlegend=False,\n",
    "    annotations=[dict(text=\"Total Passenger\", x=0.17+0.33, y=0.65, font_size=15, showarrow=False),\n",
    "                 dict(text=str(genderCategory[\"count\"].sum()), x=0.190+0.31, y=0.55, font_size=40, showarrow=False),\n",
    "                 dict(text=\"M\", x=0.481, y=0.425, font_size=15, showarrow=False),\n",
    "                 dict(text=\"F\", x=0.481+0.06, y=0.425, font_size=15, showarrow=False),\n",
    "                ])\n",
    "\n",
    "# 3. Add two additional boxes\n",
    "## First Box (Blue Color)\n",
    "fig.add_shape(type=\"rect\",\n",
    "    x0=0.1+0.35,\n",
    "    y0=0.40, \n",
    "    x1=0.2+0.27, \n",
    "    y1=0.45,\n",
    "    line=dict(\n",
    "        color=\"Black\",\n",
    "        width=2,\n",
    "    ),\n",
    "    fillcolor=\"LightSkyBlue\",\n",
    ")\n",
    "\n",
    "## Second Box (Red Color)\n",
    "fig.add_shape(type=\"rect\",\n",
    "    x0=0.18+0.06+0.27, \n",
    "    y0=0.40, \n",
    "    x1=0.2+0.06+0.27, \n",
    "    y1=0.45,\n",
    "    line=dict(\n",
    "        color=\"Black\",\n",
    "        width=2,\n",
    "    ),\n",
    "    fillcolor=\"Red\",\n",
    ")\n",
    "\n",
    "# Show the result\n",
    "fig.show()"
   ]
  },
  {
   "cell_type": "code",
   "execution_count": 686,
   "metadata": {},
   "outputs": [
    {
     "data": {
      "text/html": [
       "<div>\n",
       "<style scoped>\n",
       "    .dataframe tbody tr th:only-of-type {\n",
       "        vertical-align: middle;\n",
       "    }\n",
       "\n",
       "    .dataframe tbody tr th {\n",
       "        vertical-align: top;\n",
       "    }\n",
       "\n",
       "    .dataframe thead th {\n",
       "        text-align: right;\n",
       "    }\n",
       "</style>\n",
       "<table border=\"1\" class=\"dataframe\">\n",
       "  <thead>\n",
       "    <tr style=\"text-align: right;\">\n",
       "      <th></th>\n",
       "      <th>payCardAgeCategory</th>\n",
       "      <th>count</th>\n",
       "    </tr>\n",
       "  </thead>\n",
       "  <tbody>\n",
       "    <tr>\n",
       "      <th>0</th>\n",
       "      <td>Dewasa</td>\n",
       "      <td>7523</td>\n",
       "    </tr>\n",
       "    <tr>\n",
       "      <th>1</th>\n",
       "      <td>Lansia</td>\n",
       "      <td>3670</td>\n",
       "    </tr>\n",
       "    <tr>\n",
       "      <th>2</th>\n",
       "      <td>Remaja</td>\n",
       "      <td>3470</td>\n",
       "    </tr>\n",
       "    <tr>\n",
       "      <th>3</th>\n",
       "      <td>Kanak-Kanak</td>\n",
       "      <td>128</td>\n",
       "    </tr>\n",
       "  </tbody>\n",
       "</table>\n",
       "</div>"
      ],
      "text/plain": [
       "  payCardAgeCategory  count\n",
       "0             Dewasa   7523\n",
       "1             Lansia   3670\n",
       "2             Remaja   3470\n",
       "3        Kanak-Kanak    128"
      ]
     },
     "execution_count": 686,
     "metadata": {},
     "output_type": "execute_result"
    }
   ],
   "source": [
    "ageCategoryMale = identity[identity['payCardSex']=='M']['payCardAgeCategory'].value_counts().to_frame().reset_index()\n",
    "ageCategoryMale"
   ]
  },
  {
   "cell_type": "code",
   "execution_count": 687,
   "metadata": {},
   "outputs": [
    {
     "data": {
      "text/html": [
       "<div>\n",
       "<style scoped>\n",
       "    .dataframe tbody tr th:only-of-type {\n",
       "        vertical-align: middle;\n",
       "    }\n",
       "\n",
       "    .dataframe tbody tr th {\n",
       "        vertical-align: top;\n",
       "    }\n",
       "\n",
       "    .dataframe thead th {\n",
       "        text-align: right;\n",
       "    }\n",
       "</style>\n",
       "<table border=\"1\" class=\"dataframe\">\n",
       "  <thead>\n",
       "    <tr style=\"text-align: right;\">\n",
       "      <th></th>\n",
       "      <th>payCardAgeCategory</th>\n",
       "      <th>count</th>\n",
       "    </tr>\n",
       "  </thead>\n",
       "  <tbody>\n",
       "    <tr>\n",
       "      <th>0</th>\n",
       "      <td>Dewasa</td>\n",
       "      <td>9590</td>\n",
       "    </tr>\n",
       "    <tr>\n",
       "      <th>1</th>\n",
       "      <td>Remaja</td>\n",
       "      <td>5335</td>\n",
       "    </tr>\n",
       "    <tr>\n",
       "      <th>2</th>\n",
       "      <td>Lansia</td>\n",
       "      <td>1452</td>\n",
       "    </tr>\n",
       "    <tr>\n",
       "      <th>3</th>\n",
       "      <td>Kanak-Kanak</td>\n",
       "      <td>562</td>\n",
       "    </tr>\n",
       "  </tbody>\n",
       "</table>\n",
       "</div>"
      ],
      "text/plain": [
       "  payCardAgeCategory  count\n",
       "0             Dewasa   9590\n",
       "1             Remaja   5335\n",
       "2             Lansia   1452\n",
       "3        Kanak-Kanak    562"
      ]
     },
     "execution_count": 687,
     "metadata": {},
     "output_type": "execute_result"
    }
   ],
   "source": [
    "ageCategoryFemale = identity[identity['payCardSex']=='F']['payCardAgeCategory'].value_counts().to_frame().reset_index()\n",
    "ageCategoryFemale"
   ]
  },
  {
   "cell_type": "code",
   "execution_count": 688,
   "metadata": {},
   "outputs": [
    {
     "data": {
      "application/vnd.plotly.v1+json": {
       "config": {
        "plotlyServerURL": "https://plot.ly"
       },
       "data": [
        {
         "hoverinfo": "all",
         "name": "Female",
         "orientation": "h",
         "type": "bar",
         "x": [
          9590,
          5335,
          1452,
          562
         ],
         "xaxis": "x",
         "y": [
          "Dewasa",
          "Remaja",
          "Lansia",
          "Kanak-Kanak"
         ],
         "yaxis": "y"
        },
        {
         "hoverinfo": "all",
         "name": "Male",
         "orientation": "h",
         "type": "bar",
         "x": [
          7523,
          3670,
          3470,
          128
         ],
         "xaxis": "x2",
         "y": [
          "Dewasa",
          "Lansia",
          "Remaja",
          "Kanak-Kanak"
         ],
         "yaxis": "y2"
        }
       ],
       "layout": {
        "annotations": [
         {
          "font": {
           "size": 16
          },
          "showarrow": false,
          "text": "Perempuan",
          "x": 0.225,
          "xanchor": "center",
          "xref": "paper",
          "y": 1,
          "yanchor": "bottom",
          "yref": "paper"
         },
         {
          "font": {
           "size": 16
          },
          "showarrow": false,
          "text": "Laki-Laki",
          "x": 0.775,
          "xanchor": "center",
          "xref": "paper",
          "y": 1,
          "yanchor": "bottom",
          "yref": "paper"
         },
         {
          "font": {
           "size": 16
          },
          "showarrow": false,
          "text": "Jumlah Penumpang",
          "x": 0.5,
          "xanchor": "center",
          "xref": "paper",
          "y": 0,
          "yanchor": "top",
          "yref": "paper",
          "yshift": -30
         }
        ],
        "template": {
         "data": {
          "bar": [
           {
            "error_x": {
             "color": "#2a3f5f"
            },
            "error_y": {
             "color": "#2a3f5f"
            },
            "marker": {
             "line": {
              "color": "#E5ECF6",
              "width": 0.5
             },
             "pattern": {
              "fillmode": "overlay",
              "size": 10,
              "solidity": 0.2
             }
            },
            "type": "bar"
           }
          ],
          "barpolar": [
           {
            "marker": {
             "line": {
              "color": "#E5ECF6",
              "width": 0.5
             },
             "pattern": {
              "fillmode": "overlay",
              "size": 10,
              "solidity": 0.2
             }
            },
            "type": "barpolar"
           }
          ],
          "carpet": [
           {
            "aaxis": {
             "endlinecolor": "#2a3f5f",
             "gridcolor": "white",
             "linecolor": "white",
             "minorgridcolor": "white",
             "startlinecolor": "#2a3f5f"
            },
            "baxis": {
             "endlinecolor": "#2a3f5f",
             "gridcolor": "white",
             "linecolor": "white",
             "minorgridcolor": "white",
             "startlinecolor": "#2a3f5f"
            },
            "type": "carpet"
           }
          ],
          "choropleth": [
           {
            "colorbar": {
             "outlinewidth": 0,
             "ticks": ""
            },
            "type": "choropleth"
           }
          ],
          "contour": [
           {
            "colorbar": {
             "outlinewidth": 0,
             "ticks": ""
            },
            "colorscale": [
             [
              0,
              "#0d0887"
             ],
             [
              0.1111111111111111,
              "#46039f"
             ],
             [
              0.2222222222222222,
              "#7201a8"
             ],
             [
              0.3333333333333333,
              "#9c179e"
             ],
             [
              0.4444444444444444,
              "#bd3786"
             ],
             [
              0.5555555555555556,
              "#d8576b"
             ],
             [
              0.6666666666666666,
              "#ed7953"
             ],
             [
              0.7777777777777778,
              "#fb9f3a"
             ],
             [
              0.8888888888888888,
              "#fdca26"
             ],
             [
              1,
              "#f0f921"
             ]
            ],
            "type": "contour"
           }
          ],
          "contourcarpet": [
           {
            "colorbar": {
             "outlinewidth": 0,
             "ticks": ""
            },
            "type": "contourcarpet"
           }
          ],
          "heatmap": [
           {
            "colorbar": {
             "outlinewidth": 0,
             "ticks": ""
            },
            "colorscale": [
             [
              0,
              "#0d0887"
             ],
             [
              0.1111111111111111,
              "#46039f"
             ],
             [
              0.2222222222222222,
              "#7201a8"
             ],
             [
              0.3333333333333333,
              "#9c179e"
             ],
             [
              0.4444444444444444,
              "#bd3786"
             ],
             [
              0.5555555555555556,
              "#d8576b"
             ],
             [
              0.6666666666666666,
              "#ed7953"
             ],
             [
              0.7777777777777778,
              "#fb9f3a"
             ],
             [
              0.8888888888888888,
              "#fdca26"
             ],
             [
              1,
              "#f0f921"
             ]
            ],
            "type": "heatmap"
           }
          ],
          "heatmapgl": [
           {
            "colorbar": {
             "outlinewidth": 0,
             "ticks": ""
            },
            "colorscale": [
             [
              0,
              "#0d0887"
             ],
             [
              0.1111111111111111,
              "#46039f"
             ],
             [
              0.2222222222222222,
              "#7201a8"
             ],
             [
              0.3333333333333333,
              "#9c179e"
             ],
             [
              0.4444444444444444,
              "#bd3786"
             ],
             [
              0.5555555555555556,
              "#d8576b"
             ],
             [
              0.6666666666666666,
              "#ed7953"
             ],
             [
              0.7777777777777778,
              "#fb9f3a"
             ],
             [
              0.8888888888888888,
              "#fdca26"
             ],
             [
              1,
              "#f0f921"
             ]
            ],
            "type": "heatmapgl"
           }
          ],
          "histogram": [
           {
            "marker": {
             "pattern": {
              "fillmode": "overlay",
              "size": 10,
              "solidity": 0.2
             }
            },
            "type": "histogram"
           }
          ],
          "histogram2d": [
           {
            "colorbar": {
             "outlinewidth": 0,
             "ticks": ""
            },
            "colorscale": [
             [
              0,
              "#0d0887"
             ],
             [
              0.1111111111111111,
              "#46039f"
             ],
             [
              0.2222222222222222,
              "#7201a8"
             ],
             [
              0.3333333333333333,
              "#9c179e"
             ],
             [
              0.4444444444444444,
              "#bd3786"
             ],
             [
              0.5555555555555556,
              "#d8576b"
             ],
             [
              0.6666666666666666,
              "#ed7953"
             ],
             [
              0.7777777777777778,
              "#fb9f3a"
             ],
             [
              0.8888888888888888,
              "#fdca26"
             ],
             [
              1,
              "#f0f921"
             ]
            ],
            "type": "histogram2d"
           }
          ],
          "histogram2dcontour": [
           {
            "colorbar": {
             "outlinewidth": 0,
             "ticks": ""
            },
            "colorscale": [
             [
              0,
              "#0d0887"
             ],
             [
              0.1111111111111111,
              "#46039f"
             ],
             [
              0.2222222222222222,
              "#7201a8"
             ],
             [
              0.3333333333333333,
              "#9c179e"
             ],
             [
              0.4444444444444444,
              "#bd3786"
             ],
             [
              0.5555555555555556,
              "#d8576b"
             ],
             [
              0.6666666666666666,
              "#ed7953"
             ],
             [
              0.7777777777777778,
              "#fb9f3a"
             ],
             [
              0.8888888888888888,
              "#fdca26"
             ],
             [
              1,
              "#f0f921"
             ]
            ],
            "type": "histogram2dcontour"
           }
          ],
          "mesh3d": [
           {
            "colorbar": {
             "outlinewidth": 0,
             "ticks": ""
            },
            "type": "mesh3d"
           }
          ],
          "parcoords": [
           {
            "line": {
             "colorbar": {
              "outlinewidth": 0,
              "ticks": ""
             }
            },
            "type": "parcoords"
           }
          ],
          "pie": [
           {
            "automargin": true,
            "type": "pie"
           }
          ],
          "scatter": [
           {
            "fillpattern": {
             "fillmode": "overlay",
             "size": 10,
             "solidity": 0.2
            },
            "type": "scatter"
           }
          ],
          "scatter3d": [
           {
            "line": {
             "colorbar": {
              "outlinewidth": 0,
              "ticks": ""
             }
            },
            "marker": {
             "colorbar": {
              "outlinewidth": 0,
              "ticks": ""
             }
            },
            "type": "scatter3d"
           }
          ],
          "scattercarpet": [
           {
            "marker": {
             "colorbar": {
              "outlinewidth": 0,
              "ticks": ""
             }
            },
            "type": "scattercarpet"
           }
          ],
          "scattergeo": [
           {
            "marker": {
             "colorbar": {
              "outlinewidth": 0,
              "ticks": ""
             }
            },
            "type": "scattergeo"
           }
          ],
          "scattergl": [
           {
            "marker": {
             "colorbar": {
              "outlinewidth": 0,
              "ticks": ""
             }
            },
            "type": "scattergl"
           }
          ],
          "scattermapbox": [
           {
            "marker": {
             "colorbar": {
              "outlinewidth": 0,
              "ticks": ""
             }
            },
            "type": "scattermapbox"
           }
          ],
          "scatterpolar": [
           {
            "marker": {
             "colorbar": {
              "outlinewidth": 0,
              "ticks": ""
             }
            },
            "type": "scatterpolar"
           }
          ],
          "scatterpolargl": [
           {
            "marker": {
             "colorbar": {
              "outlinewidth": 0,
              "ticks": ""
             }
            },
            "type": "scatterpolargl"
           }
          ],
          "scatterternary": [
           {
            "marker": {
             "colorbar": {
              "outlinewidth": 0,
              "ticks": ""
             }
            },
            "type": "scatterternary"
           }
          ],
          "surface": [
           {
            "colorbar": {
             "outlinewidth": 0,
             "ticks": ""
            },
            "colorscale": [
             [
              0,
              "#0d0887"
             ],
             [
              0.1111111111111111,
              "#46039f"
             ],
             [
              0.2222222222222222,
              "#7201a8"
             ],
             [
              0.3333333333333333,
              "#9c179e"
             ],
             [
              0.4444444444444444,
              "#bd3786"
             ],
             [
              0.5555555555555556,
              "#d8576b"
             ],
             [
              0.6666666666666666,
              "#ed7953"
             ],
             [
              0.7777777777777778,
              "#fb9f3a"
             ],
             [
              0.8888888888888888,
              "#fdca26"
             ],
             [
              1,
              "#f0f921"
             ]
            ],
            "type": "surface"
           }
          ],
          "table": [
           {
            "cells": {
             "fill": {
              "color": "#EBF0F8"
             },
             "line": {
              "color": "white"
             }
            },
            "header": {
             "fill": {
              "color": "#C8D4E3"
             },
             "line": {
              "color": "white"
             }
            },
            "type": "table"
           }
          ]
         },
         "layout": {
          "annotationdefaults": {
           "arrowcolor": "#2a3f5f",
           "arrowhead": 0,
           "arrowwidth": 1
          },
          "autotypenumbers": "strict",
          "coloraxis": {
           "colorbar": {
            "outlinewidth": 0,
            "ticks": ""
           }
          },
          "colorscale": {
           "diverging": [
            [
             0,
             "#8e0152"
            ],
            [
             0.1,
             "#c51b7d"
            ],
            [
             0.2,
             "#de77ae"
            ],
            [
             0.3,
             "#f1b6da"
            ],
            [
             0.4,
             "#fde0ef"
            ],
            [
             0.5,
             "#f7f7f7"
            ],
            [
             0.6,
             "#e6f5d0"
            ],
            [
             0.7,
             "#b8e186"
            ],
            [
             0.8,
             "#7fbc41"
            ],
            [
             0.9,
             "#4d9221"
            ],
            [
             1,
             "#276419"
            ]
           ],
           "sequential": [
            [
             0,
             "#0d0887"
            ],
            [
             0.1111111111111111,
             "#46039f"
            ],
            [
             0.2222222222222222,
             "#7201a8"
            ],
            [
             0.3333333333333333,
             "#9c179e"
            ],
            [
             0.4444444444444444,
             "#bd3786"
            ],
            [
             0.5555555555555556,
             "#d8576b"
            ],
            [
             0.6666666666666666,
             "#ed7953"
            ],
            [
             0.7777777777777778,
             "#fb9f3a"
            ],
            [
             0.8888888888888888,
             "#fdca26"
            ],
            [
             1,
             "#f0f921"
            ]
           ],
           "sequentialminus": [
            [
             0,
             "#0d0887"
            ],
            [
             0.1111111111111111,
             "#46039f"
            ],
            [
             0.2222222222222222,
             "#7201a8"
            ],
            [
             0.3333333333333333,
             "#9c179e"
            ],
            [
             0.4444444444444444,
             "#bd3786"
            ],
            [
             0.5555555555555556,
             "#d8576b"
            ],
            [
             0.6666666666666666,
             "#ed7953"
            ],
            [
             0.7777777777777778,
             "#fb9f3a"
            ],
            [
             0.8888888888888888,
             "#fdca26"
            ],
            [
             1,
             "#f0f921"
            ]
           ]
          },
          "colorway": [
           "#636efa",
           "#EF553B",
           "#00cc96",
           "#ab63fa",
           "#FFA15A",
           "#19d3f3",
           "#FF6692",
           "#B6E880",
           "#FF97FF",
           "#FECB52"
          ],
          "font": {
           "color": "#2a3f5f"
          },
          "geo": {
           "bgcolor": "white",
           "lakecolor": "white",
           "landcolor": "#E5ECF6",
           "showlakes": true,
           "showland": true,
           "subunitcolor": "white"
          },
          "hoverlabel": {
           "align": "left"
          },
          "hovermode": "closest",
          "mapbox": {
           "style": "light"
          },
          "paper_bgcolor": "white",
          "plot_bgcolor": "#E5ECF6",
          "polar": {
           "angularaxis": {
            "gridcolor": "white",
            "linecolor": "white",
            "ticks": ""
           },
           "bgcolor": "#E5ECF6",
           "radialaxis": {
            "gridcolor": "white",
            "linecolor": "white",
            "ticks": ""
           }
          },
          "scene": {
           "xaxis": {
            "backgroundcolor": "#E5ECF6",
            "gridcolor": "white",
            "gridwidth": 2,
            "linecolor": "white",
            "showbackground": true,
            "ticks": "",
            "zerolinecolor": "white"
           },
           "yaxis": {
            "backgroundcolor": "#E5ECF6",
            "gridcolor": "white",
            "gridwidth": 2,
            "linecolor": "white",
            "showbackground": true,
            "ticks": "",
            "zerolinecolor": "white"
           },
           "zaxis": {
            "backgroundcolor": "#E5ECF6",
            "gridcolor": "white",
            "gridwidth": 2,
            "linecolor": "white",
            "showbackground": true,
            "ticks": "",
            "zerolinecolor": "white"
           }
          },
          "shapedefaults": {
           "line": {
            "color": "#2a3f5f"
           }
          },
          "ternary": {
           "aaxis": {
            "gridcolor": "white",
            "linecolor": "white",
            "ticks": ""
           },
           "baxis": {
            "gridcolor": "white",
            "linecolor": "white",
            "ticks": ""
           },
           "bgcolor": "#E5ECF6",
           "caxis": {
            "gridcolor": "white",
            "linecolor": "white",
            "ticks": ""
           }
          },
          "title": {
           "x": 0.05
          },
          "xaxis": {
           "automargin": true,
           "gridcolor": "white",
           "linecolor": "white",
           "ticks": "",
           "title": {
            "standoff": 15
           },
           "zerolinecolor": "white",
           "zerolinewidth": 2
          },
          "yaxis": {
           "automargin": true,
           "gridcolor": "white",
           "linecolor": "white",
           "ticks": "",
           "title": {
            "standoff": 15
           },
           "zerolinecolor": "white",
           "zerolinewidth": 2
          }
         }
        },
        "xaxis": {
         "anchor": "y",
         "domain": [
          0,
          0.45
         ]
        },
        "xaxis2": {
         "anchor": "y2",
         "domain": [
          0.55,
          1
         ]
        },
        "yaxis": {
         "anchor": "x",
         "domain": [
          0,
          1
         ]
        },
        "yaxis2": {
         "anchor": "x2",
         "domain": [
          0,
          1
         ]
        }
       }
      }
     },
     "metadata": {},
     "output_type": "display_data"
    }
   ],
   "source": [
    "fig = make_subplots(\n",
    "    rows=1,\n",
    "    cols=2,\n",
    "    subplot_titles=['Perempuan', 'Laki-Laki'],\n",
    "    x_title=\"Jumlah Penumpang\",\n",
    ")\n",
    "\n",
    "female_barplot = go.Bar(\n",
    "    y=ageCategoryFemale['payCardAgeCategory'],           \n",
    "    x=ageCategoryFemale['count'],         \n",
    "    hoverinfo='all',\n",
    "    name='Female',\n",
    "    orientation='h'\n",
    ")\n",
    "\n",
    "male_barplot = go.Bar(\n",
    "    y=ageCategoryMale['payCardAgeCategory'],            \n",
    "    x=ageCategoryMale['count'],          \n",
    "    hoverinfo='all',\n",
    "    name='Male',\n",
    "    orientation='h'\n",
    ")\n",
    "\n",
    "fig.add_trace(female_barplot, 1, 1)     \n",
    "fig.add_trace(male_barplot, 1, 2)       \n",
    "\n",
    "fig"
   ]
  },
  {
   "cell_type": "markdown",
   "metadata": {},
   "source": [
    "##### *Insight*: #####\n",
    "    - Jenis Kelamin Perempuan lebih banyak menjadi pengguna Transjakarta\n",
    "    - Berdasarkan kategori umur, pengguna Transjakarta terbanyak adalah para kaum dewasa, sedangkan pengguna Transjakarta terkecil adalah kaum kanak-kanak.\n",
    "    - Setelah dipisah berdasarkan jenis kelamin. Kaum Dewasa mendominasi baik laki-laki maupun perempuan menjadi pengguna Transjakarta\n",
    "    "
   ]
  },
  {
   "cell_type": "markdown",
   "metadata": {},
   "source": [
    "### ALAT BAYAR DAN KEUANGAN ###\n",
    "\n",
    "Alat pembayaran yang dipakai pengguna bermacam-macam, sehingga kita dapat melihat kebiasaan pengguna dalam melakukan pembayaran. Jenis layanan dapat dilihat dari pembayaran tiap transaksi, sehingga dapat mengetahui pengguna menggunakan layanan apa."
   ]
  },
  {
   "cell_type": "code",
   "execution_count": 689,
   "metadata": {},
   "outputs": [
    {
     "data": {
      "text/html": [
       "<div>\n",
       "<style scoped>\n",
       "    .dataframe tbody tr th:only-of-type {\n",
       "        vertical-align: middle;\n",
       "    }\n",
       "\n",
       "    .dataframe tbody tr th {\n",
       "        vertical-align: top;\n",
       "    }\n",
       "\n",
       "    .dataframe thead th {\n",
       "        text-align: right;\n",
       "    }\n",
       "</style>\n",
       "<table border=\"1\" class=\"dataframe\">\n",
       "  <thead>\n",
       "    <tr style=\"text-align: right;\">\n",
       "      <th></th>\n",
       "      <th>payCardName</th>\n",
       "      <th>payCardBank</th>\n",
       "      <th>payAmount</th>\n",
       "    </tr>\n",
       "  </thead>\n",
       "  <tbody>\n",
       "    <tr>\n",
       "      <th>0</th>\n",
       "      <td>Bajragin Usada</td>\n",
       "      <td>emoney</td>\n",
       "      <td>3500.0</td>\n",
       "    </tr>\n",
       "    <tr>\n",
       "      <th>1</th>\n",
       "      <td>Gandi Widodo</td>\n",
       "      <td>dki</td>\n",
       "      <td>3500.0</td>\n",
       "    </tr>\n",
       "    <tr>\n",
       "      <th>2</th>\n",
       "      <td>Emong Wastuti</td>\n",
       "      <td>dki</td>\n",
       "      <td>3500.0</td>\n",
       "    </tr>\n",
       "    <tr>\n",
       "      <th>3</th>\n",
       "      <td>Surya Wacana</td>\n",
       "      <td>flazz</td>\n",
       "      <td>3500.0</td>\n",
       "    </tr>\n",
       "    <tr>\n",
       "      <th>4</th>\n",
       "      <td>Embuh Mardhiyah</td>\n",
       "      <td>flazz</td>\n",
       "      <td>3500.0</td>\n",
       "    </tr>\n",
       "  </tbody>\n",
       "</table>\n",
       "</div>"
      ],
      "text/plain": [
       "       payCardName payCardBank  payAmount\n",
       "0   Bajragin Usada      emoney     3500.0\n",
       "1     Gandi Widodo         dki     3500.0\n",
       "2    Emong Wastuti         dki     3500.0\n",
       "3     Surya Wacana       flazz     3500.0\n",
       "4  Embuh Mardhiyah       flazz     3500.0"
      ]
     },
     "execution_count": 689,
     "metadata": {},
     "output_type": "execute_result"
    }
   ],
   "source": [
    "finance = df[['payCardName','payCardBank','payAmount']]\n",
    "finance.head()"
   ]
  },
  {
   "cell_type": "code",
   "execution_count": 690,
   "metadata": {},
   "outputs": [
    {
     "name": "stderr",
     "output_type": "stream",
     "text": [
      "/var/folders/jp/kqzf5z7d4gg594lx82fkysvh0000gn/T/ipykernel_15472/3635359575.py:9: SettingWithCopyWarning:\n",
      "\n",
      "\n",
      "A value is trying to be set on a copy of a slice from a DataFrame.\n",
      "Try using .loc[row_indexer,col_indexer] = value instead\n",
      "\n",
      "See the caveats in the documentation: https://pandas.pydata.org/pandas-docs/stable/user_guide/indexing.html#returning-a-view-versus-a-copy\n",
      "\n"
     ]
    },
    {
     "data": {
      "text/html": [
       "<div>\n",
       "<style scoped>\n",
       "    .dataframe tbody tr th:only-of-type {\n",
       "        vertical-align: middle;\n",
       "    }\n",
       "\n",
       "    .dataframe tbody tr th {\n",
       "        vertical-align: top;\n",
       "    }\n",
       "\n",
       "    .dataframe thead th {\n",
       "        text-align: right;\n",
       "    }\n",
       "</style>\n",
       "<table border=\"1\" class=\"dataframe\">\n",
       "  <thead>\n",
       "    <tr style=\"text-align: right;\">\n",
       "      <th></th>\n",
       "      <th>payCardName</th>\n",
       "      <th>payCardBank</th>\n",
       "      <th>payAmount</th>\n",
       "      <th>serviceCategory</th>\n",
       "    </tr>\n",
       "  </thead>\n",
       "  <tbody>\n",
       "    <tr>\n",
       "      <th>0</th>\n",
       "      <td>Bajragin Usada</td>\n",
       "      <td>emoney</td>\n",
       "      <td>3500.0</td>\n",
       "      <td>BRT / NON BRT / Trans Jabodetabek</td>\n",
       "    </tr>\n",
       "    <tr>\n",
       "      <th>1</th>\n",
       "      <td>Gandi Widodo</td>\n",
       "      <td>dki</td>\n",
       "      <td>3500.0</td>\n",
       "      <td>BRT / NON BRT / Trans Jabodetabek</td>\n",
       "    </tr>\n",
       "    <tr>\n",
       "      <th>2</th>\n",
       "      <td>Emong Wastuti</td>\n",
       "      <td>dki</td>\n",
       "      <td>3500.0</td>\n",
       "      <td>BRT / NON BRT / Trans Jabodetabek</td>\n",
       "    </tr>\n",
       "    <tr>\n",
       "      <th>3</th>\n",
       "      <td>Surya Wacana</td>\n",
       "      <td>flazz</td>\n",
       "      <td>3500.0</td>\n",
       "      <td>BRT / NON BRT / Trans Jabodetabek</td>\n",
       "    </tr>\n",
       "    <tr>\n",
       "      <th>4</th>\n",
       "      <td>Embuh Mardhiyah</td>\n",
       "      <td>flazz</td>\n",
       "      <td>3500.0</td>\n",
       "      <td>BRT / NON BRT / Trans Jabodetabek</td>\n",
       "    </tr>\n",
       "    <tr>\n",
       "      <th>...</th>\n",
       "      <td>...</td>\n",
       "      <td>...</td>\n",
       "      <td>...</td>\n",
       "      <td>...</td>\n",
       "    </tr>\n",
       "    <tr>\n",
       "      <th>37895</th>\n",
       "      <td>Kamila Mahendra</td>\n",
       "      <td>brizzi</td>\n",
       "      <td>3500.0</td>\n",
       "      <td>BRT / NON BRT / Trans Jabodetabek</td>\n",
       "    </tr>\n",
       "    <tr>\n",
       "      <th>37896</th>\n",
       "      <td>Titi Siregar</td>\n",
       "      <td>dki</td>\n",
       "      <td>3500.0</td>\n",
       "      <td>BRT / NON BRT / Trans Jabodetabek</td>\n",
       "    </tr>\n",
       "    <tr>\n",
       "      <th>37897</th>\n",
       "      <td>drg. Zahra Nashiruddin</td>\n",
       "      <td>emoney</td>\n",
       "      <td>20000.0</td>\n",
       "      <td>Royal Trans</td>\n",
       "    </tr>\n",
       "    <tr>\n",
       "      <th>37898</th>\n",
       "      <td>Ana Agustina</td>\n",
       "      <td>emoney</td>\n",
       "      <td>0.0</td>\n",
       "      <td>RumahSusun / Wisata / Mikrotrans</td>\n",
       "    </tr>\n",
       "    <tr>\n",
       "      <th>37899</th>\n",
       "      <td>drg. Leo Najmudin</td>\n",
       "      <td>flazz</td>\n",
       "      <td>3500.0</td>\n",
       "      <td>BRT / NON BRT / Trans Jabodetabek</td>\n",
       "    </tr>\n",
       "  </tbody>\n",
       "</table>\n",
       "<p>31730 rows × 4 columns</p>\n",
       "</div>"
      ],
      "text/plain": [
       "                  payCardName payCardBank  payAmount  \\\n",
       "0              Bajragin Usada      emoney     3500.0   \n",
       "1                Gandi Widodo         dki     3500.0   \n",
       "2               Emong Wastuti         dki     3500.0   \n",
       "3                Surya Wacana       flazz     3500.0   \n",
       "4             Embuh Mardhiyah       flazz     3500.0   \n",
       "...                       ...         ...        ...   \n",
       "37895         Kamila Mahendra      brizzi     3500.0   \n",
       "37896            Titi Siregar         dki     3500.0   \n",
       "37897  drg. Zahra Nashiruddin      emoney    20000.0   \n",
       "37898            Ana Agustina      emoney        0.0   \n",
       "37899       drg. Leo Najmudin       flazz     3500.0   \n",
       "\n",
       "                         serviceCategory  \n",
       "0      BRT / NON BRT / Trans Jabodetabek  \n",
       "1      BRT / NON BRT / Trans Jabodetabek  \n",
       "2      BRT / NON BRT / Trans Jabodetabek  \n",
       "3      BRT / NON BRT / Trans Jabodetabek  \n",
       "4      BRT / NON BRT / Trans Jabodetabek  \n",
       "...                                  ...  \n",
       "37895  BRT / NON BRT / Trans Jabodetabek  \n",
       "37896  BRT / NON BRT / Trans Jabodetabek  \n",
       "37897                        Royal Trans  \n",
       "37898   RumahSusun / Wisata / Mikrotrans  \n",
       "37899  BRT / NON BRT / Trans Jabodetabek  \n",
       "\n",
       "[31730 rows x 4 columns]"
      ]
     },
     "execution_count": 690,
     "metadata": {},
     "output_type": "execute_result"
    }
   ],
   "source": [
    "def LayananCategory(num):\n",
    "    if num == 3500:\n",
    "        return 'BRT / NON BRT / Trans Jabodetabek'\n",
    "    elif num == 20000:\n",
    "        return 'Royal Trans'\n",
    "    else:\n",
    "        return 'RumahSusun / Wisata / Mikrotrans'\n",
    "\n",
    "finance['serviceCategory'] = finance['payAmount'].apply(LayananCategory)\n",
    "finance"
   ]
  },
  {
   "cell_type": "code",
   "execution_count": 691,
   "metadata": {},
   "outputs": [
    {
     "data": {
      "text/html": [
       "<div>\n",
       "<style scoped>\n",
       "    .dataframe tbody tr th:only-of-type {\n",
       "        vertical-align: middle;\n",
       "    }\n",
       "\n",
       "    .dataframe tbody tr th {\n",
       "        vertical-align: top;\n",
       "    }\n",
       "\n",
       "    .dataframe thead th {\n",
       "        text-align: right;\n",
       "    }\n",
       "</style>\n",
       "<table border=\"1\" class=\"dataframe\">\n",
       "  <thead>\n",
       "    <tr style=\"text-align: right;\">\n",
       "      <th></th>\n",
       "      <th>payCardBank</th>\n",
       "      <th>count</th>\n",
       "    </tr>\n",
       "  </thead>\n",
       "  <tbody>\n",
       "    <tr>\n",
       "      <th>0</th>\n",
       "      <td>dki</td>\n",
       "      <td>15702</td>\n",
       "    </tr>\n",
       "    <tr>\n",
       "      <th>1</th>\n",
       "      <td>emoney</td>\n",
       "      <td>5813</td>\n",
       "    </tr>\n",
       "    <tr>\n",
       "      <th>2</th>\n",
       "      <td>brizzi</td>\n",
       "      <td>2922</td>\n",
       "    </tr>\n",
       "    <tr>\n",
       "      <th>3</th>\n",
       "      <td>flazz</td>\n",
       "      <td>2667</td>\n",
       "    </tr>\n",
       "    <tr>\n",
       "      <th>4</th>\n",
       "      <td>online</td>\n",
       "      <td>2364</td>\n",
       "    </tr>\n",
       "    <tr>\n",
       "      <th>5</th>\n",
       "      <td>bni</td>\n",
       "      <td>2262</td>\n",
       "    </tr>\n",
       "  </tbody>\n",
       "</table>\n",
       "</div>"
      ],
      "text/plain": [
       "  payCardBank  count\n",
       "0         dki  15702\n",
       "1      emoney   5813\n",
       "2      brizzi   2922\n",
       "3       flazz   2667\n",
       "4      online   2364\n",
       "5         bni   2262"
      ]
     },
     "execution_count": 691,
     "metadata": {},
     "output_type": "execute_result"
    }
   ],
   "source": [
    "finance['payCardBank'].value_counts().to_frame().reset_index()"
   ]
  },
  {
   "cell_type": "code",
   "execution_count": 692,
   "metadata": {},
   "outputs": [
    {
     "data": {
      "text/html": [
       "<div>\n",
       "<style scoped>\n",
       "    .dataframe tbody tr th:only-of-type {\n",
       "        vertical-align: middle;\n",
       "    }\n",
       "\n",
       "    .dataframe tbody tr th {\n",
       "        vertical-align: top;\n",
       "    }\n",
       "\n",
       "    .dataframe thead th {\n",
       "        text-align: right;\n",
       "    }\n",
       "</style>\n",
       "<table border=\"1\" class=\"dataframe\">\n",
       "  <thead>\n",
       "    <tr style=\"text-align: right;\">\n",
       "      <th></th>\n",
       "      <th>payAmount</th>\n",
       "      <th>count</th>\n",
       "    </tr>\n",
       "  </thead>\n",
       "  <tbody>\n",
       "    <tr>\n",
       "      <th>0</th>\n",
       "      <td>3500.0</td>\n",
       "      <td>15914</td>\n",
       "    </tr>\n",
       "    <tr>\n",
       "      <th>1</th>\n",
       "      <td>0.0</td>\n",
       "      <td>14283</td>\n",
       "    </tr>\n",
       "    <tr>\n",
       "      <th>2</th>\n",
       "      <td>20000.0</td>\n",
       "      <td>1533</td>\n",
       "    </tr>\n",
       "  </tbody>\n",
       "</table>\n",
       "</div>"
      ],
      "text/plain": [
       "   payAmount  count\n",
       "0     3500.0  15914\n",
       "1        0.0  14283\n",
       "2    20000.0   1533"
      ]
     },
     "execution_count": 692,
     "metadata": {},
     "output_type": "execute_result"
    }
   ],
   "source": [
    "finance['payAmount'].value_counts().to_frame().reset_index()"
   ]
  },
  {
   "cell_type": "code",
   "execution_count": 693,
   "metadata": {},
   "outputs": [],
   "source": [
    "financeCategory0 = finance[finance['payAmount']==0]['payCardBank'].value_counts().to_frame().reset_index()\n",
    "financeCategory20 = finance[finance['payAmount']==20000]['payCardBank'].value_counts().to_frame().reset_index()\n",
    "financeCategory3500 = finance[finance['payAmount']==3500]['payCardBank'].value_counts().to_frame().reset_index()"
   ]
  },
  {
   "cell_type": "code",
   "execution_count": 694,
   "metadata": {},
   "outputs": [
    {
     "data": {
      "application/vnd.plotly.v1+json": {
       "config": {
        "plotlyServerURL": "https://plot.ly"
       },
       "data": [
        {
         "hoverinfo": "all",
         "hovertemplate": "Pclass= %{y:.0f}, Number Passenger= %{x:.0f}",
         "name": "0",
         "orientation": "h",
         "type": "bar",
         "x": [
          7522,
          2430,
          1182,
          1172,
          995,
          982
         ],
         "y": [
          "dki",
          "emoney",
          "online",
          "brizzi",
          "flazz",
          "bni"
         ]
        },
        {
         "hoverinfo": "all",
         "hovertemplate": "Pclass= %{y:.0f}, Number Passenger= %{x:.0f}",
         "name": "3500",
         "orientation": "h",
         "type": "bar",
         "x": [
          7560,
          3022,
          1567,
          1489,
          1202,
          1074
         ],
         "y": [
          "dki",
          "emoney",
          "flazz",
          "brizzi",
          "bni",
          "online"
         ]
        },
        {
         "hoverinfo": "all",
         "hovertemplate": "Pclass= %{y:.0f}, Number Passenger= %{x:.0f}",
         "name": "20000",
         "orientation": "h",
         "type": "bar",
         "x": [
          620,
          361,
          261,
          108,
          105,
          78
         ],
         "y": [
          "dki",
          "emoney",
          "brizzi",
          "online",
          "flazz",
          "bni"
         ]
        }
       ],
       "layout": {
        "barmode": "stack",
        "hoverlabel": {
         "bgcolor": "white",
         "font": {
          "family": "Rockwell",
          "size": 16
         }
        },
        "template": {
         "data": {
          "bar": [
           {
            "error_x": {
             "color": "#2a3f5f"
            },
            "error_y": {
             "color": "#2a3f5f"
            },
            "marker": {
             "line": {
              "color": "#E5ECF6",
              "width": 0.5
             },
             "pattern": {
              "fillmode": "overlay",
              "size": 10,
              "solidity": 0.2
             }
            },
            "type": "bar"
           }
          ],
          "barpolar": [
           {
            "marker": {
             "line": {
              "color": "#E5ECF6",
              "width": 0.5
             },
             "pattern": {
              "fillmode": "overlay",
              "size": 10,
              "solidity": 0.2
             }
            },
            "type": "barpolar"
           }
          ],
          "carpet": [
           {
            "aaxis": {
             "endlinecolor": "#2a3f5f",
             "gridcolor": "white",
             "linecolor": "white",
             "minorgridcolor": "white",
             "startlinecolor": "#2a3f5f"
            },
            "baxis": {
             "endlinecolor": "#2a3f5f",
             "gridcolor": "white",
             "linecolor": "white",
             "minorgridcolor": "white",
             "startlinecolor": "#2a3f5f"
            },
            "type": "carpet"
           }
          ],
          "choropleth": [
           {
            "colorbar": {
             "outlinewidth": 0,
             "ticks": ""
            },
            "type": "choropleth"
           }
          ],
          "contour": [
           {
            "colorbar": {
             "outlinewidth": 0,
             "ticks": ""
            },
            "colorscale": [
             [
              0,
              "#0d0887"
             ],
             [
              0.1111111111111111,
              "#46039f"
             ],
             [
              0.2222222222222222,
              "#7201a8"
             ],
             [
              0.3333333333333333,
              "#9c179e"
             ],
             [
              0.4444444444444444,
              "#bd3786"
             ],
             [
              0.5555555555555556,
              "#d8576b"
             ],
             [
              0.6666666666666666,
              "#ed7953"
             ],
             [
              0.7777777777777778,
              "#fb9f3a"
             ],
             [
              0.8888888888888888,
              "#fdca26"
             ],
             [
              1,
              "#f0f921"
             ]
            ],
            "type": "contour"
           }
          ],
          "contourcarpet": [
           {
            "colorbar": {
             "outlinewidth": 0,
             "ticks": ""
            },
            "type": "contourcarpet"
           }
          ],
          "heatmap": [
           {
            "colorbar": {
             "outlinewidth": 0,
             "ticks": ""
            },
            "colorscale": [
             [
              0,
              "#0d0887"
             ],
             [
              0.1111111111111111,
              "#46039f"
             ],
             [
              0.2222222222222222,
              "#7201a8"
             ],
             [
              0.3333333333333333,
              "#9c179e"
             ],
             [
              0.4444444444444444,
              "#bd3786"
             ],
             [
              0.5555555555555556,
              "#d8576b"
             ],
             [
              0.6666666666666666,
              "#ed7953"
             ],
             [
              0.7777777777777778,
              "#fb9f3a"
             ],
             [
              0.8888888888888888,
              "#fdca26"
             ],
             [
              1,
              "#f0f921"
             ]
            ],
            "type": "heatmap"
           }
          ],
          "heatmapgl": [
           {
            "colorbar": {
             "outlinewidth": 0,
             "ticks": ""
            },
            "colorscale": [
             [
              0,
              "#0d0887"
             ],
             [
              0.1111111111111111,
              "#46039f"
             ],
             [
              0.2222222222222222,
              "#7201a8"
             ],
             [
              0.3333333333333333,
              "#9c179e"
             ],
             [
              0.4444444444444444,
              "#bd3786"
             ],
             [
              0.5555555555555556,
              "#d8576b"
             ],
             [
              0.6666666666666666,
              "#ed7953"
             ],
             [
              0.7777777777777778,
              "#fb9f3a"
             ],
             [
              0.8888888888888888,
              "#fdca26"
             ],
             [
              1,
              "#f0f921"
             ]
            ],
            "type": "heatmapgl"
           }
          ],
          "histogram": [
           {
            "marker": {
             "pattern": {
              "fillmode": "overlay",
              "size": 10,
              "solidity": 0.2
             }
            },
            "type": "histogram"
           }
          ],
          "histogram2d": [
           {
            "colorbar": {
             "outlinewidth": 0,
             "ticks": ""
            },
            "colorscale": [
             [
              0,
              "#0d0887"
             ],
             [
              0.1111111111111111,
              "#46039f"
             ],
             [
              0.2222222222222222,
              "#7201a8"
             ],
             [
              0.3333333333333333,
              "#9c179e"
             ],
             [
              0.4444444444444444,
              "#bd3786"
             ],
             [
              0.5555555555555556,
              "#d8576b"
             ],
             [
              0.6666666666666666,
              "#ed7953"
             ],
             [
              0.7777777777777778,
              "#fb9f3a"
             ],
             [
              0.8888888888888888,
              "#fdca26"
             ],
             [
              1,
              "#f0f921"
             ]
            ],
            "type": "histogram2d"
           }
          ],
          "histogram2dcontour": [
           {
            "colorbar": {
             "outlinewidth": 0,
             "ticks": ""
            },
            "colorscale": [
             [
              0,
              "#0d0887"
             ],
             [
              0.1111111111111111,
              "#46039f"
             ],
             [
              0.2222222222222222,
              "#7201a8"
             ],
             [
              0.3333333333333333,
              "#9c179e"
             ],
             [
              0.4444444444444444,
              "#bd3786"
             ],
             [
              0.5555555555555556,
              "#d8576b"
             ],
             [
              0.6666666666666666,
              "#ed7953"
             ],
             [
              0.7777777777777778,
              "#fb9f3a"
             ],
             [
              0.8888888888888888,
              "#fdca26"
             ],
             [
              1,
              "#f0f921"
             ]
            ],
            "type": "histogram2dcontour"
           }
          ],
          "mesh3d": [
           {
            "colorbar": {
             "outlinewidth": 0,
             "ticks": ""
            },
            "type": "mesh3d"
           }
          ],
          "parcoords": [
           {
            "line": {
             "colorbar": {
              "outlinewidth": 0,
              "ticks": ""
             }
            },
            "type": "parcoords"
           }
          ],
          "pie": [
           {
            "automargin": true,
            "type": "pie"
           }
          ],
          "scatter": [
           {
            "fillpattern": {
             "fillmode": "overlay",
             "size": 10,
             "solidity": 0.2
            },
            "type": "scatter"
           }
          ],
          "scatter3d": [
           {
            "line": {
             "colorbar": {
              "outlinewidth": 0,
              "ticks": ""
             }
            },
            "marker": {
             "colorbar": {
              "outlinewidth": 0,
              "ticks": ""
             }
            },
            "type": "scatter3d"
           }
          ],
          "scattercarpet": [
           {
            "marker": {
             "colorbar": {
              "outlinewidth": 0,
              "ticks": ""
             }
            },
            "type": "scattercarpet"
           }
          ],
          "scattergeo": [
           {
            "marker": {
             "colorbar": {
              "outlinewidth": 0,
              "ticks": ""
             }
            },
            "type": "scattergeo"
           }
          ],
          "scattergl": [
           {
            "marker": {
             "colorbar": {
              "outlinewidth": 0,
              "ticks": ""
             }
            },
            "type": "scattergl"
           }
          ],
          "scattermapbox": [
           {
            "marker": {
             "colorbar": {
              "outlinewidth": 0,
              "ticks": ""
             }
            },
            "type": "scattermapbox"
           }
          ],
          "scatterpolar": [
           {
            "marker": {
             "colorbar": {
              "outlinewidth": 0,
              "ticks": ""
             }
            },
            "type": "scatterpolar"
           }
          ],
          "scatterpolargl": [
           {
            "marker": {
             "colorbar": {
              "outlinewidth": 0,
              "ticks": ""
             }
            },
            "type": "scatterpolargl"
           }
          ],
          "scatterternary": [
           {
            "marker": {
             "colorbar": {
              "outlinewidth": 0,
              "ticks": ""
             }
            },
            "type": "scatterternary"
           }
          ],
          "surface": [
           {
            "colorbar": {
             "outlinewidth": 0,
             "ticks": ""
            },
            "colorscale": [
             [
              0,
              "#0d0887"
             ],
             [
              0.1111111111111111,
              "#46039f"
             ],
             [
              0.2222222222222222,
              "#7201a8"
             ],
             [
              0.3333333333333333,
              "#9c179e"
             ],
             [
              0.4444444444444444,
              "#bd3786"
             ],
             [
              0.5555555555555556,
              "#d8576b"
             ],
             [
              0.6666666666666666,
              "#ed7953"
             ],
             [
              0.7777777777777778,
              "#fb9f3a"
             ],
             [
              0.8888888888888888,
              "#fdca26"
             ],
             [
              1,
              "#f0f921"
             ]
            ],
            "type": "surface"
           }
          ],
          "table": [
           {
            "cells": {
             "fill": {
              "color": "#EBF0F8"
             },
             "line": {
              "color": "white"
             }
            },
            "header": {
             "fill": {
              "color": "#C8D4E3"
             },
             "line": {
              "color": "white"
             }
            },
            "type": "table"
           }
          ]
         },
         "layout": {
          "annotationdefaults": {
           "arrowcolor": "#2a3f5f",
           "arrowhead": 0,
           "arrowwidth": 1
          },
          "autotypenumbers": "strict",
          "coloraxis": {
           "colorbar": {
            "outlinewidth": 0,
            "ticks": ""
           }
          },
          "colorscale": {
           "diverging": [
            [
             0,
             "#8e0152"
            ],
            [
             0.1,
             "#c51b7d"
            ],
            [
             0.2,
             "#de77ae"
            ],
            [
             0.3,
             "#f1b6da"
            ],
            [
             0.4,
             "#fde0ef"
            ],
            [
             0.5,
             "#f7f7f7"
            ],
            [
             0.6,
             "#e6f5d0"
            ],
            [
             0.7,
             "#b8e186"
            ],
            [
             0.8,
             "#7fbc41"
            ],
            [
             0.9,
             "#4d9221"
            ],
            [
             1,
             "#276419"
            ]
           ],
           "sequential": [
            [
             0,
             "#0d0887"
            ],
            [
             0.1111111111111111,
             "#46039f"
            ],
            [
             0.2222222222222222,
             "#7201a8"
            ],
            [
             0.3333333333333333,
             "#9c179e"
            ],
            [
             0.4444444444444444,
             "#bd3786"
            ],
            [
             0.5555555555555556,
             "#d8576b"
            ],
            [
             0.6666666666666666,
             "#ed7953"
            ],
            [
             0.7777777777777778,
             "#fb9f3a"
            ],
            [
             0.8888888888888888,
             "#fdca26"
            ],
            [
             1,
             "#f0f921"
            ]
           ],
           "sequentialminus": [
            [
             0,
             "#0d0887"
            ],
            [
             0.1111111111111111,
             "#46039f"
            ],
            [
             0.2222222222222222,
             "#7201a8"
            ],
            [
             0.3333333333333333,
             "#9c179e"
            ],
            [
             0.4444444444444444,
             "#bd3786"
            ],
            [
             0.5555555555555556,
             "#d8576b"
            ],
            [
             0.6666666666666666,
             "#ed7953"
            ],
            [
             0.7777777777777778,
             "#fb9f3a"
            ],
            [
             0.8888888888888888,
             "#fdca26"
            ],
            [
             1,
             "#f0f921"
            ]
           ]
          },
          "colorway": [
           "#636efa",
           "#EF553B",
           "#00cc96",
           "#ab63fa",
           "#FFA15A",
           "#19d3f3",
           "#FF6692",
           "#B6E880",
           "#FF97FF",
           "#FECB52"
          ],
          "font": {
           "color": "#2a3f5f"
          },
          "geo": {
           "bgcolor": "white",
           "lakecolor": "white",
           "landcolor": "#E5ECF6",
           "showlakes": true,
           "showland": true,
           "subunitcolor": "white"
          },
          "hoverlabel": {
           "align": "left"
          },
          "hovermode": "closest",
          "mapbox": {
           "style": "light"
          },
          "paper_bgcolor": "white",
          "plot_bgcolor": "#E5ECF6",
          "polar": {
           "angularaxis": {
            "gridcolor": "white",
            "linecolor": "white",
            "ticks": ""
           },
           "bgcolor": "#E5ECF6",
           "radialaxis": {
            "gridcolor": "white",
            "linecolor": "white",
            "ticks": ""
           }
          },
          "scene": {
           "xaxis": {
            "backgroundcolor": "#E5ECF6",
            "gridcolor": "white",
            "gridwidth": 2,
            "linecolor": "white",
            "showbackground": true,
            "ticks": "",
            "zerolinecolor": "white"
           },
           "yaxis": {
            "backgroundcolor": "#E5ECF6",
            "gridcolor": "white",
            "gridwidth": 2,
            "linecolor": "white",
            "showbackground": true,
            "ticks": "",
            "zerolinecolor": "white"
           },
           "zaxis": {
            "backgroundcolor": "#E5ECF6",
            "gridcolor": "white",
            "gridwidth": 2,
            "linecolor": "white",
            "showbackground": true,
            "ticks": "",
            "zerolinecolor": "white"
           }
          },
          "shapedefaults": {
           "line": {
            "color": "#2a3f5f"
           }
          },
          "ternary": {
           "aaxis": {
            "gridcolor": "white",
            "linecolor": "white",
            "ticks": ""
           },
           "baxis": {
            "gridcolor": "white",
            "linecolor": "white",
            "ticks": ""
           },
           "bgcolor": "#E5ECF6",
           "caxis": {
            "gridcolor": "white",
            "linecolor": "white",
            "ticks": ""
           }
          },
          "title": {
           "x": 0.05
          },
          "xaxis": {
           "automargin": true,
           "gridcolor": "white",
           "linecolor": "white",
           "ticks": "",
           "title": {
            "standoff": 15
           },
           "zerolinecolor": "white",
           "zerolinewidth": 2
          },
          "yaxis": {
           "automargin": true,
           "gridcolor": "white",
           "linecolor": "white",
           "ticks": "",
           "title": {
            "standoff": 15
           },
           "zerolinecolor": "white",
           "zerolinewidth": 2
          }
         }
        },
        "title": {
         "text": "Perbandingan berdasarkan Harga Bus dari Alat Bayar",
         "x": 0.5
        },
        "xaxis": {
         "title": {
          "text": "Jumlah Penumpang"
         }
        }
       }
      }
     },
     "metadata": {},
     "output_type": "display_data"
    }
   ],
   "source": [
    "fig = go.Figure()\n",
    "\n",
    "barplot0 = go.Bar(\n",
    "    y=financeCategory0['payCardBank'],               \n",
    "    x=financeCategory0['count'],          \n",
    "    hoverinfo='all',\n",
    "    name='0',\n",
    "    hovertemplate = 'Pclass= %{y:.0f}, Number Passenger= %{x:.0f}',\n",
    "    orientation='h'\n",
    ")\n",
    "barplot3500 = go.Bar(\n",
    "    y=financeCategory3500['payCardBank'],             \n",
    "    x=financeCategory3500['count'],          \n",
    "    hoverinfo='all',\n",
    "    name='3500',\n",
    "    hovertemplate = 'Pclass= %{y:.0f}, Number Passenger= %{x:.0f}',\n",
    "    orientation='h'\n",
    ")\n",
    "\n",
    "barplot20 = go.Bar(\n",
    "    y=financeCategory20['payCardBank'],               \n",
    "    x=financeCategory20['count'],          \n",
    "    hoverinfo='all',\n",
    "    name='20000',\n",
    "    hovertemplate = 'Pclass= %{y:.0f}, Number Passenger= %{x:.0f}',\n",
    "    orientation='h'\n",
    ")\n",
    "\n",
    "fig.add_trace(barplot0)     \n",
    "fig.add_trace(barplot3500) \n",
    "fig.add_trace(barplot20)      \n",
    "\n",
    "fig.update_layout(\n",
    "    barmode='stack',\n",
    "    title_text='Perbandingan berdasarkan Harga Bus dari Alat Bayar',\n",
    "    title_x=0.5,                                    # agar judul pada posisi x pindah ke tengah\n",
    "    xaxis_title='Jumlah Penumpang',\n",
    "    hoverlabel=dict(\n",
    "        bgcolor=\"white\",\n",
    "        font_size=16,\n",
    "        font_family=\"Rockwell\")\n",
    ")\n",
    "\n",
    "fig"
   ]
  },
  {
   "cell_type": "markdown",
   "metadata": {},
   "source": [
    "##### *Insight*: #####\n",
    "    - Alat bayar terbanyak digunakan oleh pengguna Transjakarta adalah DKI.\n",
    "    - Berdasarkan layanan, Layanan BRT / NON BRT / Trans Jabodetabek adalah layanan terbanyak digunakan pengguna Transjakarta dengan bayaran 3500 tiap transaksi\n",
    "    "
   ]
  },
  {
   "cell_type": "markdown",
   "metadata": {},
   "source": [
    "### KORIDOR TRANSJAKARTA TAP IN ###"
   ]
  },
  {
   "cell_type": "code",
   "execution_count": 695,
   "metadata": {},
   "outputs": [
    {
     "data": {
      "text/html": [
       "<div>\n",
       "<style scoped>\n",
       "    .dataframe tbody tr th:only-of-type {\n",
       "        vertical-align: middle;\n",
       "    }\n",
       "\n",
       "    .dataframe tbody tr th {\n",
       "        vertical-align: top;\n",
       "    }\n",
       "\n",
       "    .dataframe thead th {\n",
       "        text-align: right;\n",
       "    }\n",
       "</style>\n",
       "<table border=\"1\" class=\"dataframe\">\n",
       "  <thead>\n",
       "    <tr style=\"text-align: right;\">\n",
       "      <th></th>\n",
       "      <th>corridorName</th>\n",
       "      <th>count</th>\n",
       "    </tr>\n",
       "  </thead>\n",
       "  <tbody>\n",
       "    <tr>\n",
       "      <th>0</th>\n",
       "      <td>Pinang Ranti - Pramuka</td>\n",
       "      <td>145</td>\n",
       "    </tr>\n",
       "    <tr>\n",
       "      <th>1</th>\n",
       "      <td>Rusun Kapuk Muara - Penjaringan</td>\n",
       "      <td>108</td>\n",
       "    </tr>\n",
       "    <tr>\n",
       "      <th>2</th>\n",
       "      <td>Rusun Kapuk Muara - Penjaringan</td>\n",
       "      <td>103</td>\n",
       "    </tr>\n",
       "    <tr>\n",
       "      <th>3</th>\n",
       "      <td>Harmoni - Jakarta International Stadium</td>\n",
       "      <td>81</td>\n",
       "    </tr>\n",
       "    <tr>\n",
       "      <th>4</th>\n",
       "      <td>Cibubur - BKN</td>\n",
       "      <td>75</td>\n",
       "    </tr>\n",
       "  </tbody>\n",
       "</table>\n",
       "</div>"
      ],
      "text/plain": [
       "                              corridorName  count\n",
       "0                   Pinang Ranti - Pramuka    145\n",
       "1          Rusun Kapuk Muara - Penjaringan    108\n",
       "2          Rusun Kapuk Muara - Penjaringan    103\n",
       "3  Harmoni - Jakarta International Stadium     81\n",
       "4                            Cibubur - BKN     75"
      ]
     },
     "execution_count": 695,
     "metadata": {},
     "output_type": "execute_result"
    }
   ],
   "source": [
    "corridorHigh = df[['tapInStopsLat','tapInStopsLon','tapInStopsName','corridorID','corridorName']].value_counts().reset_index().sort_values(by='count', ascending=False).head()\n",
    "corridorHigh[['corridorName','count']]"
   ]
  },
  {
   "cell_type": "code",
   "execution_count": 696,
   "metadata": {},
   "outputs": [
    {
     "data": {
      "text/html": [
       "<div>\n",
       "<style scoped>\n",
       "    .dataframe tbody tr th:only-of-type {\n",
       "        vertical-align: middle;\n",
       "    }\n",
       "\n",
       "    .dataframe tbody tr th {\n",
       "        vertical-align: top;\n",
       "    }\n",
       "\n",
       "    .dataframe thead th {\n",
       "        text-align: right;\n",
       "    }\n",
       "</style>\n",
       "<table border=\"1\" class=\"dataframe\">\n",
       "  <thead>\n",
       "    <tr style=\"text-align: right;\">\n",
       "      <th></th>\n",
       "      <th>corridorName</th>\n",
       "      <th>count</th>\n",
       "    </tr>\n",
       "  </thead>\n",
       "  <tbody>\n",
       "    <tr>\n",
       "      <th>3365</th>\n",
       "      <td>Kampung Rambutan - Ragunan</td>\n",
       "      <td>1</td>\n",
       "    </tr>\n",
       "    <tr>\n",
       "      <th>2394</th>\n",
       "      <td>Rusun Sindang Koja - Kp. Sawah</td>\n",
       "      <td>1</td>\n",
       "    </tr>\n",
       "    <tr>\n",
       "      <th>2395</th>\n",
       "      <td>Rusun Sindang Koja - Kp. Sawah</td>\n",
       "      <td>1</td>\n",
       "    </tr>\n",
       "    <tr>\n",
       "      <th>2396</th>\n",
       "      <td>Pasar Minggu - Ciganjur via KB Ragunan</td>\n",
       "      <td>1</td>\n",
       "    </tr>\n",
       "    <tr>\n",
       "      <th>2397</th>\n",
       "      <td>Rusun Waduk Pluit - Penjaringan</td>\n",
       "      <td>1</td>\n",
       "    </tr>\n",
       "  </tbody>\n",
       "</table>\n",
       "</div>"
      ],
      "text/plain": [
       "                                corridorName  count\n",
       "3365              Kampung Rambutan - Ragunan      1\n",
       "2394          Rusun Sindang Koja - Kp. Sawah      1\n",
       "2395          Rusun Sindang Koja - Kp. Sawah      1\n",
       "2396  Pasar Minggu - Ciganjur via KB Ragunan      1\n",
       "2397         Rusun Waduk Pluit - Penjaringan      1"
      ]
     },
     "execution_count": 696,
     "metadata": {},
     "output_type": "execute_result"
    }
   ],
   "source": [
    "corridorLow = df[['tapInStopsLat','tapInStopsLon','tapInStopsName','corridorID','corridorName']].value_counts().reset_index().sort_values(by='count').head()\n",
    "corridorLow[['corridorName','count']]"
   ]
  },
  {
   "cell_type": "code",
   "execution_count": 697,
   "metadata": {},
   "outputs": [
    {
     "data": {
      "text/html": [
       "<div style=\"width:100%;\"><div style=\"position:relative;width:100%;height:0;padding-bottom:60%;\"><span style=\"color:#565656\">Make this Notebook Trusted to load map: File -> Trust Notebook</span><iframe srcdoc=\"&lt;!DOCTYPE html&gt;\n",
       "&lt;html&gt;\n",
       "&lt;head&gt;\n",
       "    \n",
       "    &lt;meta http-equiv=&quot;content-type&quot; content=&quot;text/html; charset=UTF-8&quot; /&gt;\n",
       "    \n",
       "        &lt;script&gt;\n",
       "            L_NO_TOUCH = false;\n",
       "            L_DISABLE_3D = false;\n",
       "        &lt;/script&gt;\n",
       "    \n",
       "    &lt;style&gt;html, body {width: 100%;height: 100%;margin: 0;padding: 0;}&lt;/style&gt;\n",
       "    &lt;style&gt;#map {position:absolute;top:0;bottom:0;right:0;left:0;}&lt;/style&gt;\n",
       "    &lt;script src=&quot;https://cdn.jsdelivr.net/npm/leaflet@1.9.3/dist/leaflet.js&quot;&gt;&lt;/script&gt;\n",
       "    &lt;script src=&quot;https://code.jquery.com/jquery-3.7.1.min.js&quot;&gt;&lt;/script&gt;\n",
       "    &lt;script src=&quot;https://cdn.jsdelivr.net/npm/bootstrap@5.2.2/dist/js/bootstrap.bundle.min.js&quot;&gt;&lt;/script&gt;\n",
       "    &lt;script src=&quot;https://cdnjs.cloudflare.com/ajax/libs/Leaflet.awesome-markers/2.0.2/leaflet.awesome-markers.js&quot;&gt;&lt;/script&gt;\n",
       "    &lt;link rel=&quot;stylesheet&quot; href=&quot;https://cdn.jsdelivr.net/npm/leaflet@1.9.3/dist/leaflet.css&quot;/&gt;\n",
       "    &lt;link rel=&quot;stylesheet&quot; href=&quot;https://cdn.jsdelivr.net/npm/bootstrap@5.2.2/dist/css/bootstrap.min.css&quot;/&gt;\n",
       "    &lt;link rel=&quot;stylesheet&quot; href=&quot;https://netdna.bootstrapcdn.com/bootstrap/3.0.0/css/bootstrap.min.css&quot;/&gt;\n",
       "    &lt;link rel=&quot;stylesheet&quot; href=&quot;https://cdn.jsdelivr.net/npm/@fortawesome/fontawesome-free@6.2.0/css/all.min.css&quot;/&gt;\n",
       "    &lt;link rel=&quot;stylesheet&quot; href=&quot;https://cdnjs.cloudflare.com/ajax/libs/Leaflet.awesome-markers/2.0.2/leaflet.awesome-markers.css&quot;/&gt;\n",
       "    &lt;link rel=&quot;stylesheet&quot; href=&quot;https://cdn.jsdelivr.net/gh/python-visualization/folium/folium/templates/leaflet.awesome.rotate.min.css&quot;/&gt;\n",
       "    \n",
       "            &lt;meta name=&quot;viewport&quot; content=&quot;width=device-width,\n",
       "                initial-scale=1.0, maximum-scale=1.0, user-scalable=no&quot; /&gt;\n",
       "            &lt;style&gt;\n",
       "                #map_2b19d212e72516d0cb595927ecbe1518 {\n",
       "                    position: relative;\n",
       "                    width: 100.0%;\n",
       "                    height: 100.0%;\n",
       "                    left: 0.0%;\n",
       "                    top: 0.0%;\n",
       "                }\n",
       "                .leaflet-container { font-size: 1rem; }\n",
       "            &lt;/style&gt;\n",
       "        \n",
       "&lt;/head&gt;\n",
       "&lt;body&gt;\n",
       "    \n",
       "    \n",
       "            &lt;div class=&quot;folium-map&quot; id=&quot;map_2b19d212e72516d0cb595927ecbe1518&quot; &gt;&lt;/div&gt;\n",
       "        \n",
       "&lt;/body&gt;\n",
       "&lt;script&gt;\n",
       "    \n",
       "    \n",
       "            var map_2b19d212e72516d0cb595927ecbe1518 = L.map(\n",
       "                &quot;map_2b19d212e72516d0cb595927ecbe1518&quot;,\n",
       "                {\n",
       "                    center: [-6.191861352405944, 106.82608477268178],\n",
       "                    crs: L.CRS.EPSG3857,\n",
       "                    zoom: 11,\n",
       "                    zoomControl: true,\n",
       "                    preferCanvas: false,\n",
       "                }\n",
       "            );\n",
       "\n",
       "            \n",
       "\n",
       "        \n",
       "    \n",
       "            var tile_layer_637d1e15a989b4fd5835bcb3153b54e7 = L.tileLayer(\n",
       "                &quot;https://tile.openstreetmap.org/{z}/{x}/{y}.png&quot;,\n",
       "                {&quot;attribution&quot;: &quot;\\u0026copy; \\u003ca href=\\&quot;https://www.openstreetmap.org/copyright\\&quot;\\u003eOpenStreetMap\\u003c/a\\u003e contributors&quot;, &quot;detectRetina&quot;: false, &quot;maxNativeZoom&quot;: 19, &quot;maxZoom&quot;: 19, &quot;minZoom&quot;: 0, &quot;noWrap&quot;: false, &quot;opacity&quot;: 1, &quot;subdomains&quot;: &quot;abc&quot;, &quot;tms&quot;: false}\n",
       "            );\n",
       "        \n",
       "    \n",
       "            tile_layer_637d1e15a989b4fd5835bcb3153b54e7.addTo(map_2b19d212e72516d0cb595927ecbe1518);\n",
       "        \n",
       "    \n",
       "            var feature_group_c365c717babe62110b0d28ce292ca39b = L.featureGroup(\n",
       "                {}\n",
       "            );\n",
       "        \n",
       "    \n",
       "            var marker_119f12f8a402569612e4642dcefe40b4 = L.marker(\n",
       "                [-6.290154, 106.88116],\n",
       "                {}\n",
       "            ).addTo(feature_group_c365c717babe62110b0d28ce292ca39b);\n",
       "        \n",
       "    \n",
       "            var icon_c076cc518ca4464d6eec16413562a6e3 = L.AwesomeMarkers.icon(\n",
       "                {&quot;extraClasses&quot;: &quot;fa-rotate-0&quot;, &quot;icon&quot;: &quot;bus&quot;, &quot;iconColor&quot;: &quot;white&quot;, &quot;markerColor&quot;: &quot;green&quot;, &quot;prefix&quot;: &quot;fa&quot;}\n",
       "            );\n",
       "            marker_119f12f8a402569612e4642dcefe40b4.setIcon(icon_c076cc518ca4464d6eec16413562a6e3);\n",
       "        \n",
       "    \n",
       "            marker_119f12f8a402569612e4642dcefe40b4.bindTooltip(\n",
       "                `&lt;div&gt;\n",
       "                     Koridor TOP 5 Tersibuk\n",
       "                 &lt;/div&gt;`,\n",
       "                {&quot;sticky&quot;: true}\n",
       "            );\n",
       "        \n",
       "    \n",
       "            var marker_f0e19ba48b68e7c95aaeb0ddc9717641 = L.marker(\n",
       "                [-6.135667, 106.76299],\n",
       "                {}\n",
       "            ).addTo(feature_group_c365c717babe62110b0d28ce292ca39b);\n",
       "        \n",
       "    \n",
       "            var icon_6f2184b8e684369cab6add3aa2fb8c90 = L.AwesomeMarkers.icon(\n",
       "                {&quot;extraClasses&quot;: &quot;fa-rotate-0&quot;, &quot;icon&quot;: &quot;bus&quot;, &quot;iconColor&quot;: &quot;white&quot;, &quot;markerColor&quot;: &quot;green&quot;, &quot;prefix&quot;: &quot;fa&quot;}\n",
       "            );\n",
       "            marker_f0e19ba48b68e7c95aaeb0ddc9717641.setIcon(icon_6f2184b8e684369cab6add3aa2fb8c90);\n",
       "        \n",
       "    \n",
       "            marker_f0e19ba48b68e7c95aaeb0ddc9717641.bindTooltip(\n",
       "                `&lt;div&gt;\n",
       "                     Koridor TOP 5 Tersibuk\n",
       "                 &lt;/div&gt;`,\n",
       "                {&quot;sticky&quot;: true}\n",
       "            );\n",
       "        \n",
       "    \n",
       "            var marker_ce41839749bfe7c91f0ebd15b7c5f359 = L.marker(\n",
       "                [-6.126306, 106.79203],\n",
       "                {}\n",
       "            ).addTo(feature_group_c365c717babe62110b0d28ce292ca39b);\n",
       "        \n",
       "    \n",
       "            var icon_25845d726bbe83b9cbee8bd26c8f6116 = L.AwesomeMarkers.icon(\n",
       "                {&quot;extraClasses&quot;: &quot;fa-rotate-0&quot;, &quot;icon&quot;: &quot;bus&quot;, &quot;iconColor&quot;: &quot;white&quot;, &quot;markerColor&quot;: &quot;green&quot;, &quot;prefix&quot;: &quot;fa&quot;}\n",
       "            );\n",
       "            marker_ce41839749bfe7c91f0ebd15b7c5f359.setIcon(icon_25845d726bbe83b9cbee8bd26c8f6116);\n",
       "        \n",
       "    \n",
       "            marker_ce41839749bfe7c91f0ebd15b7c5f359.bindTooltip(\n",
       "                `&lt;div&gt;\n",
       "                     Koridor TOP 5 Tersibuk\n",
       "                 &lt;/div&gt;`,\n",
       "                {&quot;sticky&quot;: true}\n",
       "            );\n",
       "        \n",
       "    \n",
       "            var marker_266296554b94fa60826576ad847f3f20 = L.marker(\n",
       "                [-6.139853, 106.85663],\n",
       "                {}\n",
       "            ).addTo(feature_group_c365c717babe62110b0d28ce292ca39b);\n",
       "        \n",
       "    \n",
       "            var icon_90febdd83e230e5787c3c261e2298636 = L.AwesomeMarkers.icon(\n",
       "                {&quot;extraClasses&quot;: &quot;fa-rotate-0&quot;, &quot;icon&quot;: &quot;bus&quot;, &quot;iconColor&quot;: &quot;white&quot;, &quot;markerColor&quot;: &quot;green&quot;, &quot;prefix&quot;: &quot;fa&quot;}\n",
       "            );\n",
       "            marker_266296554b94fa60826576ad847f3f20.setIcon(icon_90febdd83e230e5787c3c261e2298636);\n",
       "        \n",
       "    \n",
       "            marker_266296554b94fa60826576ad847f3f20.bindTooltip(\n",
       "                `&lt;div&gt;\n",
       "                     Koridor TOP 5 Tersibuk\n",
       "                 &lt;/div&gt;`,\n",
       "                {&quot;sticky&quot;: true}\n",
       "            );\n",
       "        \n",
       "    \n",
       "            var marker_1e11e8691116058505052564365ce695 = L.marker(\n",
       "                [-6.368735, 106.89366],\n",
       "                {}\n",
       "            ).addTo(feature_group_c365c717babe62110b0d28ce292ca39b);\n",
       "        \n",
       "    \n",
       "            var icon_a3a04f0be46923ccad51e527ccabafcc = L.AwesomeMarkers.icon(\n",
       "                {&quot;extraClasses&quot;: &quot;fa-rotate-0&quot;, &quot;icon&quot;: &quot;bus&quot;, &quot;iconColor&quot;: &quot;white&quot;, &quot;markerColor&quot;: &quot;green&quot;, &quot;prefix&quot;: &quot;fa&quot;}\n",
       "            );\n",
       "            marker_1e11e8691116058505052564365ce695.setIcon(icon_a3a04f0be46923ccad51e527ccabafcc);\n",
       "        \n",
       "    \n",
       "            marker_1e11e8691116058505052564365ce695.bindTooltip(\n",
       "                `&lt;div&gt;\n",
       "                     Koridor TOP 5 Tersibuk\n",
       "                 &lt;/div&gt;`,\n",
       "                {&quot;sticky&quot;: true}\n",
       "            );\n",
       "        \n",
       "    \n",
       "            var marker_751fbeefb720d259cebb8e18ca9551e5 = L.marker(\n",
       "                [-6.306068, 106.88003],\n",
       "                {}\n",
       "            ).addTo(feature_group_c365c717babe62110b0d28ce292ca39b);\n",
       "        \n",
       "    \n",
       "            var icon_6cebe26218821f355946c4d82a5f1cd8 = L.AwesomeMarkers.icon(\n",
       "                {&quot;extraClasses&quot;: &quot;fa-rotate-0&quot;, &quot;icon&quot;: &quot;bus&quot;, &quot;iconColor&quot;: &quot;white&quot;, &quot;markerColor&quot;: &quot;red&quot;, &quot;prefix&quot;: &quot;fa&quot;}\n",
       "            );\n",
       "            marker_751fbeefb720d259cebb8e18ca9551e5.setIcon(icon_6cebe26218821f355946c4d82a5f1cd8);\n",
       "        \n",
       "    \n",
       "            marker_751fbeefb720d259cebb8e18ca9551e5.bindTooltip(\n",
       "                `&lt;div&gt;\n",
       "                     Koridor TOP 5 Tersepi\n",
       "                 &lt;/div&gt;`,\n",
       "                {&quot;sticky&quot;: true}\n",
       "            );\n",
       "        \n",
       "    \n",
       "            var marker_450862a2297dcf073014591690df0137 = L.marker(\n",
       "                [-6.108361, 106.90098],\n",
       "                {}\n",
       "            ).addTo(feature_group_c365c717babe62110b0d28ce292ca39b);\n",
       "        \n",
       "    \n",
       "            var icon_130bf74dd84c20e062349b915f9ebeba = L.AwesomeMarkers.icon(\n",
       "                {&quot;extraClasses&quot;: &quot;fa-rotate-0&quot;, &quot;icon&quot;: &quot;bus&quot;, &quot;iconColor&quot;: &quot;white&quot;, &quot;markerColor&quot;: &quot;red&quot;, &quot;prefix&quot;: &quot;fa&quot;}\n",
       "            );\n",
       "            marker_450862a2297dcf073014591690df0137.setIcon(icon_130bf74dd84c20e062349b915f9ebeba);\n",
       "        \n",
       "    \n",
       "            marker_450862a2297dcf073014591690df0137.bindTooltip(\n",
       "                `&lt;div&gt;\n",
       "                     Koridor TOP 5 Tersepi\n",
       "                 &lt;/div&gt;`,\n",
       "                {&quot;sticky&quot;: true}\n",
       "            );\n",
       "        \n",
       "    \n",
       "            var marker_2886e094c6617e979b9c15654aaae433 = L.marker(\n",
       "                [-6.10836, 106.9171],\n",
       "                {}\n",
       "            ).addTo(feature_group_c365c717babe62110b0d28ce292ca39b);\n",
       "        \n",
       "    \n",
       "            var icon_f4f299af4afecd3d3b6b32cdd8c62f8a = L.AwesomeMarkers.icon(\n",
       "                {&quot;extraClasses&quot;: &quot;fa-rotate-0&quot;, &quot;icon&quot;: &quot;bus&quot;, &quot;iconColor&quot;: &quot;white&quot;, &quot;markerColor&quot;: &quot;red&quot;, &quot;prefix&quot;: &quot;fa&quot;}\n",
       "            );\n",
       "            marker_2886e094c6617e979b9c15654aaae433.setIcon(icon_f4f299af4afecd3d3b6b32cdd8c62f8a);\n",
       "        \n",
       "    \n",
       "            marker_2886e094c6617e979b9c15654aaae433.bindTooltip(\n",
       "                `&lt;div&gt;\n",
       "                     Koridor TOP 5 Tersepi\n",
       "                 &lt;/div&gt;`,\n",
       "                {&quot;sticky&quot;: true}\n",
       "            );\n",
       "        \n",
       "    \n",
       "            var marker_8bce8fc56cfaec61bea711a410f90b9e = L.marker(\n",
       "                [-6.340334, 106.804694],\n",
       "                {}\n",
       "            ).addTo(feature_group_c365c717babe62110b0d28ce292ca39b);\n",
       "        \n",
       "    \n",
       "            var icon_ba1d857cde5632b2fe614ad5ef35cb90 = L.AwesomeMarkers.icon(\n",
       "                {&quot;extraClasses&quot;: &quot;fa-rotate-0&quot;, &quot;icon&quot;: &quot;bus&quot;, &quot;iconColor&quot;: &quot;white&quot;, &quot;markerColor&quot;: &quot;red&quot;, &quot;prefix&quot;: &quot;fa&quot;}\n",
       "            );\n",
       "            marker_8bce8fc56cfaec61bea711a410f90b9e.setIcon(icon_ba1d857cde5632b2fe614ad5ef35cb90);\n",
       "        \n",
       "    \n",
       "            marker_8bce8fc56cfaec61bea711a410f90b9e.bindTooltip(\n",
       "                `&lt;div&gt;\n",
       "                     Koridor TOP 5 Tersepi\n",
       "                 &lt;/div&gt;`,\n",
       "                {&quot;sticky&quot;: true}\n",
       "            );\n",
       "        \n",
       "    \n",
       "            var marker_552fea210c81ef55515a23f3eb0dda5f = L.marker(\n",
       "                [-6.126266, 106.8044],\n",
       "                {}\n",
       "            ).addTo(feature_group_c365c717babe62110b0d28ce292ca39b);\n",
       "        \n",
       "    \n",
       "            var icon_8b3c31c64c3ea0c88133eba0df0aa888 = L.AwesomeMarkers.icon(\n",
       "                {&quot;extraClasses&quot;: &quot;fa-rotate-0&quot;, &quot;icon&quot;: &quot;bus&quot;, &quot;iconColor&quot;: &quot;white&quot;, &quot;markerColor&quot;: &quot;red&quot;, &quot;prefix&quot;: &quot;fa&quot;}\n",
       "            );\n",
       "            marker_552fea210c81ef55515a23f3eb0dda5f.setIcon(icon_8b3c31c64c3ea0c88133eba0df0aa888);\n",
       "        \n",
       "    \n",
       "            marker_552fea210c81ef55515a23f3eb0dda5f.bindTooltip(\n",
       "                `&lt;div&gt;\n",
       "                     Koridor TOP 5 Tersepi\n",
       "                 &lt;/div&gt;`,\n",
       "                {&quot;sticky&quot;: true}\n",
       "            );\n",
       "        \n",
       "    \n",
       "            feature_group_c365c717babe62110b0d28ce292ca39b.addTo(map_2b19d212e72516d0cb595927ecbe1518);\n",
       "        \n",
       "&lt;/script&gt;\n",
       "&lt;/html&gt;\" style=\"position:absolute;width:100%;height:100%;left:0;top:0;border:none !important;\" allowfullscreen webkitallowfullscreen mozallowfullscreen></iframe></div></div>"
      ],
      "text/plain": [
       "<folium.folium.Map at 0x28382ef50>"
      ]
     },
     "execution_count": 697,
     "metadata": {},
     "output_type": "execute_result"
    }
   ],
   "source": [
    "import folium\n",
    "\n",
    "jakarta_map = folium.Map([-6.191861352405944, 106.82608477268178], zoom_start=11)\n",
    "halte = folium.map.FeatureGroup()\n",
    "\n",
    "for lat, long in list(zip(corridorHigh['tapInStopsLat'], corridorHigh['tapInStopsLon'])):\n",
    "    halte.add_child(\n",
    "        folium.Marker(\n",
    "    [lat, long],\n",
    "    tooltip='Koridor TOP 5 Tersibuk',                                           \n",
    "    icon=folium.Icon(\n",
    "        icon='bus',                                                                           \n",
    "        prefix='fa',                                                       \n",
    "        color='green'                                                 \n",
    "    ))\n",
    ")\n",
    "\n",
    "for lat, long in list(zip(corridorLow['tapInStopsLat'], corridorLow['tapInStopsLon'])):\n",
    "    halte.add_child(\n",
    "        folium.Marker(\n",
    "    [lat, long],\n",
    "    tooltip='Koridor TOP 5 Tersepi',                                \n",
    "    icon=folium.Icon(\n",
    "        icon='bus',                                                                                \n",
    "        prefix='fa',                                                     \n",
    "        color='red'                                                  \n",
    "    ))\n",
    ")\n",
    "\n",
    "jakarta_map.add_child(halte)\n",
    "\n",
    "jakarta_map"
   ]
  },
  {
   "cell_type": "code",
   "execution_count": 698,
   "metadata": {},
   "outputs": [
    {
     "data": {
      "text/html": [
       "<div>\n",
       "<style scoped>\n",
       "    .dataframe tbody tr th:only-of-type {\n",
       "        vertical-align: middle;\n",
       "    }\n",
       "\n",
       "    .dataframe tbody tr th {\n",
       "        vertical-align: top;\n",
       "    }\n",
       "\n",
       "    .dataframe thead th {\n",
       "        text-align: right;\n",
       "    }\n",
       "</style>\n",
       "<table border=\"1\" class=\"dataframe\">\n",
       "  <thead>\n",
       "    <tr style=\"text-align: right;\">\n",
       "      <th></th>\n",
       "      <th>corridorName</th>\n",
       "      <th>count</th>\n",
       "    </tr>\n",
       "  </thead>\n",
       "  <tbody>\n",
       "    <tr>\n",
       "      <th>0</th>\n",
       "      <td>Pinang Ranti - Pramuka</td>\n",
       "      <td>72</td>\n",
       "    </tr>\n",
       "    <tr>\n",
       "      <th>1</th>\n",
       "      <td>Pulo Gadung - Monas 2</td>\n",
       "      <td>59</td>\n",
       "    </tr>\n",
       "    <tr>\n",
       "      <th>2</th>\n",
       "      <td>Puri Beta 2 - Tendean</td>\n",
       "      <td>54</td>\n",
       "    </tr>\n",
       "    <tr>\n",
       "      <th>3</th>\n",
       "      <td>Rusun Kapuk Muara - Penjaringan</td>\n",
       "      <td>52</td>\n",
       "    </tr>\n",
       "    <tr>\n",
       "      <th>4</th>\n",
       "      <td>Pulo Gadung 2 - Tosari</td>\n",
       "      <td>52</td>\n",
       "    </tr>\n",
       "  </tbody>\n",
       "</table>\n",
       "</div>"
      ],
      "text/plain": [
       "                      corridorName  count\n",
       "0           Pinang Ranti - Pramuka     72\n",
       "1            Pulo Gadung - Monas 2     59\n",
       "2            Puri Beta 2 - Tendean     54\n",
       "3  Rusun Kapuk Muara - Penjaringan     52\n",
       "4           Pulo Gadung 2 - Tosari     52"
      ]
     },
     "execution_count": 698,
     "metadata": {},
     "output_type": "execute_result"
    }
   ],
   "source": [
    "corridorFemale = df[df['payCardSex']=='F'][['tapInStopsLat','tapInStopsLon','tapInStopsName','corridorID','corridorName']].value_counts().reset_index().sort_values(by='count', ascending=False).head()\n",
    "corridorFemale[['corridorName','count']]"
   ]
  },
  {
   "cell_type": "code",
   "execution_count": 699,
   "metadata": {},
   "outputs": [
    {
     "data": {
      "text/html": [
       "<div>\n",
       "<style scoped>\n",
       "    .dataframe tbody tr th:only-of-type {\n",
       "        vertical-align: middle;\n",
       "    }\n",
       "\n",
       "    .dataframe tbody tr th {\n",
       "        vertical-align: top;\n",
       "    }\n",
       "\n",
       "    .dataframe thead th {\n",
       "        text-align: right;\n",
       "    }\n",
       "</style>\n",
       "<table border=\"1\" class=\"dataframe\">\n",
       "  <thead>\n",
       "    <tr style=\"text-align: right;\">\n",
       "      <th></th>\n",
       "      <th>corridorName</th>\n",
       "      <th>count</th>\n",
       "    </tr>\n",
       "  </thead>\n",
       "  <tbody>\n",
       "    <tr>\n",
       "      <th>0</th>\n",
       "      <td>Pinang Ranti - Pramuka</td>\n",
       "      <td>73</td>\n",
       "    </tr>\n",
       "    <tr>\n",
       "      <th>1</th>\n",
       "      <td>Harmoni - Jakarta International Stadium</td>\n",
       "      <td>62</td>\n",
       "    </tr>\n",
       "    <tr>\n",
       "      <th>2</th>\n",
       "      <td>Rusun Kapuk Muara - Penjaringan</td>\n",
       "      <td>56</td>\n",
       "    </tr>\n",
       "    <tr>\n",
       "      <th>3</th>\n",
       "      <td>Ragunan - MH Thamrin via Kuningan</td>\n",
       "      <td>55</td>\n",
       "    </tr>\n",
       "    <tr>\n",
       "      <th>4</th>\n",
       "      <td>Cibubur - BKN</td>\n",
       "      <td>52</td>\n",
       "    </tr>\n",
       "  </tbody>\n",
       "</table>\n",
       "</div>"
      ],
      "text/plain": [
       "                              corridorName  count\n",
       "0                   Pinang Ranti - Pramuka     73\n",
       "1  Harmoni - Jakarta International Stadium     62\n",
       "2          Rusun Kapuk Muara - Penjaringan     56\n",
       "3        Ragunan - MH Thamrin via Kuningan     55\n",
       "4                            Cibubur - BKN     52"
      ]
     },
     "execution_count": 699,
     "metadata": {},
     "output_type": "execute_result"
    }
   ],
   "source": [
    "corridorMale = df[df['payCardSex']=='M'][['tapInStopsLat','tapInStopsLon','tapInStopsName','corridorID','corridorName']].value_counts().reset_index().sort_values(by='count', ascending=False).head()\n",
    "corridorMale[['corridorName','count']]"
   ]
  },
  {
   "cell_type": "code",
   "execution_count": 700,
   "metadata": {},
   "outputs": [
    {
     "data": {
      "text/html": [
       "<div style=\"width:100%;\"><div style=\"position:relative;width:100%;height:0;padding-bottom:60%;\"><span style=\"color:#565656\">Make this Notebook Trusted to load map: File -> Trust Notebook</span><iframe srcdoc=\"&lt;!DOCTYPE html&gt;\n",
       "&lt;html&gt;\n",
       "&lt;head&gt;\n",
       "    \n",
       "    &lt;meta http-equiv=&quot;content-type&quot; content=&quot;text/html; charset=UTF-8&quot; /&gt;\n",
       "    \n",
       "        &lt;script&gt;\n",
       "            L_NO_TOUCH = false;\n",
       "            L_DISABLE_3D = false;\n",
       "        &lt;/script&gt;\n",
       "    \n",
       "    &lt;style&gt;html, body {width: 100%;height: 100%;margin: 0;padding: 0;}&lt;/style&gt;\n",
       "    &lt;style&gt;#map {position:absolute;top:0;bottom:0;right:0;left:0;}&lt;/style&gt;\n",
       "    &lt;script src=&quot;https://cdn.jsdelivr.net/npm/leaflet@1.9.3/dist/leaflet.js&quot;&gt;&lt;/script&gt;\n",
       "    &lt;script src=&quot;https://code.jquery.com/jquery-3.7.1.min.js&quot;&gt;&lt;/script&gt;\n",
       "    &lt;script src=&quot;https://cdn.jsdelivr.net/npm/bootstrap@5.2.2/dist/js/bootstrap.bundle.min.js&quot;&gt;&lt;/script&gt;\n",
       "    &lt;script src=&quot;https://cdnjs.cloudflare.com/ajax/libs/Leaflet.awesome-markers/2.0.2/leaflet.awesome-markers.js&quot;&gt;&lt;/script&gt;\n",
       "    &lt;link rel=&quot;stylesheet&quot; href=&quot;https://cdn.jsdelivr.net/npm/leaflet@1.9.3/dist/leaflet.css&quot;/&gt;\n",
       "    &lt;link rel=&quot;stylesheet&quot; href=&quot;https://cdn.jsdelivr.net/npm/bootstrap@5.2.2/dist/css/bootstrap.min.css&quot;/&gt;\n",
       "    &lt;link rel=&quot;stylesheet&quot; href=&quot;https://netdna.bootstrapcdn.com/bootstrap/3.0.0/css/bootstrap.min.css&quot;/&gt;\n",
       "    &lt;link rel=&quot;stylesheet&quot; href=&quot;https://cdn.jsdelivr.net/npm/@fortawesome/fontawesome-free@6.2.0/css/all.min.css&quot;/&gt;\n",
       "    &lt;link rel=&quot;stylesheet&quot; href=&quot;https://cdnjs.cloudflare.com/ajax/libs/Leaflet.awesome-markers/2.0.2/leaflet.awesome-markers.css&quot;/&gt;\n",
       "    &lt;link rel=&quot;stylesheet&quot; href=&quot;https://cdn.jsdelivr.net/gh/python-visualization/folium/folium/templates/leaflet.awesome.rotate.min.css&quot;/&gt;\n",
       "    \n",
       "            &lt;meta name=&quot;viewport&quot; content=&quot;width=device-width,\n",
       "                initial-scale=1.0, maximum-scale=1.0, user-scalable=no&quot; /&gt;\n",
       "            &lt;style&gt;\n",
       "                #map_4510598387a4190f626410b1b7cb5781 {\n",
       "                    position: relative;\n",
       "                    width: 100.0%;\n",
       "                    height: 100.0%;\n",
       "                    left: 0.0%;\n",
       "                    top: 0.0%;\n",
       "                }\n",
       "                .leaflet-container { font-size: 1rem; }\n",
       "            &lt;/style&gt;\n",
       "        \n",
       "&lt;/head&gt;\n",
       "&lt;body&gt;\n",
       "    \n",
       "    \n",
       "            &lt;div class=&quot;folium-map&quot; id=&quot;map_4510598387a4190f626410b1b7cb5781&quot; &gt;&lt;/div&gt;\n",
       "        \n",
       "&lt;/body&gt;\n",
       "&lt;script&gt;\n",
       "    \n",
       "    \n",
       "            var map_4510598387a4190f626410b1b7cb5781 = L.map(\n",
       "                &quot;map_4510598387a4190f626410b1b7cb5781&quot;,\n",
       "                {\n",
       "                    center: [-6.191861352405944, 106.82608477268178],\n",
       "                    crs: L.CRS.EPSG3857,\n",
       "                    zoom: 11,\n",
       "                    zoomControl: true,\n",
       "                    preferCanvas: false,\n",
       "                }\n",
       "            );\n",
       "\n",
       "            \n",
       "\n",
       "        \n",
       "    \n",
       "            var tile_layer_f89754142a7bebdee2d58b561eb34cba = L.tileLayer(\n",
       "                &quot;https://tile.openstreetmap.org/{z}/{x}/{y}.png&quot;,\n",
       "                {&quot;attribution&quot;: &quot;\\u0026copy; \\u003ca href=\\&quot;https://www.openstreetmap.org/copyright\\&quot;\\u003eOpenStreetMap\\u003c/a\\u003e contributors&quot;, &quot;detectRetina&quot;: false, &quot;maxNativeZoom&quot;: 19, &quot;maxZoom&quot;: 19, &quot;minZoom&quot;: 0, &quot;noWrap&quot;: false, &quot;opacity&quot;: 1, &quot;subdomains&quot;: &quot;abc&quot;, &quot;tms&quot;: false}\n",
       "            );\n",
       "        \n",
       "    \n",
       "            tile_layer_f89754142a7bebdee2d58b561eb34cba.addTo(map_4510598387a4190f626410b1b7cb5781);\n",
       "        \n",
       "    \n",
       "            var feature_group_797637963a37abda77cf7caed95270c4 = L.featureGroup(\n",
       "                {}\n",
       "            );\n",
       "        \n",
       "    \n",
       "            var marker_248dec19f0306ad53d01419da3d56031 = L.marker(\n",
       "                [-6.290154, 106.88116],\n",
       "                {}\n",
       "            ).addTo(feature_group_797637963a37abda77cf7caed95270c4);\n",
       "        \n",
       "    \n",
       "            var icon_b6f34d7afadc2a43b5f9dd5bb1a75977 = L.AwesomeMarkers.icon(\n",
       "                {&quot;extraClasses&quot;: &quot;fa-rotate-0&quot;, &quot;icon&quot;: &quot;bus&quot;, &quot;iconColor&quot;: &quot;white&quot;, &quot;markerColor&quot;: &quot;pink&quot;, &quot;prefix&quot;: &quot;fa&quot;}\n",
       "            );\n",
       "            marker_248dec19f0306ad53d01419da3d56031.setIcon(icon_b6f34d7afadc2a43b5f9dd5bb1a75977);\n",
       "        \n",
       "    \n",
       "            marker_248dec19f0306ad53d01419da3d56031.bindTooltip(\n",
       "                `&lt;div&gt;\n",
       "                     Koridor TOP 5 Perempuan\n",
       "                 &lt;/div&gt;`,\n",
       "                {&quot;sticky&quot;: true}\n",
       "            );\n",
       "        \n",
       "    \n",
       "            var marker_32533d9964a5e84554cc4389b2635bd5 = L.marker(\n",
       "                [-6.178203, 106.89859],\n",
       "                {}\n",
       "            ).addTo(feature_group_797637963a37abda77cf7caed95270c4);\n",
       "        \n",
       "    \n",
       "            var icon_3f287c58a45d28618adf99ac4ccd2584 = L.AwesomeMarkers.icon(\n",
       "                {&quot;extraClasses&quot;: &quot;fa-rotate-0&quot;, &quot;icon&quot;: &quot;bus&quot;, &quot;iconColor&quot;: &quot;white&quot;, &quot;markerColor&quot;: &quot;pink&quot;, &quot;prefix&quot;: &quot;fa&quot;}\n",
       "            );\n",
       "            marker_32533d9964a5e84554cc4389b2635bd5.setIcon(icon_3f287c58a45d28618adf99ac4ccd2584);\n",
       "        \n",
       "    \n",
       "            marker_32533d9964a5e84554cc4389b2635bd5.bindTooltip(\n",
       "                `&lt;div&gt;\n",
       "                     Koridor TOP 5 Perempuan\n",
       "                 &lt;/div&gt;`,\n",
       "                {&quot;sticky&quot;: true}\n",
       "            );\n",
       "        \n",
       "    \n",
       "            var marker_8cf51bc4cd81012af79f57168e49c409 = L.marker(\n",
       "                [-6.238064, 106.77121],\n",
       "                {}\n",
       "            ).addTo(feature_group_797637963a37abda77cf7caed95270c4);\n",
       "        \n",
       "    \n",
       "            var icon_9d85bb544a5f47af670ef4f2fc3b46f9 = L.AwesomeMarkers.icon(\n",
       "                {&quot;extraClasses&quot;: &quot;fa-rotate-0&quot;, &quot;icon&quot;: &quot;bus&quot;, &quot;iconColor&quot;: &quot;white&quot;, &quot;markerColor&quot;: &quot;pink&quot;, &quot;prefix&quot;: &quot;fa&quot;}\n",
       "            );\n",
       "            marker_8cf51bc4cd81012af79f57168e49c409.setIcon(icon_9d85bb544a5f47af670ef4f2fc3b46f9);\n",
       "        \n",
       "    \n",
       "            marker_8cf51bc4cd81012af79f57168e49c409.bindTooltip(\n",
       "                `&lt;div&gt;\n",
       "                     Koridor TOP 5 Perempuan\n",
       "                 &lt;/div&gt;`,\n",
       "                {&quot;sticky&quot;: true}\n",
       "            );\n",
       "        \n",
       "    \n",
       "            var marker_2c77411582a9864d9a26cdf26a67d878 = L.marker(\n",
       "                [-6.135667, 106.76299],\n",
       "                {}\n",
       "            ).addTo(feature_group_797637963a37abda77cf7caed95270c4);\n",
       "        \n",
       "    \n",
       "            var icon_6dd54bb1d8decce336fbacfac7abc9bf = L.AwesomeMarkers.icon(\n",
       "                {&quot;extraClasses&quot;: &quot;fa-rotate-0&quot;, &quot;icon&quot;: &quot;bus&quot;, &quot;iconColor&quot;: &quot;white&quot;, &quot;markerColor&quot;: &quot;pink&quot;, &quot;prefix&quot;: &quot;fa&quot;}\n",
       "            );\n",
       "            marker_2c77411582a9864d9a26cdf26a67d878.setIcon(icon_6dd54bb1d8decce336fbacfac7abc9bf);\n",
       "        \n",
       "    \n",
       "            marker_2c77411582a9864d9a26cdf26a67d878.bindTooltip(\n",
       "                `&lt;div&gt;\n",
       "                     Koridor TOP 5 Perempuan\n",
       "                 &lt;/div&gt;`,\n",
       "                {&quot;sticky&quot;: true}\n",
       "            );\n",
       "        \n",
       "    \n",
       "            var marker_ccb0ae5cc91ea3ab7bf464442acca204 = L.marker(\n",
       "                [-6.192192, 106.87401],\n",
       "                {}\n",
       "            ).addTo(feature_group_797637963a37abda77cf7caed95270c4);\n",
       "        \n",
       "    \n",
       "            var icon_a19424a6683268e31c17ec257d122f48 = L.AwesomeMarkers.icon(\n",
       "                {&quot;extraClasses&quot;: &quot;fa-rotate-0&quot;, &quot;icon&quot;: &quot;bus&quot;, &quot;iconColor&quot;: &quot;white&quot;, &quot;markerColor&quot;: &quot;pink&quot;, &quot;prefix&quot;: &quot;fa&quot;}\n",
       "            );\n",
       "            marker_ccb0ae5cc91ea3ab7bf464442acca204.setIcon(icon_a19424a6683268e31c17ec257d122f48);\n",
       "        \n",
       "    \n",
       "            marker_ccb0ae5cc91ea3ab7bf464442acca204.bindTooltip(\n",
       "                `&lt;div&gt;\n",
       "                     Koridor TOP 5 Perempuan\n",
       "                 &lt;/div&gt;`,\n",
       "                {&quot;sticky&quot;: true}\n",
       "            );\n",
       "        \n",
       "    \n",
       "            var marker_279efa509f5ca56b5a8d8df79fa25071 = L.marker(\n",
       "                [-6.290154, 106.88116],\n",
       "                {}\n",
       "            ).addTo(feature_group_797637963a37abda77cf7caed95270c4);\n",
       "        \n",
       "    \n",
       "            var icon_f53366c3dac0d916a1f75daf922d431a = L.AwesomeMarkers.icon(\n",
       "                {&quot;extraClasses&quot;: &quot;fa-rotate-0&quot;, &quot;icon&quot;: &quot;bus&quot;, &quot;iconColor&quot;: &quot;white&quot;, &quot;markerColor&quot;: &quot;blue&quot;, &quot;prefix&quot;: &quot;fa&quot;}\n",
       "            );\n",
       "            marker_279efa509f5ca56b5a8d8df79fa25071.setIcon(icon_f53366c3dac0d916a1f75daf922d431a);\n",
       "        \n",
       "    \n",
       "            marker_279efa509f5ca56b5a8d8df79fa25071.bindTooltip(\n",
       "                `&lt;div&gt;\n",
       "                     Koridor TOP 5 Laki-Laki\n",
       "                 &lt;/div&gt;`,\n",
       "                {&quot;sticky&quot;: true}\n",
       "            );\n",
       "        \n",
       "    \n",
       "            var marker_cb8ca745cd77a09792b27ffa1e2e3248 = L.marker(\n",
       "                [-6.139853, 106.85663],\n",
       "                {}\n",
       "            ).addTo(feature_group_797637963a37abda77cf7caed95270c4);\n",
       "        \n",
       "    \n",
       "            var icon_e5abc14642727c681f6e72558b4f4cbb = L.AwesomeMarkers.icon(\n",
       "                {&quot;extraClasses&quot;: &quot;fa-rotate-0&quot;, &quot;icon&quot;: &quot;bus&quot;, &quot;iconColor&quot;: &quot;white&quot;, &quot;markerColor&quot;: &quot;blue&quot;, &quot;prefix&quot;: &quot;fa&quot;}\n",
       "            );\n",
       "            marker_cb8ca745cd77a09792b27ffa1e2e3248.setIcon(icon_e5abc14642727c681f6e72558b4f4cbb);\n",
       "        \n",
       "    \n",
       "            marker_cb8ca745cd77a09792b27ffa1e2e3248.bindTooltip(\n",
       "                `&lt;div&gt;\n",
       "                     Koridor TOP 5 Laki-Laki\n",
       "                 &lt;/div&gt;`,\n",
       "                {&quot;sticky&quot;: true}\n",
       "            );\n",
       "        \n",
       "    \n",
       "            var marker_5e7780e2f389baed42d1a72ee297b964 = L.marker(\n",
       "                [-6.135667, 106.76299],\n",
       "                {}\n",
       "            ).addTo(feature_group_797637963a37abda77cf7caed95270c4);\n",
       "        \n",
       "    \n",
       "            var icon_356a5e118e81cbe56de4a5c204e9ea42 = L.AwesomeMarkers.icon(\n",
       "                {&quot;extraClasses&quot;: &quot;fa-rotate-0&quot;, &quot;icon&quot;: &quot;bus&quot;, &quot;iconColor&quot;: &quot;white&quot;, &quot;markerColor&quot;: &quot;blue&quot;, &quot;prefix&quot;: &quot;fa&quot;}\n",
       "            );\n",
       "            marker_5e7780e2f389baed42d1a72ee297b964.setIcon(icon_356a5e118e81cbe56de4a5c204e9ea42);\n",
       "        \n",
       "    \n",
       "            marker_5e7780e2f389baed42d1a72ee297b964.bindTooltip(\n",
       "                `&lt;div&gt;\n",
       "                     Koridor TOP 5 Laki-Laki\n",
       "                 &lt;/div&gt;`,\n",
       "                {&quot;sticky&quot;: true}\n",
       "            );\n",
       "        \n",
       "    \n",
       "            var marker_6d54cdc14f9d960708a3faf7d23c98bc = L.marker(\n",
       "                [-6.21667, 106.830737],\n",
       "                {}\n",
       "            ).addTo(feature_group_797637963a37abda77cf7caed95270c4);\n",
       "        \n",
       "    \n",
       "            var icon_f5f90ce20a35da077a577e496a99208b = L.AwesomeMarkers.icon(\n",
       "                {&quot;extraClasses&quot;: &quot;fa-rotate-0&quot;, &quot;icon&quot;: &quot;bus&quot;, &quot;iconColor&quot;: &quot;white&quot;, &quot;markerColor&quot;: &quot;blue&quot;, &quot;prefix&quot;: &quot;fa&quot;}\n",
       "            );\n",
       "            marker_6d54cdc14f9d960708a3faf7d23c98bc.setIcon(icon_f5f90ce20a35da077a577e496a99208b);\n",
       "        \n",
       "    \n",
       "            marker_6d54cdc14f9d960708a3faf7d23c98bc.bindTooltip(\n",
       "                `&lt;div&gt;\n",
       "                     Koridor TOP 5 Laki-Laki\n",
       "                 &lt;/div&gt;`,\n",
       "                {&quot;sticky&quot;: true}\n",
       "            );\n",
       "        \n",
       "    \n",
       "            var marker_cd38d2c36890c7ec055cf2e29ce6961f = L.marker(\n",
       "                [-6.368735, 106.89366],\n",
       "                {}\n",
       "            ).addTo(feature_group_797637963a37abda77cf7caed95270c4);\n",
       "        \n",
       "    \n",
       "            var icon_39e958458efbad22af9969f09e492f96 = L.AwesomeMarkers.icon(\n",
       "                {&quot;extraClasses&quot;: &quot;fa-rotate-0&quot;, &quot;icon&quot;: &quot;bus&quot;, &quot;iconColor&quot;: &quot;white&quot;, &quot;markerColor&quot;: &quot;blue&quot;, &quot;prefix&quot;: &quot;fa&quot;}\n",
       "            );\n",
       "            marker_cd38d2c36890c7ec055cf2e29ce6961f.setIcon(icon_39e958458efbad22af9969f09e492f96);\n",
       "        \n",
       "    \n",
       "            marker_cd38d2c36890c7ec055cf2e29ce6961f.bindTooltip(\n",
       "                `&lt;div&gt;\n",
       "                     Koridor TOP 5 Laki-Laki\n",
       "                 &lt;/div&gt;`,\n",
       "                {&quot;sticky&quot;: true}\n",
       "            );\n",
       "        \n",
       "    \n",
       "            feature_group_797637963a37abda77cf7caed95270c4.addTo(map_4510598387a4190f626410b1b7cb5781);\n",
       "        \n",
       "&lt;/script&gt;\n",
       "&lt;/html&gt;\" style=\"position:absolute;width:100%;height:100%;left:0;top:0;border:none !important;\" allowfullscreen webkitallowfullscreen mozallowfullscreen></iframe></div></div>"
      ],
      "text/plain": [
       "<folium.folium.Map at 0x283835e90>"
      ]
     },
     "execution_count": 700,
     "metadata": {},
     "output_type": "execute_result"
    }
   ],
   "source": [
    "import folium\n",
    "\n",
    "jakarta_map = folium.Map([-6.191861352405944, 106.82608477268178], zoom_start=11)\n",
    "halte = folium.map.FeatureGroup()\n",
    "\n",
    "for lat, long in list(zip(corridorFemale['tapInStopsLat'], corridorFemale['tapInStopsLon'])):\n",
    "    halte.add_child(\n",
    "        folium.Marker(\n",
    "    [lat, long],\n",
    "    tooltip='Koridor TOP 5 Perempuan',                                           \n",
    "    icon=folium.Icon(\n",
    "        icon='bus',                                                                           \n",
    "        prefix='fa',                                                       \n",
    "        color='pink'                                                 \n",
    "    ))\n",
    ")\n",
    "\n",
    "for lat, long in list(zip(corridorMale['tapInStopsLat'], corridorMale['tapInStopsLon'])):\n",
    "    halte.add_child(\n",
    "        folium.Marker(\n",
    "    [lat, long],\n",
    "    tooltip='Koridor TOP 5 Laki-Laki',                                \n",
    "    icon=folium.Icon(\n",
    "        icon='bus',                                                                                \n",
    "        prefix='fa',                                                     \n",
    "        color='blue'                                                  \n",
    "    ))\n",
    ")\n",
    "\n",
    "jakarta_map.add_child(halte)\n",
    "\n",
    "jakarta_map"
   ]
  },
  {
   "cell_type": "markdown",
   "metadata": {},
   "source": [
    "### KORIDOR TRANSJAKARTA TAP OUT ###"
   ]
  },
  {
   "cell_type": "code",
   "execution_count": 701,
   "metadata": {},
   "outputs": [
    {
     "data": {
      "text/html": [
       "<div>\n",
       "<style scoped>\n",
       "    .dataframe tbody tr th:only-of-type {\n",
       "        vertical-align: middle;\n",
       "    }\n",
       "\n",
       "    .dataframe tbody tr th {\n",
       "        vertical-align: top;\n",
       "    }\n",
       "\n",
       "    .dataframe thead th {\n",
       "        text-align: right;\n",
       "    }\n",
       "</style>\n",
       "<table border=\"1\" class=\"dataframe\">\n",
       "  <thead>\n",
       "    <tr style=\"text-align: right;\">\n",
       "      <th></th>\n",
       "      <th>corridorName</th>\n",
       "      <th>count</th>\n",
       "    </tr>\n",
       "  </thead>\n",
       "  <tbody>\n",
       "    <tr>\n",
       "      <th>0</th>\n",
       "      <td>Pinang Ranti - Pramuka</td>\n",
       "      <td>110</td>\n",
       "    </tr>\n",
       "    <tr>\n",
       "      <th>1</th>\n",
       "      <td>Rusun Kapuk Muara - Penjaringan</td>\n",
       "      <td>108</td>\n",
       "    </tr>\n",
       "    <tr>\n",
       "      <th>2</th>\n",
       "      <td>Rusun Kapuk Muara - Penjaringan</td>\n",
       "      <td>103</td>\n",
       "    </tr>\n",
       "    <tr>\n",
       "      <th>3</th>\n",
       "      <td>Harmoni - Jakarta International Stadium</td>\n",
       "      <td>93</td>\n",
       "    </tr>\n",
       "    <tr>\n",
       "      <th>4</th>\n",
       "      <td>Pinang Ranti - Pramuka</td>\n",
       "      <td>90</td>\n",
       "    </tr>\n",
       "  </tbody>\n",
       "</table>\n",
       "</div>"
      ],
      "text/plain": [
       "                              corridorName  count\n",
       "0                   Pinang Ranti - Pramuka    110\n",
       "1          Rusun Kapuk Muara - Penjaringan    108\n",
       "2          Rusun Kapuk Muara - Penjaringan    103\n",
       "3  Harmoni - Jakarta International Stadium     93\n",
       "4                   Pinang Ranti - Pramuka     90"
      ]
     },
     "execution_count": 701,
     "metadata": {},
     "output_type": "execute_result"
    }
   ],
   "source": [
    "corridorHighO = df[['tapOutStopsLat','tapOutStopsLon','tapOutStopsName','corridorID','corridorName']].value_counts().reset_index().sort_values(by='count', ascending=False).head()\n",
    "corridorHighO[['corridorName','count']]"
   ]
  },
  {
   "cell_type": "code",
   "execution_count": 702,
   "metadata": {},
   "outputs": [
    {
     "data": {
      "text/html": [
       "<div>\n",
       "<style scoped>\n",
       "    .dataframe tbody tr th:only-of-type {\n",
       "        vertical-align: middle;\n",
       "    }\n",
       "\n",
       "    .dataframe tbody tr th {\n",
       "        vertical-align: top;\n",
       "    }\n",
       "\n",
       "    .dataframe thead th {\n",
       "        text-align: right;\n",
       "    }\n",
       "</style>\n",
       "<table border=\"1\" class=\"dataframe\">\n",
       "  <thead>\n",
       "    <tr style=\"text-align: right;\">\n",
       "      <th></th>\n",
       "      <th>corridorName</th>\n",
       "      <th>count</th>\n",
       "    </tr>\n",
       "  </thead>\n",
       "  <tbody>\n",
       "    <tr>\n",
       "      <th>3041</th>\n",
       "      <td>Depok - BKN</td>\n",
       "      <td>1</td>\n",
       "    </tr>\n",
       "    <tr>\n",
       "      <th>2228</th>\n",
       "      <td>Kampung Rambutan - Monas</td>\n",
       "      <td>1</td>\n",
       "    </tr>\n",
       "    <tr>\n",
       "      <th>2229</th>\n",
       "      <td>Pinang Ranti - Bundaran Senayan</td>\n",
       "      <td>1</td>\n",
       "    </tr>\n",
       "    <tr>\n",
       "      <th>2230</th>\n",
       "      <td>Bekasi Barat - Blok M</td>\n",
       "      <td>1</td>\n",
       "    </tr>\n",
       "    <tr>\n",
       "      <th>2231</th>\n",
       "      <td>Bekasi Barat - Blok M</td>\n",
       "      <td>1</td>\n",
       "    </tr>\n",
       "  </tbody>\n",
       "</table>\n",
       "</div>"
      ],
      "text/plain": [
       "                         corridorName  count\n",
       "3041                      Depok - BKN      1\n",
       "2228         Kampung Rambutan - Monas      1\n",
       "2229  Pinang Ranti - Bundaran Senayan      1\n",
       "2230            Bekasi Barat - Blok M      1\n",
       "2231            Bekasi Barat - Blok M      1"
      ]
     },
     "execution_count": 702,
     "metadata": {},
     "output_type": "execute_result"
    }
   ],
   "source": [
    "corridorLowO = df[['tapOutStopsLat','tapOutStopsLon','tapOutStopsName','corridorID','corridorName']].value_counts().reset_index().sort_values(by='count').head()\n",
    "corridorLowO[['corridorName','count']]"
   ]
  },
  {
   "cell_type": "code",
   "execution_count": 703,
   "metadata": {},
   "outputs": [
    {
     "data": {
      "text/html": [
       "<div style=\"width:100%;\"><div style=\"position:relative;width:100%;height:0;padding-bottom:60%;\"><span style=\"color:#565656\">Make this Notebook Trusted to load map: File -> Trust Notebook</span><iframe srcdoc=\"&lt;!DOCTYPE html&gt;\n",
       "&lt;html&gt;\n",
       "&lt;head&gt;\n",
       "    \n",
       "    &lt;meta http-equiv=&quot;content-type&quot; content=&quot;text/html; charset=UTF-8&quot; /&gt;\n",
       "    \n",
       "        &lt;script&gt;\n",
       "            L_NO_TOUCH = false;\n",
       "            L_DISABLE_3D = false;\n",
       "        &lt;/script&gt;\n",
       "    \n",
       "    &lt;style&gt;html, body {width: 100%;height: 100%;margin: 0;padding: 0;}&lt;/style&gt;\n",
       "    &lt;style&gt;#map {position:absolute;top:0;bottom:0;right:0;left:0;}&lt;/style&gt;\n",
       "    &lt;script src=&quot;https://cdn.jsdelivr.net/npm/leaflet@1.9.3/dist/leaflet.js&quot;&gt;&lt;/script&gt;\n",
       "    &lt;script src=&quot;https://code.jquery.com/jquery-3.7.1.min.js&quot;&gt;&lt;/script&gt;\n",
       "    &lt;script src=&quot;https://cdn.jsdelivr.net/npm/bootstrap@5.2.2/dist/js/bootstrap.bundle.min.js&quot;&gt;&lt;/script&gt;\n",
       "    &lt;script src=&quot;https://cdnjs.cloudflare.com/ajax/libs/Leaflet.awesome-markers/2.0.2/leaflet.awesome-markers.js&quot;&gt;&lt;/script&gt;\n",
       "    &lt;link rel=&quot;stylesheet&quot; href=&quot;https://cdn.jsdelivr.net/npm/leaflet@1.9.3/dist/leaflet.css&quot;/&gt;\n",
       "    &lt;link rel=&quot;stylesheet&quot; href=&quot;https://cdn.jsdelivr.net/npm/bootstrap@5.2.2/dist/css/bootstrap.min.css&quot;/&gt;\n",
       "    &lt;link rel=&quot;stylesheet&quot; href=&quot;https://netdna.bootstrapcdn.com/bootstrap/3.0.0/css/bootstrap.min.css&quot;/&gt;\n",
       "    &lt;link rel=&quot;stylesheet&quot; href=&quot;https://cdn.jsdelivr.net/npm/@fortawesome/fontawesome-free@6.2.0/css/all.min.css&quot;/&gt;\n",
       "    &lt;link rel=&quot;stylesheet&quot; href=&quot;https://cdnjs.cloudflare.com/ajax/libs/Leaflet.awesome-markers/2.0.2/leaflet.awesome-markers.css&quot;/&gt;\n",
       "    &lt;link rel=&quot;stylesheet&quot; href=&quot;https://cdn.jsdelivr.net/gh/python-visualization/folium/folium/templates/leaflet.awesome.rotate.min.css&quot;/&gt;\n",
       "    \n",
       "            &lt;meta name=&quot;viewport&quot; content=&quot;width=device-width,\n",
       "                initial-scale=1.0, maximum-scale=1.0, user-scalable=no&quot; /&gt;\n",
       "            &lt;style&gt;\n",
       "                #map_24cd0b608e46c9ee0de509b21a4bfb08 {\n",
       "                    position: relative;\n",
       "                    width: 100.0%;\n",
       "                    height: 100.0%;\n",
       "                    left: 0.0%;\n",
       "                    top: 0.0%;\n",
       "                }\n",
       "                .leaflet-container { font-size: 1rem; }\n",
       "            &lt;/style&gt;\n",
       "        \n",
       "&lt;/head&gt;\n",
       "&lt;body&gt;\n",
       "    \n",
       "    \n",
       "            &lt;div class=&quot;folium-map&quot; id=&quot;map_24cd0b608e46c9ee0de509b21a4bfb08&quot; &gt;&lt;/div&gt;\n",
       "        \n",
       "&lt;/body&gt;\n",
       "&lt;script&gt;\n",
       "    \n",
       "    \n",
       "            var map_24cd0b608e46c9ee0de509b21a4bfb08 = L.map(\n",
       "                &quot;map_24cd0b608e46c9ee0de509b21a4bfb08&quot;,\n",
       "                {\n",
       "                    center: [-6.191861352405944, 106.82608477268178],\n",
       "                    crs: L.CRS.EPSG3857,\n",
       "                    zoom: 11,\n",
       "                    zoomControl: true,\n",
       "                    preferCanvas: false,\n",
       "                }\n",
       "            );\n",
       "\n",
       "            \n",
       "\n",
       "        \n",
       "    \n",
       "            var tile_layer_fbcc286764f2b4f749ccab9d112d4d82 = L.tileLayer(\n",
       "                &quot;https://tile.openstreetmap.org/{z}/{x}/{y}.png&quot;,\n",
       "                {&quot;attribution&quot;: &quot;\\u0026copy; \\u003ca href=\\&quot;https://www.openstreetmap.org/copyright\\&quot;\\u003eOpenStreetMap\\u003c/a\\u003e contributors&quot;, &quot;detectRetina&quot;: false, &quot;maxNativeZoom&quot;: 19, &quot;maxZoom&quot;: 19, &quot;minZoom&quot;: 0, &quot;noWrap&quot;: false, &quot;opacity&quot;: 1, &quot;subdomains&quot;: &quot;abc&quot;, &quot;tms&quot;: false}\n",
       "            );\n",
       "        \n",
       "    \n",
       "            tile_layer_fbcc286764f2b4f749ccab9d112d4d82.addTo(map_24cd0b608e46c9ee0de509b21a4bfb08);\n",
       "        \n",
       "    \n",
       "            var feature_group_1a91f979cad3f1daf007fb072c080ff5 = L.featureGroup(\n",
       "                {}\n",
       "            );\n",
       "        \n",
       "    \n",
       "            var marker_1e6ba02e81faaa3fc8288cb7d9d1c4bc = L.marker(\n",
       "                [-6.257751, 106.87],\n",
       "                {}\n",
       "            ).addTo(feature_group_1a91f979cad3f1daf007fb072c080ff5);\n",
       "        \n",
       "    \n",
       "            var icon_8786a974e92e1464eb1997b9837c15e7 = L.AwesomeMarkers.icon(\n",
       "                {&quot;extraClasses&quot;: &quot;fa-rotate-0&quot;, &quot;icon&quot;: &quot;bus&quot;, &quot;iconColor&quot;: &quot;white&quot;, &quot;markerColor&quot;: &quot;green&quot;, &quot;prefix&quot;: &quot;fa&quot;}\n",
       "            );\n",
       "            marker_1e6ba02e81faaa3fc8288cb7d9d1c4bc.setIcon(icon_8786a974e92e1464eb1997b9837c15e7);\n",
       "        \n",
       "    \n",
       "            marker_1e6ba02e81faaa3fc8288cb7d9d1c4bc.bindTooltip(\n",
       "                `&lt;div&gt;\n",
       "                     Koridor TOP 5 Tersibuk\n",
       "                 &lt;/div&gt;`,\n",
       "                {&quot;sticky&quot;: true}\n",
       "            );\n",
       "        \n",
       "    \n",
       "            var marker_12d4f15348a6bbbc2d6aeb9aa0216793 = L.marker(\n",
       "                [-6.126306, 106.79203],\n",
       "                {}\n",
       "            ).addTo(feature_group_1a91f979cad3f1daf007fb072c080ff5);\n",
       "        \n",
       "    \n",
       "            var icon_9468647d841f7def83dbb5707eebbca8 = L.AwesomeMarkers.icon(\n",
       "                {&quot;extraClasses&quot;: &quot;fa-rotate-0&quot;, &quot;icon&quot;: &quot;bus&quot;, &quot;iconColor&quot;: &quot;white&quot;, &quot;markerColor&quot;: &quot;green&quot;, &quot;prefix&quot;: &quot;fa&quot;}\n",
       "            );\n",
       "            marker_12d4f15348a6bbbc2d6aeb9aa0216793.setIcon(icon_9468647d841f7def83dbb5707eebbca8);\n",
       "        \n",
       "    \n",
       "            marker_12d4f15348a6bbbc2d6aeb9aa0216793.bindTooltip(\n",
       "                `&lt;div&gt;\n",
       "                     Koridor TOP 5 Tersibuk\n",
       "                 &lt;/div&gt;`,\n",
       "                {&quot;sticky&quot;: true}\n",
       "            );\n",
       "        \n",
       "    \n",
       "            var marker_5800867d2e16b61f906b9daba271c754 = L.marker(\n",
       "                [-6.135667, 106.76299],\n",
       "                {}\n",
       "            ).addTo(feature_group_1a91f979cad3f1daf007fb072c080ff5);\n",
       "        \n",
       "    \n",
       "            var icon_e13f68b2a307cc75036dc4b130c8bc9a = L.AwesomeMarkers.icon(\n",
       "                {&quot;extraClasses&quot;: &quot;fa-rotate-0&quot;, &quot;icon&quot;: &quot;bus&quot;, &quot;iconColor&quot;: &quot;white&quot;, &quot;markerColor&quot;: &quot;green&quot;, &quot;prefix&quot;: &quot;fa&quot;}\n",
       "            );\n",
       "            marker_5800867d2e16b61f906b9daba271c754.setIcon(icon_e13f68b2a307cc75036dc4b130c8bc9a);\n",
       "        \n",
       "    \n",
       "            marker_5800867d2e16b61f906b9daba271c754.bindTooltip(\n",
       "                `&lt;div&gt;\n",
       "                     Koridor TOP 5 Tersibuk\n",
       "                 &lt;/div&gt;`,\n",
       "                {&quot;sticky&quot;: true}\n",
       "            );\n",
       "        \n",
       "    \n",
       "            var marker_7823919d97145011f951b67b00d04184 = L.marker(\n",
       "                [-6.130078, 106.85492],\n",
       "                {}\n",
       "            ).addTo(feature_group_1a91f979cad3f1daf007fb072c080ff5);\n",
       "        \n",
       "    \n",
       "            var icon_18b832b2e663390fe1cd4dbd5a7a57dd = L.AwesomeMarkers.icon(\n",
       "                {&quot;extraClasses&quot;: &quot;fa-rotate-0&quot;, &quot;icon&quot;: &quot;bus&quot;, &quot;iconColor&quot;: &quot;white&quot;, &quot;markerColor&quot;: &quot;green&quot;, &quot;prefix&quot;: &quot;fa&quot;}\n",
       "            );\n",
       "            marker_7823919d97145011f951b67b00d04184.setIcon(icon_18b832b2e663390fe1cd4dbd5a7a57dd);\n",
       "        \n",
       "    \n",
       "            marker_7823919d97145011f951b67b00d04184.bindTooltip(\n",
       "                `&lt;div&gt;\n",
       "                     Koridor TOP 5 Tersibuk\n",
       "                 &lt;/div&gt;`,\n",
       "                {&quot;sticky&quot;: true}\n",
       "            );\n",
       "        \n",
       "    \n",
       "            var marker_8195d57a198b702eeab77cb08ebc4aa8 = L.marker(\n",
       "                [-6.291075, 106.88634],\n",
       "                {}\n",
       "            ).addTo(feature_group_1a91f979cad3f1daf007fb072c080ff5);\n",
       "        \n",
       "    \n",
       "            var icon_4a54ff3219583151e8078f4912248e88 = L.AwesomeMarkers.icon(\n",
       "                {&quot;extraClasses&quot;: &quot;fa-rotate-0&quot;, &quot;icon&quot;: &quot;bus&quot;, &quot;iconColor&quot;: &quot;white&quot;, &quot;markerColor&quot;: &quot;green&quot;, &quot;prefix&quot;: &quot;fa&quot;}\n",
       "            );\n",
       "            marker_8195d57a198b702eeab77cb08ebc4aa8.setIcon(icon_4a54ff3219583151e8078f4912248e88);\n",
       "        \n",
       "    \n",
       "            marker_8195d57a198b702eeab77cb08ebc4aa8.bindTooltip(\n",
       "                `&lt;div&gt;\n",
       "                     Koridor TOP 5 Tersibuk\n",
       "                 &lt;/div&gt;`,\n",
       "                {&quot;sticky&quot;: true}\n",
       "            );\n",
       "        \n",
       "    \n",
       "            var marker_197175a4127b2f9bf65388de872c46a5 = L.marker(\n",
       "                [-6.394973, 106.82277],\n",
       "                {}\n",
       "            ).addTo(feature_group_1a91f979cad3f1daf007fb072c080ff5);\n",
       "        \n",
       "    \n",
       "            var icon_ab2e543a7a28b39491d6bb9b1d626ec6 = L.AwesomeMarkers.icon(\n",
       "                {&quot;extraClasses&quot;: &quot;fa-rotate-0&quot;, &quot;icon&quot;: &quot;bus&quot;, &quot;iconColor&quot;: &quot;white&quot;, &quot;markerColor&quot;: &quot;red&quot;, &quot;prefix&quot;: &quot;fa&quot;}\n",
       "            );\n",
       "            marker_197175a4127b2f9bf65388de872c46a5.setIcon(icon_ab2e543a7a28b39491d6bb9b1d626ec6);\n",
       "        \n",
       "    \n",
       "            marker_197175a4127b2f9bf65388de872c46a5.bindTooltip(\n",
       "                `&lt;div&gt;\n",
       "                     Koridor TOP 5 Tersepi\n",
       "                 &lt;/div&gt;`,\n",
       "                {&quot;sticky&quot;: true}\n",
       "            );\n",
       "        \n",
       "    \n",
       "            var marker_6bd4b3fd5817736936eeea3ddff2c9ef = L.marker(\n",
       "                [-6.243012, 106.86354],\n",
       "                {}\n",
       "            ).addTo(feature_group_1a91f979cad3f1daf007fb072c080ff5);\n",
       "        \n",
       "    \n",
       "            var icon_14bf57cccc18d07faf134f89d6cd7cee = L.AwesomeMarkers.icon(\n",
       "                {&quot;extraClasses&quot;: &quot;fa-rotate-0&quot;, &quot;icon&quot;: &quot;bus&quot;, &quot;iconColor&quot;: &quot;white&quot;, &quot;markerColor&quot;: &quot;red&quot;, &quot;prefix&quot;: &quot;fa&quot;}\n",
       "            );\n",
       "            marker_6bd4b3fd5817736936eeea3ddff2c9ef.setIcon(icon_14bf57cccc18d07faf134f89d6cd7cee);\n",
       "        \n",
       "    \n",
       "            marker_6bd4b3fd5817736936eeea3ddff2c9ef.bindTooltip(\n",
       "                `&lt;div&gt;\n",
       "                     Koridor TOP 5 Tersepi\n",
       "                 &lt;/div&gt;`,\n",
       "                {&quot;sticky&quot;: true}\n",
       "            );\n",
       "        \n",
       "    \n",
       "            var marker_4a3be5aa959b9b7c80a2fc09db67ed7e = L.marker(\n",
       "                [-6.243056, 106.85208],\n",
       "                {}\n",
       "            ).addTo(feature_group_1a91f979cad3f1daf007fb072c080ff5);\n",
       "        \n",
       "    \n",
       "            var icon_c42cdd72100591a3d3c13382183fc355 = L.AwesomeMarkers.icon(\n",
       "                {&quot;extraClasses&quot;: &quot;fa-rotate-0&quot;, &quot;icon&quot;: &quot;bus&quot;, &quot;iconColor&quot;: &quot;white&quot;, &quot;markerColor&quot;: &quot;red&quot;, &quot;prefix&quot;: &quot;fa&quot;}\n",
       "            );\n",
       "            marker_4a3be5aa959b9b7c80a2fc09db67ed7e.setIcon(icon_c42cdd72100591a3d3c13382183fc355);\n",
       "        \n",
       "    \n",
       "            marker_4a3be5aa959b9b7c80a2fc09db67ed7e.bindTooltip(\n",
       "                `&lt;div&gt;\n",
       "                     Koridor TOP 5 Tersepi\n",
       "                 &lt;/div&gt;`,\n",
       "                {&quot;sticky&quot;: true}\n",
       "            );\n",
       "        \n",
       "    \n",
       "            var marker_7cb16a33d72e45f82dcd562580249a9c = L.marker(\n",
       "                [-6.24088, 106.99285],\n",
       "                {}\n",
       "            ).addTo(feature_group_1a91f979cad3f1daf007fb072c080ff5);\n",
       "        \n",
       "    \n",
       "            var icon_a00c5f76df981e2564975a701fc96279 = L.AwesomeMarkers.icon(\n",
       "                {&quot;extraClasses&quot;: &quot;fa-rotate-0&quot;, &quot;icon&quot;: &quot;bus&quot;, &quot;iconColor&quot;: &quot;white&quot;, &quot;markerColor&quot;: &quot;red&quot;, &quot;prefix&quot;: &quot;fa&quot;}\n",
       "            );\n",
       "            marker_7cb16a33d72e45f82dcd562580249a9c.setIcon(icon_a00c5f76df981e2564975a701fc96279);\n",
       "        \n",
       "    \n",
       "            marker_7cb16a33d72e45f82dcd562580249a9c.bindTooltip(\n",
       "                `&lt;div&gt;\n",
       "                     Koridor TOP 5 Tersepi\n",
       "                 &lt;/div&gt;`,\n",
       "                {&quot;sticky&quot;: true}\n",
       "            );\n",
       "        \n",
       "    \n",
       "            var marker_177b002d36747fabf789bbfd8876d723 = L.marker(\n",
       "                [-6.240672, 106.99317],\n",
       "                {}\n",
       "            ).addTo(feature_group_1a91f979cad3f1daf007fb072c080ff5);\n",
       "        \n",
       "    \n",
       "            var icon_1c21dd0751b9b632f509d3f85f64ff48 = L.AwesomeMarkers.icon(\n",
       "                {&quot;extraClasses&quot;: &quot;fa-rotate-0&quot;, &quot;icon&quot;: &quot;bus&quot;, &quot;iconColor&quot;: &quot;white&quot;, &quot;markerColor&quot;: &quot;red&quot;, &quot;prefix&quot;: &quot;fa&quot;}\n",
       "            );\n",
       "            marker_177b002d36747fabf789bbfd8876d723.setIcon(icon_1c21dd0751b9b632f509d3f85f64ff48);\n",
       "        \n",
       "    \n",
       "            marker_177b002d36747fabf789bbfd8876d723.bindTooltip(\n",
       "                `&lt;div&gt;\n",
       "                     Koridor TOP 5 Tersepi\n",
       "                 &lt;/div&gt;`,\n",
       "                {&quot;sticky&quot;: true}\n",
       "            );\n",
       "        \n",
       "    \n",
       "            feature_group_1a91f979cad3f1daf007fb072c080ff5.addTo(map_24cd0b608e46c9ee0de509b21a4bfb08);\n",
       "        \n",
       "&lt;/script&gt;\n",
       "&lt;/html&gt;\" style=\"position:absolute;width:100%;height:100%;left:0;top:0;border:none !important;\" allowfullscreen webkitallowfullscreen mozallowfullscreen></iframe></div></div>"
      ],
      "text/plain": [
       "<folium.folium.Map at 0x283879910>"
      ]
     },
     "execution_count": 703,
     "metadata": {},
     "output_type": "execute_result"
    }
   ],
   "source": [
    "import folium\n",
    "\n",
    "jakarta_map = folium.Map([-6.191861352405944, 106.82608477268178], zoom_start=11)\n",
    "halte = folium.map.FeatureGroup()\n",
    "\n",
    "for lat, long in list(zip(corridorHighO['tapOutStopsLat'], corridorHighO['tapOutStopsLon'])):\n",
    "    halte.add_child(\n",
    "        folium.Marker(\n",
    "    [lat, long],\n",
    "    tooltip='Koridor TOP 5 Tersibuk',                                           \n",
    "    icon=folium.Icon(\n",
    "        icon='bus',                                                                           \n",
    "        prefix='fa',                                                       \n",
    "        color='green'                                                 \n",
    "    ))\n",
    ")\n",
    "\n",
    "for lat, long in list(zip(corridorLowO['tapOutStopsLat'], corridorLowO['tapOutStopsLon'])):\n",
    "    halte.add_child(\n",
    "        folium.Marker(\n",
    "    [lat, long],\n",
    "    tooltip='Koridor TOP 5 Tersepi',                                \n",
    "    icon=folium.Icon(\n",
    "        icon='bus',                                                                                \n",
    "        prefix='fa',                                                     \n",
    "        color='red'                                                  \n",
    "    ))\n",
    ")\n",
    "\n",
    "jakarta_map.add_child(halte)\n",
    "\n",
    "jakarta_map"
   ]
  },
  {
   "cell_type": "code",
   "execution_count": 704,
   "metadata": {},
   "outputs": [
    {
     "data": {
      "text/html": [
       "<div>\n",
       "<style scoped>\n",
       "    .dataframe tbody tr th:only-of-type {\n",
       "        vertical-align: middle;\n",
       "    }\n",
       "\n",
       "    .dataframe tbody tr th {\n",
       "        vertical-align: top;\n",
       "    }\n",
       "\n",
       "    .dataframe thead th {\n",
       "        text-align: right;\n",
       "    }\n",
       "</style>\n",
       "<table border=\"1\" class=\"dataframe\">\n",
       "  <thead>\n",
       "    <tr style=\"text-align: right;\">\n",
       "      <th></th>\n",
       "      <th>corridorName</th>\n",
       "      <th>count</th>\n",
       "    </tr>\n",
       "  </thead>\n",
       "  <tbody>\n",
       "    <tr>\n",
       "      <th>0</th>\n",
       "      <td>Pinang Ranti - Pramuka</td>\n",
       "      <td>54</td>\n",
       "    </tr>\n",
       "    <tr>\n",
       "      <th>1</th>\n",
       "      <td>Cililitan - Condet</td>\n",
       "      <td>53</td>\n",
       "    </tr>\n",
       "    <tr>\n",
       "      <th>2</th>\n",
       "      <td>Rusun Kapuk Muara - Penjaringan</td>\n",
       "      <td>52</td>\n",
       "    </tr>\n",
       "    <tr>\n",
       "      <th>3</th>\n",
       "      <td>Rusun Kapuk Muara - Penjaringan</td>\n",
       "      <td>51</td>\n",
       "    </tr>\n",
       "    <tr>\n",
       "      <th>4</th>\n",
       "      <td>Rusun Waduk Pluit - Penjaringan</td>\n",
       "      <td>49</td>\n",
       "    </tr>\n",
       "  </tbody>\n",
       "</table>\n",
       "</div>"
      ],
      "text/plain": [
       "                      corridorName  count\n",
       "0           Pinang Ranti - Pramuka     54\n",
       "1               Cililitan - Condet     53\n",
       "2  Rusun Kapuk Muara - Penjaringan     52\n",
       "3  Rusun Kapuk Muara - Penjaringan     51\n",
       "4  Rusun Waduk Pluit - Penjaringan     49"
      ]
     },
     "execution_count": 704,
     "metadata": {},
     "output_type": "execute_result"
    }
   ],
   "source": [
    "corridorFemaleO = df[df['payCardSex']=='F'][['tapOutStopsLat','tapOutStopsLon','tapOutStopsName','corridorID','corridorName']].value_counts().reset_index().sort_values(by='count', ascending=False).head()\n",
    "corridorFemaleO[['corridorName','count']]"
   ]
  },
  {
   "cell_type": "code",
   "execution_count": 705,
   "metadata": {},
   "outputs": [
    {
     "data": {
      "text/html": [
       "<div>\n",
       "<style scoped>\n",
       "    .dataframe tbody tr th:only-of-type {\n",
       "        vertical-align: middle;\n",
       "    }\n",
       "\n",
       "    .dataframe tbody tr th {\n",
       "        vertical-align: top;\n",
       "    }\n",
       "\n",
       "    .dataframe thead th {\n",
       "        text-align: right;\n",
       "    }\n",
       "</style>\n",
       "<table border=\"1\" class=\"dataframe\">\n",
       "  <thead>\n",
       "    <tr style=\"text-align: right;\">\n",
       "      <th></th>\n",
       "      <th>corridorName</th>\n",
       "      <th>count</th>\n",
       "    </tr>\n",
       "  </thead>\n",
       "  <tbody>\n",
       "    <tr>\n",
       "      <th>0</th>\n",
       "      <td>Harmoni - Jakarta International Stadium</td>\n",
       "      <td>72</td>\n",
       "    </tr>\n",
       "    <tr>\n",
       "      <th>1</th>\n",
       "      <td>Cibubur - BKN</td>\n",
       "      <td>58</td>\n",
       "    </tr>\n",
       "    <tr>\n",
       "      <th>2</th>\n",
       "      <td>Rusun Kapuk Muara - Penjaringan</td>\n",
       "      <td>56</td>\n",
       "    </tr>\n",
       "    <tr>\n",
       "      <th>3</th>\n",
       "      <td>Pinang Ranti - Pramuka</td>\n",
       "      <td>56</td>\n",
       "    </tr>\n",
       "    <tr>\n",
       "      <th>4</th>\n",
       "      <td>Pinang Ranti - Pramuka</td>\n",
       "      <td>53</td>\n",
       "    </tr>\n",
       "  </tbody>\n",
       "</table>\n",
       "</div>"
      ],
      "text/plain": [
       "                              corridorName  count\n",
       "0  Harmoni - Jakarta International Stadium     72\n",
       "1                            Cibubur - BKN     58\n",
       "2          Rusun Kapuk Muara - Penjaringan     56\n",
       "3                   Pinang Ranti - Pramuka     56\n",
       "4                   Pinang Ranti - Pramuka     53"
      ]
     },
     "execution_count": 705,
     "metadata": {},
     "output_type": "execute_result"
    }
   ],
   "source": [
    "corridorMaleO = df[df['payCardSex']=='M'][['tapOutStopsLat','tapOutStopsLon','tapOutStopsName','corridorID','corridorName']].value_counts().reset_index().sort_values(by='count', ascending=False).head()\n",
    "corridorMaleO[['corridorName','count']]"
   ]
  },
  {
   "cell_type": "code",
   "execution_count": 706,
   "metadata": {},
   "outputs": [
    {
     "data": {
      "text/html": [
       "<div style=\"width:100%;\"><div style=\"position:relative;width:100%;height:0;padding-bottom:60%;\"><span style=\"color:#565656\">Make this Notebook Trusted to load map: File -> Trust Notebook</span><iframe srcdoc=\"&lt;!DOCTYPE html&gt;\n",
       "&lt;html&gt;\n",
       "&lt;head&gt;\n",
       "    \n",
       "    &lt;meta http-equiv=&quot;content-type&quot; content=&quot;text/html; charset=UTF-8&quot; /&gt;\n",
       "    \n",
       "        &lt;script&gt;\n",
       "            L_NO_TOUCH = false;\n",
       "            L_DISABLE_3D = false;\n",
       "        &lt;/script&gt;\n",
       "    \n",
       "    &lt;style&gt;html, body {width: 100%;height: 100%;margin: 0;padding: 0;}&lt;/style&gt;\n",
       "    &lt;style&gt;#map {position:absolute;top:0;bottom:0;right:0;left:0;}&lt;/style&gt;\n",
       "    &lt;script src=&quot;https://cdn.jsdelivr.net/npm/leaflet@1.9.3/dist/leaflet.js&quot;&gt;&lt;/script&gt;\n",
       "    &lt;script src=&quot;https://code.jquery.com/jquery-3.7.1.min.js&quot;&gt;&lt;/script&gt;\n",
       "    &lt;script src=&quot;https://cdn.jsdelivr.net/npm/bootstrap@5.2.2/dist/js/bootstrap.bundle.min.js&quot;&gt;&lt;/script&gt;\n",
       "    &lt;script src=&quot;https://cdnjs.cloudflare.com/ajax/libs/Leaflet.awesome-markers/2.0.2/leaflet.awesome-markers.js&quot;&gt;&lt;/script&gt;\n",
       "    &lt;link rel=&quot;stylesheet&quot; href=&quot;https://cdn.jsdelivr.net/npm/leaflet@1.9.3/dist/leaflet.css&quot;/&gt;\n",
       "    &lt;link rel=&quot;stylesheet&quot; href=&quot;https://cdn.jsdelivr.net/npm/bootstrap@5.2.2/dist/css/bootstrap.min.css&quot;/&gt;\n",
       "    &lt;link rel=&quot;stylesheet&quot; href=&quot;https://netdna.bootstrapcdn.com/bootstrap/3.0.0/css/bootstrap.min.css&quot;/&gt;\n",
       "    &lt;link rel=&quot;stylesheet&quot; href=&quot;https://cdn.jsdelivr.net/npm/@fortawesome/fontawesome-free@6.2.0/css/all.min.css&quot;/&gt;\n",
       "    &lt;link rel=&quot;stylesheet&quot; href=&quot;https://cdnjs.cloudflare.com/ajax/libs/Leaflet.awesome-markers/2.0.2/leaflet.awesome-markers.css&quot;/&gt;\n",
       "    &lt;link rel=&quot;stylesheet&quot; href=&quot;https://cdn.jsdelivr.net/gh/python-visualization/folium/folium/templates/leaflet.awesome.rotate.min.css&quot;/&gt;\n",
       "    \n",
       "            &lt;meta name=&quot;viewport&quot; content=&quot;width=device-width,\n",
       "                initial-scale=1.0, maximum-scale=1.0, user-scalable=no&quot; /&gt;\n",
       "            &lt;style&gt;\n",
       "                #map_05bf7afcdfc2b5abcc41d1c900f0b8f3 {\n",
       "                    position: relative;\n",
       "                    width: 100.0%;\n",
       "                    height: 100.0%;\n",
       "                    left: 0.0%;\n",
       "                    top: 0.0%;\n",
       "                }\n",
       "                .leaflet-container { font-size: 1rem; }\n",
       "            &lt;/style&gt;\n",
       "        \n",
       "&lt;/head&gt;\n",
       "&lt;body&gt;\n",
       "    \n",
       "    \n",
       "            &lt;div class=&quot;folium-map&quot; id=&quot;map_05bf7afcdfc2b5abcc41d1c900f0b8f3&quot; &gt;&lt;/div&gt;\n",
       "        \n",
       "&lt;/body&gt;\n",
       "&lt;script&gt;\n",
       "    \n",
       "    \n",
       "            var map_05bf7afcdfc2b5abcc41d1c900f0b8f3 = L.map(\n",
       "                &quot;map_05bf7afcdfc2b5abcc41d1c900f0b8f3&quot;,\n",
       "                {\n",
       "                    center: [-6.191861352405944, 106.82608477268178],\n",
       "                    crs: L.CRS.EPSG3857,\n",
       "                    zoom: 11,\n",
       "                    zoomControl: true,\n",
       "                    preferCanvas: false,\n",
       "                }\n",
       "            );\n",
       "\n",
       "            \n",
       "\n",
       "        \n",
       "    \n",
       "            var tile_layer_3073bf12b8b5ee02a9ec7b4df932bd3c = L.tileLayer(\n",
       "                &quot;https://tile.openstreetmap.org/{z}/{x}/{y}.png&quot;,\n",
       "                {&quot;attribution&quot;: &quot;\\u0026copy; \\u003ca href=\\&quot;https://www.openstreetmap.org/copyright\\&quot;\\u003eOpenStreetMap\\u003c/a\\u003e contributors&quot;, &quot;detectRetina&quot;: false, &quot;maxNativeZoom&quot;: 19, &quot;maxZoom&quot;: 19, &quot;minZoom&quot;: 0, &quot;noWrap&quot;: false, &quot;opacity&quot;: 1, &quot;subdomains&quot;: &quot;abc&quot;, &quot;tms&quot;: false}\n",
       "            );\n",
       "        \n",
       "    \n",
       "            tile_layer_3073bf12b8b5ee02a9ec7b4df932bd3c.addTo(map_05bf7afcdfc2b5abcc41d1c900f0b8f3);\n",
       "        \n",
       "    \n",
       "            var feature_group_2b3b2d48f419e0ca3a43b43904110196 = L.featureGroup(\n",
       "                {}\n",
       "            );\n",
       "        \n",
       "    \n",
       "            var marker_72f55d2403c523ffae0abb9eb6cda520 = L.marker(\n",
       "                [-6.257751, 106.87],\n",
       "                {}\n",
       "            ).addTo(feature_group_2b3b2d48f419e0ca3a43b43904110196);\n",
       "        \n",
       "    \n",
       "            var icon_335b04dfd2e86cf788173e9aeb7ccd40 = L.AwesomeMarkers.icon(\n",
       "                {&quot;extraClasses&quot;: &quot;fa-rotate-0&quot;, &quot;icon&quot;: &quot;bus&quot;, &quot;iconColor&quot;: &quot;white&quot;, &quot;markerColor&quot;: &quot;pink&quot;, &quot;prefix&quot;: &quot;fa&quot;}\n",
       "            );\n",
       "            marker_72f55d2403c523ffae0abb9eb6cda520.setIcon(icon_335b04dfd2e86cf788173e9aeb7ccd40);\n",
       "        \n",
       "    \n",
       "            marker_72f55d2403c523ffae0abb9eb6cda520.bindTooltip(\n",
       "                `&lt;div&gt;\n",
       "                     Koridor TOP 5 Perempuan\n",
       "                 &lt;/div&gt;`,\n",
       "                {&quot;sticky&quot;: true}\n",
       "            );\n",
       "        \n",
       "    \n",
       "            var marker_8f881056ff76956cd3c77675306c6d46 = L.marker(\n",
       "                [-6.27204, 106.8671],\n",
       "                {}\n",
       "            ).addTo(feature_group_2b3b2d48f419e0ca3a43b43904110196);\n",
       "        \n",
       "    \n",
       "            var icon_3222c9e48348fa962c01143934c3913f = L.AwesomeMarkers.icon(\n",
       "                {&quot;extraClasses&quot;: &quot;fa-rotate-0&quot;, &quot;icon&quot;: &quot;bus&quot;, &quot;iconColor&quot;: &quot;white&quot;, &quot;markerColor&quot;: &quot;pink&quot;, &quot;prefix&quot;: &quot;fa&quot;}\n",
       "            );\n",
       "            marker_8f881056ff76956cd3c77675306c6d46.setIcon(icon_3222c9e48348fa962c01143934c3913f);\n",
       "        \n",
       "    \n",
       "            marker_8f881056ff76956cd3c77675306c6d46.bindTooltip(\n",
       "                `&lt;div&gt;\n",
       "                     Koridor TOP 5 Perempuan\n",
       "                 &lt;/div&gt;`,\n",
       "                {&quot;sticky&quot;: true}\n",
       "            );\n",
       "        \n",
       "    \n",
       "            var marker_d2292636c5fc3eff1c847652b437f730 = L.marker(\n",
       "                [-6.126306, 106.79203],\n",
       "                {}\n",
       "            ).addTo(feature_group_2b3b2d48f419e0ca3a43b43904110196);\n",
       "        \n",
       "    \n",
       "            var icon_64f30850e2396ec481ad1b30aab5bf42 = L.AwesomeMarkers.icon(\n",
       "                {&quot;extraClasses&quot;: &quot;fa-rotate-0&quot;, &quot;icon&quot;: &quot;bus&quot;, &quot;iconColor&quot;: &quot;white&quot;, &quot;markerColor&quot;: &quot;pink&quot;, &quot;prefix&quot;: &quot;fa&quot;}\n",
       "            );\n",
       "            marker_d2292636c5fc3eff1c847652b437f730.setIcon(icon_64f30850e2396ec481ad1b30aab5bf42);\n",
       "        \n",
       "    \n",
       "            marker_d2292636c5fc3eff1c847652b437f730.bindTooltip(\n",
       "                `&lt;div&gt;\n",
       "                     Koridor TOP 5 Perempuan\n",
       "                 &lt;/div&gt;`,\n",
       "                {&quot;sticky&quot;: true}\n",
       "            );\n",
       "        \n",
       "    \n",
       "            var marker_5f25e844ff421af251cc3192084b6920 = L.marker(\n",
       "                [-6.135667, 106.76299],\n",
       "                {}\n",
       "            ).addTo(feature_group_2b3b2d48f419e0ca3a43b43904110196);\n",
       "        \n",
       "    \n",
       "            var icon_10f0c834792f8eddc94de76efeca12ed = L.AwesomeMarkers.icon(\n",
       "                {&quot;extraClasses&quot;: &quot;fa-rotate-0&quot;, &quot;icon&quot;: &quot;bus&quot;, &quot;iconColor&quot;: &quot;white&quot;, &quot;markerColor&quot;: &quot;pink&quot;, &quot;prefix&quot;: &quot;fa&quot;}\n",
       "            );\n",
       "            marker_5f25e844ff421af251cc3192084b6920.setIcon(icon_10f0c834792f8eddc94de76efeca12ed);\n",
       "        \n",
       "    \n",
       "            marker_5f25e844ff421af251cc3192084b6920.bindTooltip(\n",
       "                `&lt;div&gt;\n",
       "                     Koridor TOP 5 Perempuan\n",
       "                 &lt;/div&gt;`,\n",
       "                {&quot;sticky&quot;: true}\n",
       "            );\n",
       "        \n",
       "    \n",
       "            var marker_75106d53b93cee593161097f36c049fa = L.marker(\n",
       "                [-6.125396, 106.80071],\n",
       "                {}\n",
       "            ).addTo(feature_group_2b3b2d48f419e0ca3a43b43904110196);\n",
       "        \n",
       "    \n",
       "            var icon_c6ef18740868103c33fa8a0b73345b27 = L.AwesomeMarkers.icon(\n",
       "                {&quot;extraClasses&quot;: &quot;fa-rotate-0&quot;, &quot;icon&quot;: &quot;bus&quot;, &quot;iconColor&quot;: &quot;white&quot;, &quot;markerColor&quot;: &quot;pink&quot;, &quot;prefix&quot;: &quot;fa&quot;}\n",
       "            );\n",
       "            marker_75106d53b93cee593161097f36c049fa.setIcon(icon_c6ef18740868103c33fa8a0b73345b27);\n",
       "        \n",
       "    \n",
       "            marker_75106d53b93cee593161097f36c049fa.bindTooltip(\n",
       "                `&lt;div&gt;\n",
       "                     Koridor TOP 5 Perempuan\n",
       "                 &lt;/div&gt;`,\n",
       "                {&quot;sticky&quot;: true}\n",
       "            );\n",
       "        \n",
       "    \n",
       "            var marker_396a13c6503959ea036691c1dbcd6562 = L.marker(\n",
       "                [-6.130078, 106.85492],\n",
       "                {}\n",
       "            ).addTo(feature_group_2b3b2d48f419e0ca3a43b43904110196);\n",
       "        \n",
       "    \n",
       "            var icon_736d9202f2420da32683b44384bf7c3d = L.AwesomeMarkers.icon(\n",
       "                {&quot;extraClasses&quot;: &quot;fa-rotate-0&quot;, &quot;icon&quot;: &quot;bus&quot;, &quot;iconColor&quot;: &quot;white&quot;, &quot;markerColor&quot;: &quot;blue&quot;, &quot;prefix&quot;: &quot;fa&quot;}\n",
       "            );\n",
       "            marker_396a13c6503959ea036691c1dbcd6562.setIcon(icon_736d9202f2420da32683b44384bf7c3d);\n",
       "        \n",
       "    \n",
       "            marker_396a13c6503959ea036691c1dbcd6562.bindTooltip(\n",
       "                `&lt;div&gt;\n",
       "                     Koridor TOP 5 Laki-Laki\n",
       "                 &lt;/div&gt;`,\n",
       "                {&quot;sticky&quot;: true}\n",
       "            );\n",
       "        \n",
       "    \n",
       "            var marker_14bf1089a2ae13f9e0ecd42689bcda2b = L.marker(\n",
       "                [-6.368735, 106.89366],\n",
       "                {}\n",
       "            ).addTo(feature_group_2b3b2d48f419e0ca3a43b43904110196);\n",
       "        \n",
       "    \n",
       "            var icon_1db89b93a77d22a47c412f927ea82890 = L.AwesomeMarkers.icon(\n",
       "                {&quot;extraClasses&quot;: &quot;fa-rotate-0&quot;, &quot;icon&quot;: &quot;bus&quot;, &quot;iconColor&quot;: &quot;white&quot;, &quot;markerColor&quot;: &quot;blue&quot;, &quot;prefix&quot;: &quot;fa&quot;}\n",
       "            );\n",
       "            marker_14bf1089a2ae13f9e0ecd42689bcda2b.setIcon(icon_1db89b93a77d22a47c412f927ea82890);\n",
       "        \n",
       "    \n",
       "            marker_14bf1089a2ae13f9e0ecd42689bcda2b.bindTooltip(\n",
       "                `&lt;div&gt;\n",
       "                     Koridor TOP 5 Laki-Laki\n",
       "                 &lt;/div&gt;`,\n",
       "                {&quot;sticky&quot;: true}\n",
       "            );\n",
       "        \n",
       "    \n",
       "            var marker_d496022e88d7e7ee6787438b488f06cf = L.marker(\n",
       "                [-6.126306, 106.79203],\n",
       "                {}\n",
       "            ).addTo(feature_group_2b3b2d48f419e0ca3a43b43904110196);\n",
       "        \n",
       "    \n",
       "            var icon_d7aeb68cc5a7daf64a8fa5f8c498cb82 = L.AwesomeMarkers.icon(\n",
       "                {&quot;extraClasses&quot;: &quot;fa-rotate-0&quot;, &quot;icon&quot;: &quot;bus&quot;, &quot;iconColor&quot;: &quot;white&quot;, &quot;markerColor&quot;: &quot;blue&quot;, &quot;prefix&quot;: &quot;fa&quot;}\n",
       "            );\n",
       "            marker_d496022e88d7e7ee6787438b488f06cf.setIcon(icon_d7aeb68cc5a7daf64a8fa5f8c498cb82);\n",
       "        \n",
       "    \n",
       "            marker_d496022e88d7e7ee6787438b488f06cf.bindTooltip(\n",
       "                `&lt;div&gt;\n",
       "                     Koridor TOP 5 Laki-Laki\n",
       "                 &lt;/div&gt;`,\n",
       "                {&quot;sticky&quot;: true}\n",
       "            );\n",
       "        \n",
       "    \n",
       "            var marker_b3e54cac1f09439a544868cdae36f4f4 = L.marker(\n",
       "                [-6.257751, 106.87],\n",
       "                {}\n",
       "            ).addTo(feature_group_2b3b2d48f419e0ca3a43b43904110196);\n",
       "        \n",
       "    \n",
       "            var icon_26cd93cc3da38f3f76aba0ecdcd3d171 = L.AwesomeMarkers.icon(\n",
       "                {&quot;extraClasses&quot;: &quot;fa-rotate-0&quot;, &quot;icon&quot;: &quot;bus&quot;, &quot;iconColor&quot;: &quot;white&quot;, &quot;markerColor&quot;: &quot;blue&quot;, &quot;prefix&quot;: &quot;fa&quot;}\n",
       "            );\n",
       "            marker_b3e54cac1f09439a544868cdae36f4f4.setIcon(icon_26cd93cc3da38f3f76aba0ecdcd3d171);\n",
       "        \n",
       "    \n",
       "            marker_b3e54cac1f09439a544868cdae36f4f4.bindTooltip(\n",
       "                `&lt;div&gt;\n",
       "                     Koridor TOP 5 Laki-Laki\n",
       "                 &lt;/div&gt;`,\n",
       "                {&quot;sticky&quot;: true}\n",
       "            );\n",
       "        \n",
       "    \n",
       "            var marker_2a835dcd4541dab0af9547bf8b442569 = L.marker(\n",
       "                [-6.291075, 106.88634],\n",
       "                {}\n",
       "            ).addTo(feature_group_2b3b2d48f419e0ca3a43b43904110196);\n",
       "        \n",
       "    \n",
       "            var icon_d6cd8364bdbc274c046be58dae14717f = L.AwesomeMarkers.icon(\n",
       "                {&quot;extraClasses&quot;: &quot;fa-rotate-0&quot;, &quot;icon&quot;: &quot;bus&quot;, &quot;iconColor&quot;: &quot;white&quot;, &quot;markerColor&quot;: &quot;blue&quot;, &quot;prefix&quot;: &quot;fa&quot;}\n",
       "            );\n",
       "            marker_2a835dcd4541dab0af9547bf8b442569.setIcon(icon_d6cd8364bdbc274c046be58dae14717f);\n",
       "        \n",
       "    \n",
       "            marker_2a835dcd4541dab0af9547bf8b442569.bindTooltip(\n",
       "                `&lt;div&gt;\n",
       "                     Koridor TOP 5 Laki-Laki\n",
       "                 &lt;/div&gt;`,\n",
       "                {&quot;sticky&quot;: true}\n",
       "            );\n",
       "        \n",
       "    \n",
       "            feature_group_2b3b2d48f419e0ca3a43b43904110196.addTo(map_05bf7afcdfc2b5abcc41d1c900f0b8f3);\n",
       "        \n",
       "&lt;/script&gt;\n",
       "&lt;/html&gt;\" style=\"position:absolute;width:100%;height:100%;left:0;top:0;border:none !important;\" allowfullscreen webkitallowfullscreen mozallowfullscreen></iframe></div></div>"
      ],
      "text/plain": [
       "<folium.folium.Map at 0x2837c8990>"
      ]
     },
     "execution_count": 706,
     "metadata": {},
     "output_type": "execute_result"
    }
   ],
   "source": [
    "import folium\n",
    "\n",
    "jakarta_map = folium.Map([-6.191861352405944, 106.82608477268178], zoom_start=11)\n",
    "halte = folium.map.FeatureGroup()\n",
    "\n",
    "for lat, long in list(zip(corridorFemaleO['tapOutStopsLat'], corridorFemaleO['tapOutStopsLon'])):\n",
    "    halte.add_child(\n",
    "        folium.Marker(\n",
    "    [lat, long],\n",
    "    tooltip='Koridor TOP 5 Perempuan',                                           \n",
    "    icon=folium.Icon(\n",
    "        icon='bus',                                                                           \n",
    "        prefix='fa',                                                       \n",
    "        color='pink'                                                 \n",
    "    ))\n",
    ")\n",
    "\n",
    "for lat, long in list(zip(corridorMaleO['tapOutStopsLat'], corridorMaleO['tapOutStopsLon'])):\n",
    "    halte.add_child(\n",
    "        folium.Marker(\n",
    "    [lat, long],\n",
    "    tooltip='Koridor TOP 5 Laki-Laki',                                \n",
    "    icon=folium.Icon(\n",
    "        icon='bus',                                                                                \n",
    "        prefix='fa',                                                     \n",
    "        color='blue'                                                  \n",
    "    ))\n",
    ")\n",
    "\n",
    "jakarta_map.add_child(halte)\n",
    "\n",
    "jakarta_map"
   ]
  },
  {
   "cell_type": "markdown",
   "metadata": {},
   "source": [
    "### PEAK HOURS ###"
   ]
  },
  {
   "cell_type": "code",
   "execution_count": 707,
   "metadata": {},
   "outputs": [
    {
     "data": {
      "text/html": [
       "<div>\n",
       "<style scoped>\n",
       "    .dataframe tbody tr th:only-of-type {\n",
       "        vertical-align: middle;\n",
       "    }\n",
       "\n",
       "    .dataframe tbody tr th {\n",
       "        vertical-align: top;\n",
       "    }\n",
       "\n",
       "    .dataframe thead th {\n",
       "        text-align: right;\n",
       "    }\n",
       "</style>\n",
       "<table border=\"1\" class=\"dataframe\">\n",
       "  <thead>\n",
       "    <tr style=\"text-align: right;\">\n",
       "      <th>hourTapIn</th>\n",
       "      <th>5</th>\n",
       "      <th>6</th>\n",
       "      <th>7</th>\n",
       "      <th>8</th>\n",
       "      <th>9</th>\n",
       "      <th>10</th>\n",
       "      <th>11</th>\n",
       "      <th>12</th>\n",
       "      <th>13</th>\n",
       "      <th>14</th>\n",
       "      <th>15</th>\n",
       "      <th>16</th>\n",
       "      <th>17</th>\n",
       "      <th>18</th>\n",
       "      <th>19</th>\n",
       "      <th>20</th>\n",
       "      <th>21</th>\n",
       "    </tr>\n",
       "    <tr>\n",
       "      <th>dayTapIn</th>\n",
       "      <th></th>\n",
       "      <th></th>\n",
       "      <th></th>\n",
       "      <th></th>\n",
       "      <th></th>\n",
       "      <th></th>\n",
       "      <th></th>\n",
       "      <th></th>\n",
       "      <th></th>\n",
       "      <th></th>\n",
       "      <th></th>\n",
       "      <th></th>\n",
       "      <th></th>\n",
       "      <th></th>\n",
       "      <th></th>\n",
       "      <th></th>\n",
       "      <th></th>\n",
       "    </tr>\n",
       "  </thead>\n",
       "  <tbody>\n",
       "    <tr>\n",
       "      <th>Fri</th>\n",
       "      <td>533</td>\n",
       "      <td>947</td>\n",
       "      <td>415</td>\n",
       "      <td>452</td>\n",
       "      <td>446</td>\n",
       "      <td>21</td>\n",
       "      <td>28</td>\n",
       "      <td>19</td>\n",
       "      <td>22</td>\n",
       "      <td>0</td>\n",
       "      <td>29</td>\n",
       "      <td>556</td>\n",
       "      <td>872</td>\n",
       "      <td>352</td>\n",
       "      <td>364</td>\n",
       "      <td>365</td>\n",
       "      <td>338</td>\n",
       "    </tr>\n",
       "    <tr>\n",
       "      <th>Mon</th>\n",
       "      <td>526</td>\n",
       "      <td>949</td>\n",
       "      <td>453</td>\n",
       "      <td>427</td>\n",
       "      <td>423</td>\n",
       "      <td>12</td>\n",
       "      <td>22</td>\n",
       "      <td>12</td>\n",
       "      <td>31</td>\n",
       "      <td>1</td>\n",
       "      <td>20</td>\n",
       "      <td>504</td>\n",
       "      <td>872</td>\n",
       "      <td>366</td>\n",
       "      <td>370</td>\n",
       "      <td>381</td>\n",
       "      <td>323</td>\n",
       "    </tr>\n",
       "    <tr>\n",
       "      <th>Sat</th>\n",
       "      <td>96</td>\n",
       "      <td>82</td>\n",
       "      <td>79</td>\n",
       "      <td>101</td>\n",
       "      <td>93</td>\n",
       "      <td>80</td>\n",
       "      <td>78</td>\n",
       "      <td>95</td>\n",
       "      <td>84</td>\n",
       "      <td>69</td>\n",
       "      <td>105</td>\n",
       "      <td>103</td>\n",
       "      <td>125</td>\n",
       "      <td>89</td>\n",
       "      <td>99</td>\n",
       "      <td>94</td>\n",
       "      <td>66</td>\n",
       "    </tr>\n",
       "    <tr>\n",
       "      <th>Sun</th>\n",
       "      <td>91</td>\n",
       "      <td>90</td>\n",
       "      <td>89</td>\n",
       "      <td>98</td>\n",
       "      <td>83</td>\n",
       "      <td>90</td>\n",
       "      <td>93</td>\n",
       "      <td>86</td>\n",
       "      <td>100</td>\n",
       "      <td>73</td>\n",
       "      <td>97</td>\n",
       "      <td>87</td>\n",
       "      <td>102</td>\n",
       "      <td>88</td>\n",
       "      <td>105</td>\n",
       "      <td>115</td>\n",
       "      <td>65</td>\n",
       "    </tr>\n",
       "    <tr>\n",
       "      <th>Thu</th>\n",
       "      <td>532</td>\n",
       "      <td>929</td>\n",
       "      <td>410</td>\n",
       "      <td>441</td>\n",
       "      <td>448</td>\n",
       "      <td>18</td>\n",
       "      <td>25</td>\n",
       "      <td>19</td>\n",
       "      <td>24</td>\n",
       "      <td>3</td>\n",
       "      <td>28</td>\n",
       "      <td>526</td>\n",
       "      <td>865</td>\n",
       "      <td>391</td>\n",
       "      <td>365</td>\n",
       "      <td>360</td>\n",
       "      <td>342</td>\n",
       "    </tr>\n",
       "    <tr>\n",
       "      <th>Tue</th>\n",
       "      <td>516</td>\n",
       "      <td>949</td>\n",
       "      <td>465</td>\n",
       "      <td>424</td>\n",
       "      <td>437</td>\n",
       "      <td>11</td>\n",
       "      <td>19</td>\n",
       "      <td>22</td>\n",
       "      <td>19</td>\n",
       "      <td>1</td>\n",
       "      <td>24</td>\n",
       "      <td>512</td>\n",
       "      <td>902</td>\n",
       "      <td>367</td>\n",
       "      <td>365</td>\n",
       "      <td>381</td>\n",
       "      <td>341</td>\n",
       "    </tr>\n",
       "    <tr>\n",
       "      <th>Wed</th>\n",
       "      <td>515</td>\n",
       "      <td>920</td>\n",
       "      <td>427</td>\n",
       "      <td>454</td>\n",
       "      <td>453</td>\n",
       "      <td>24</td>\n",
       "      <td>22</td>\n",
       "      <td>27</td>\n",
       "      <td>16</td>\n",
       "      <td>1</td>\n",
       "      <td>25</td>\n",
       "      <td>534</td>\n",
       "      <td>886</td>\n",
       "      <td>367</td>\n",
       "      <td>373</td>\n",
       "      <td>332</td>\n",
       "      <td>332</td>\n",
       "    </tr>\n",
       "  </tbody>\n",
       "</table>\n",
       "</div>"
      ],
      "text/plain": [
       "hourTapIn   5    6    7    8    9   10  11  12   13  14   15   16   17   18  \\\n",
       "dayTapIn                                                                      \n",
       "Fri        533  947  415  452  446  21  28  19   22   0   29  556  872  352   \n",
       "Mon        526  949  453  427  423  12  22  12   31   1   20  504  872  366   \n",
       "Sat         96   82   79  101   93  80  78  95   84  69  105  103  125   89   \n",
       "Sun         91   90   89   98   83  90  93  86  100  73   97   87  102   88   \n",
       "Thu        532  929  410  441  448  18  25  19   24   3   28  526  865  391   \n",
       "Tue        516  949  465  424  437  11  19  22   19   1   24  512  902  367   \n",
       "Wed        515  920  427  454  453  24  22  27   16   1   25  534  886  367   \n",
       "\n",
       "hourTapIn   19   20   21  \n",
       "dayTapIn                  \n",
       "Fri        364  365  338  \n",
       "Mon        370  381  323  \n",
       "Sat         99   94   66  \n",
       "Sun        105  115   65  \n",
       "Thu        365  360  342  \n",
       "Tue        365  381  341  \n",
       "Wed        373  332  332  "
      ]
     },
     "execution_count": 707,
     "metadata": {},
     "output_type": "execute_result"
    }
   ],
   "source": [
    "df['hourTapIn'] = df['tapInTime'].dt.hour\n",
    "df['dayTapIn'] = df['tapInTime'].dt.dayofweek\n",
    "dayTapIn = {\n",
    "    0: 'Mon',\n",
    "    1: 'Tue',\n",
    "    2: 'Wed',\n",
    "    3: 'Thu',\n",
    "    4: 'Fri',\n",
    "    5: 'Sat',\n",
    "    6: 'Sun'\n",
    "}\n",
    "df['dayTapIn'] = df['dayTapIn'].map(dayTapIn)\n",
    "\n",
    "peakhours = pd.crosstab(df['dayTapIn'], df['hourTapIn'])\n",
    "peakhours"
   ]
  },
  {
   "cell_type": "code",
   "execution_count": 708,
   "metadata": {},
   "outputs": [
    {
     "data": {
      "image/png": "[encoded data removed]",
      "text/plain": [
       "<Figure size 1800x600 with 2 Axes>"
      ]
     },
     "metadata": {},
     "output_type": "display_data"
    }
   ],
   "source": [
    "custom_colors = [\"#FFD700\", \"#FFA500\", \"#FF8C00\"]\n",
    "\n",
    "plt.figure(figsize=(18, 6))\n",
    "sns.set_palette(custom_colors)\n",
    "sns.heatmap(peakhours, annot=True, annot_kws={'size': 12}, fmt='.0f')\n",
    "plt.show()"
   ]
  },
  {
   "cell_type": "markdown",
   "metadata": {},
   "source": [
    "### ANALISIS RFM ###"
   ]
  },
  {
   "cell_type": "code",
   "execution_count": 709,
   "metadata": {},
   "outputs": [],
   "source": [
    "rfm = df[['payCardName','payCardBank','tapOutTime','payAmount']]"
   ]
  },
  {
   "cell_type": "code",
   "execution_count": 710,
   "metadata": {},
   "outputs": [
    {
     "name": "stderr",
     "output_type": "stream",
     "text": [
      "/var/folders/jp/kqzf5z7d4gg594lx82fkysvh0000gn/T/ipykernel_15472/3628344069.py:2: SettingWithCopyWarning:\n",
      "\n",
      "\n",
      "A value is trying to be set on a copy of a slice from a DataFrame.\n",
      "Try using .loc[row_indexer,col_indexer] = value instead\n",
      "\n",
      "See the caveats in the documentation: https://pandas.pydata.org/pandas-docs/stable/user_guide/indexing.html#returning-a-view-versus-a-copy\n",
      "\n"
     ]
    },
    {
     "data": {
      "text/html": [
       "<div>\n",
       "<style scoped>\n",
       "    .dataframe tbody tr th:only-of-type {\n",
       "        vertical-align: middle;\n",
       "    }\n",
       "\n",
       "    .dataframe tbody tr th {\n",
       "        vertical-align: top;\n",
       "    }\n",
       "\n",
       "    .dataframe thead th {\n",
       "        text-align: right;\n",
       "    }\n",
       "</style>\n",
       "<table border=\"1\" class=\"dataframe\">\n",
       "  <thead>\n",
       "    <tr style=\"text-align: right;\">\n",
       "      <th></th>\n",
       "      <th>payCardName</th>\n",
       "      <th>payCardBank</th>\n",
       "      <th>tapOutTime</th>\n",
       "      <th>payAmount</th>\n",
       "      <th>Recency</th>\n",
       "    </tr>\n",
       "  </thead>\n",
       "  <tbody>\n",
       "    <tr>\n",
       "      <th>0</th>\n",
       "      <td>Bajragin Usada</td>\n",
       "      <td>emoney</td>\n",
       "      <td>2023-04-03 06:00:53</td>\n",
       "      <td>3500.0</td>\n",
       "      <td>27</td>\n",
       "    </tr>\n",
       "    <tr>\n",
       "      <th>1</th>\n",
       "      <td>Gandi Widodo</td>\n",
       "      <td>dki</td>\n",
       "      <td>2023-04-03 06:40:01</td>\n",
       "      <td>3500.0</td>\n",
       "      <td>27</td>\n",
       "    </tr>\n",
       "    <tr>\n",
       "      <th>2</th>\n",
       "      <td>Emong Wastuti</td>\n",
       "      <td>dki</td>\n",
       "      <td>2023-04-03 06:50:55</td>\n",
       "      <td>3500.0</td>\n",
       "      <td>27</td>\n",
       "    </tr>\n",
       "    <tr>\n",
       "      <th>3</th>\n",
       "      <td>Surya Wacana</td>\n",
       "      <td>flazz</td>\n",
       "      <td>2023-04-03 06:28:16</td>\n",
       "      <td>3500.0</td>\n",
       "      <td>27</td>\n",
       "    </tr>\n",
       "    <tr>\n",
       "      <th>4</th>\n",
       "      <td>Embuh Mardhiyah</td>\n",
       "      <td>flazz</td>\n",
       "      <td>2023-04-03 06:57:03</td>\n",
       "      <td>3500.0</td>\n",
       "      <td>27</td>\n",
       "    </tr>\n",
       "    <tr>\n",
       "      <th>...</th>\n",
       "      <td>...</td>\n",
       "      <td>...</td>\n",
       "      <td>...</td>\n",
       "      <td>...</td>\n",
       "      <td>...</td>\n",
       "    </tr>\n",
       "    <tr>\n",
       "      <th>37895</th>\n",
       "      <td>Kamila Mahendra</td>\n",
       "      <td>brizzi</td>\n",
       "      <td>2023-04-21 19:55:49</td>\n",
       "      <td>3500.0</td>\n",
       "      <td>9</td>\n",
       "    </tr>\n",
       "    <tr>\n",
       "      <th>37896</th>\n",
       "      <td>Titi Siregar</td>\n",
       "      <td>dki</td>\n",
       "      <td>2023-04-18 22:28:22</td>\n",
       "      <td>3500.0</td>\n",
       "      <td>12</td>\n",
       "    </tr>\n",
       "    <tr>\n",
       "      <th>37897</th>\n",
       "      <td>drg. Zahra Nashiruddin</td>\n",
       "      <td>emoney</td>\n",
       "      <td>2023-04-04 13:27:25</td>\n",
       "      <td>20000.0</td>\n",
       "      <td>26</td>\n",
       "    </tr>\n",
       "    <tr>\n",
       "      <th>37898</th>\n",
       "      <td>Ana Agustina</td>\n",
       "      <td>emoney</td>\n",
       "      <td>2023-04-15 20:27:50</td>\n",
       "      <td>0.0</td>\n",
       "      <td>15</td>\n",
       "    </tr>\n",
       "    <tr>\n",
       "      <th>37899</th>\n",
       "      <td>drg. Leo Najmudin</td>\n",
       "      <td>flazz</td>\n",
       "      <td>2023-04-12 21:34:53</td>\n",
       "      <td>3500.0</td>\n",
       "      <td>18</td>\n",
       "    </tr>\n",
       "  </tbody>\n",
       "</table>\n",
       "<p>31730 rows × 5 columns</p>\n",
       "</div>"
      ],
      "text/plain": [
       "                  payCardName payCardBank          tapOutTime  payAmount  \\\n",
       "0              Bajragin Usada      emoney 2023-04-03 06:00:53     3500.0   \n",
       "1                Gandi Widodo         dki 2023-04-03 06:40:01     3500.0   \n",
       "2               Emong Wastuti         dki 2023-04-03 06:50:55     3500.0   \n",
       "3                Surya Wacana       flazz 2023-04-03 06:28:16     3500.0   \n",
       "4             Embuh Mardhiyah       flazz 2023-04-03 06:57:03     3500.0   \n",
       "...                       ...         ...                 ...        ...   \n",
       "37895         Kamila Mahendra      brizzi 2023-04-21 19:55:49     3500.0   \n",
       "37896            Titi Siregar         dki 2023-04-18 22:28:22     3500.0   \n",
       "37897  drg. Zahra Nashiruddin      emoney 2023-04-04 13:27:25    20000.0   \n",
       "37898            Ana Agustina      emoney 2023-04-15 20:27:50        0.0   \n",
       "37899       drg. Leo Najmudin       flazz 2023-04-12 21:34:53     3500.0   \n",
       "\n",
       "       Recency  \n",
       "0           27  \n",
       "1           27  \n",
       "2           27  \n",
       "3           27  \n",
       "4           27  \n",
       "...        ...  \n",
       "37895        9  \n",
       "37896       12  \n",
       "37897       26  \n",
       "37898       15  \n",
       "37899       18  \n",
       "\n",
       "[31730 rows x 5 columns]"
      ]
     },
     "execution_count": 710,
     "metadata": {},
     "output_type": "execute_result"
    }
   ],
   "source": [
    "max_date = rfm['tapOutTime'].max()\n",
    "rfm['Recency'] = (max_date - rfm['tapOutTime']).dt.days\n",
    "rfm"
   ]
  },
  {
   "cell_type": "code",
   "execution_count": 711,
   "metadata": {},
   "outputs": [
    {
     "data": {
      "text/plain": [
       "Timestamp('2023-05-01 23:23:18')"
      ]
     },
     "execution_count": 711,
     "metadata": {},
     "output_type": "execute_result"
    }
   ],
   "source": [
    "import datetime\n",
    "\n",
    "analysis_date = df['tapOutTime'].max() + datetime.timedelta(1)\n",
    "analysis_date"
   ]
  },
  {
   "cell_type": "code",
   "execution_count": 712,
   "metadata": {},
   "outputs": [
    {
     "data": {
      "text/html": [
       "<div>\n",
       "<style scoped>\n",
       "    .dataframe tbody tr th:only-of-type {\n",
       "        vertical-align: middle;\n",
       "    }\n",
       "\n",
       "    .dataframe tbody tr th {\n",
       "        vertical-align: top;\n",
       "    }\n",
       "\n",
       "    .dataframe thead th {\n",
       "        text-align: right;\n",
       "    }\n",
       "</style>\n",
       "<table border=\"1\" class=\"dataframe\">\n",
       "  <thead>\n",
       "    <tr style=\"text-align: right;\">\n",
       "      <th></th>\n",
       "      <th>recency</th>\n",
       "    </tr>\n",
       "    <tr>\n",
       "      <th>payCardName</th>\n",
       "      <th></th>\n",
       "    </tr>\n",
       "  </thead>\n",
       "  <tbody>\n",
       "    <tr>\n",
       "      <th>Kunthara Budiman</th>\n",
       "      <td>1</td>\n",
       "    </tr>\n",
       "    <tr>\n",
       "      <th>Sarah Hardiansyah</th>\n",
       "      <td>13</td>\n",
       "    </tr>\n",
       "    <tr>\n",
       "      <th>H. Satya Nashiruddin, S.Farm</th>\n",
       "      <td>2</td>\n",
       "    </tr>\n",
       "    <tr>\n",
       "      <th>Endra Nababan, M.Farm</th>\n",
       "      <td>3</td>\n",
       "    </tr>\n",
       "    <tr>\n",
       "      <th>R.A. Gasti Budiman, S.T.</th>\n",
       "      <td>4</td>\n",
       "    </tr>\n",
       "  </tbody>\n",
       "</table>\n",
       "</div>"
      ],
      "text/plain": [
       "                              recency\n",
       "payCardName                          \n",
       "Kunthara Budiman                    1\n",
       "Sarah Hardiansyah                  13\n",
       "H. Satya Nashiruddin, S.Farm        2\n",
       "Endra Nababan, M.Farm               3\n",
       "R.A. Gasti Budiman, S.T.            4"
      ]
     },
     "execution_count": 712,
     "metadata": {},
     "output_type": "execute_result"
    }
   ],
   "source": [
    "df_recency = df.groupby('payCardName').agg(\n",
    "    recency=('tapOutTime', lambda x: (analysis_date - x.max()).days)\n",
    ")\n",
    "\n",
    "df_recency.sample(5, random_state=42)"
   ]
  },
  {
   "cell_type": "code",
   "execution_count": 713,
   "metadata": {},
   "outputs": [
    {
     "data": {
      "text/html": [
       "<div>\n",
       "<style scoped>\n",
       "    .dataframe tbody tr th:only-of-type {\n",
       "        vertical-align: middle;\n",
       "    }\n",
       "\n",
       "    .dataframe tbody tr th {\n",
       "        vertical-align: top;\n",
       "    }\n",
       "\n",
       "    .dataframe thead th {\n",
       "        text-align: right;\n",
       "    }\n",
       "</style>\n",
       "<table border=\"1\" class=\"dataframe\">\n",
       "  <thead>\n",
       "    <tr style=\"text-align: right;\">\n",
       "      <th></th>\n",
       "      <th>frequency</th>\n",
       "    </tr>\n",
       "    <tr>\n",
       "      <th>payCardName</th>\n",
       "      <th></th>\n",
       "    </tr>\n",
       "  </thead>\n",
       "  <tbody>\n",
       "    <tr>\n",
       "      <th>Kunthara Budiman</th>\n",
       "      <td>4</td>\n",
       "    </tr>\n",
       "    <tr>\n",
       "      <th>Sarah Hardiansyah</th>\n",
       "      <td>1</td>\n",
       "    </tr>\n",
       "    <tr>\n",
       "      <th>H. Satya Nashiruddin, S.Farm</th>\n",
       "      <td>3</td>\n",
       "    </tr>\n",
       "    <tr>\n",
       "      <th>Endra Nababan, M.Farm</th>\n",
       "      <td>33</td>\n",
       "    </tr>\n",
       "    <tr>\n",
       "      <th>R.A. Gasti Budiman, S.T.</th>\n",
       "      <td>1</td>\n",
       "    </tr>\n",
       "  </tbody>\n",
       "</table>\n",
       "</div>"
      ],
      "text/plain": [
       "                              frequency\n",
       "payCardName                            \n",
       "Kunthara Budiman                      4\n",
       "Sarah Hardiansyah                     1\n",
       "H. Satya Nashiruddin, S.Farm          3\n",
       "Endra Nababan, M.Farm                33\n",
       "R.A. Gasti Budiman, S.T.              1"
      ]
     },
     "execution_count": 713,
     "metadata": {},
     "output_type": "execute_result"
    }
   ],
   "source": [
    "df_frequency = df.groupby('payCardName').agg(\n",
    "    frequency=('transID', lambda x: x.nunique()),\n",
    ")\n",
    "\n",
    "df_frequency.sample(5, random_state=42)"
   ]
  },
  {
   "cell_type": "code",
   "execution_count": 714,
   "metadata": {},
   "outputs": [
    {
     "data": {
      "text/html": [
       "<div>\n",
       "<style scoped>\n",
       "    .dataframe tbody tr th:only-of-type {\n",
       "        vertical-align: middle;\n",
       "    }\n",
       "\n",
       "    .dataframe tbody tr th {\n",
       "        vertical-align: top;\n",
       "    }\n",
       "\n",
       "    .dataframe thead th {\n",
       "        text-align: right;\n",
       "    }\n",
       "</style>\n",
       "<table border=\"1\" class=\"dataframe\">\n",
       "  <thead>\n",
       "    <tr style=\"text-align: right;\">\n",
       "      <th></th>\n",
       "      <th>monetary</th>\n",
       "    </tr>\n",
       "    <tr>\n",
       "      <th>payCardName</th>\n",
       "      <th></th>\n",
       "    </tr>\n",
       "  </thead>\n",
       "  <tbody>\n",
       "    <tr>\n",
       "      <th>Kunthara Budiman</th>\n",
       "      <td>10500.0</td>\n",
       "    </tr>\n",
       "    <tr>\n",
       "      <th>Sarah Hardiansyah</th>\n",
       "      <td>0.0</td>\n",
       "    </tr>\n",
       "    <tr>\n",
       "      <th>H. Satya Nashiruddin, S.Farm</th>\n",
       "      <td>7000.0</td>\n",
       "    </tr>\n",
       "    <tr>\n",
       "      <th>Endra Nababan, M.Farm</th>\n",
       "      <td>115500.0</td>\n",
       "    </tr>\n",
       "    <tr>\n",
       "      <th>R.A. Gasti Budiman, S.T.</th>\n",
       "      <td>3500.0</td>\n",
       "    </tr>\n",
       "  </tbody>\n",
       "</table>\n",
       "</div>"
      ],
      "text/plain": [
       "                              monetary\n",
       "payCardName                           \n",
       "Kunthara Budiman               10500.0\n",
       "Sarah Hardiansyah                  0.0\n",
       "H. Satya Nashiruddin, S.Farm    7000.0\n",
       "Endra Nababan, M.Farm         115500.0\n",
       "R.A. Gasti Budiman, S.T.        3500.0"
      ]
     },
     "execution_count": 714,
     "metadata": {},
     "output_type": "execute_result"
    }
   ],
   "source": [
    "df_monetary = df.groupby('payCardName').agg(\n",
    "    monetary=('payAmount', 'sum')\n",
    ")\n",
    "\n",
    "df_monetary.sample(5, random_state=42)"
   ]
  },
  {
   "cell_type": "code",
   "execution_count": 715,
   "metadata": {},
   "outputs": [
    {
     "data": {
      "text/html": [
       "<div>\n",
       "<style scoped>\n",
       "    .dataframe tbody tr th:only-of-type {\n",
       "        vertical-align: middle;\n",
       "    }\n",
       "\n",
       "    .dataframe tbody tr th {\n",
       "        vertical-align: top;\n",
       "    }\n",
       "\n",
       "    .dataframe thead th {\n",
       "        text-align: right;\n",
       "    }\n",
       "</style>\n",
       "<table border=\"1\" class=\"dataframe\">\n",
       "  <thead>\n",
       "    <tr style=\"text-align: right;\">\n",
       "      <th></th>\n",
       "      <th>recency</th>\n",
       "      <th>frequency</th>\n",
       "      <th>monetary</th>\n",
       "    </tr>\n",
       "    <tr>\n",
       "      <th>payCardName</th>\n",
       "      <th></th>\n",
       "      <th></th>\n",
       "      <th></th>\n",
       "    </tr>\n",
       "  </thead>\n",
       "  <tbody>\n",
       "    <tr>\n",
       "      <th>Kunthara Budiman</th>\n",
       "      <td>1</td>\n",
       "      <td>4</td>\n",
       "      <td>10500.0</td>\n",
       "    </tr>\n",
       "    <tr>\n",
       "      <th>Sarah Hardiansyah</th>\n",
       "      <td>13</td>\n",
       "      <td>1</td>\n",
       "      <td>0.0</td>\n",
       "    </tr>\n",
       "    <tr>\n",
       "      <th>H. Satya Nashiruddin, S.Farm</th>\n",
       "      <td>2</td>\n",
       "      <td>3</td>\n",
       "      <td>7000.0</td>\n",
       "    </tr>\n",
       "    <tr>\n",
       "      <th>Endra Nababan, M.Farm</th>\n",
       "      <td>3</td>\n",
       "      <td>33</td>\n",
       "      <td>115500.0</td>\n",
       "    </tr>\n",
       "    <tr>\n",
       "      <th>R.A. Gasti Budiman, S.T.</th>\n",
       "      <td>4</td>\n",
       "      <td>1</td>\n",
       "      <td>3500.0</td>\n",
       "    </tr>\n",
       "  </tbody>\n",
       "</table>\n",
       "</div>"
      ],
      "text/plain": [
       "                              recency  frequency  monetary\n",
       "payCardName                                               \n",
       "Kunthara Budiman                    1          4   10500.0\n",
       "Sarah Hardiansyah                  13          1       0.0\n",
       "H. Satya Nashiruddin, S.Farm        2          3    7000.0\n",
       "Endra Nababan, M.Farm               3         33  115500.0\n",
       "R.A. Gasti Budiman, S.T.            4          1    3500.0"
      ]
     },
     "execution_count": 715,
     "metadata": {},
     "output_type": "execute_result"
    }
   ],
   "source": [
    "df_customer = df.groupby('payCardName').agg(\n",
    "    recency=('tapOutTime', lambda x: (analysis_date - x.max()).days),\n",
    "    frequency=('transID', lambda x: x.nunique()),\n",
    "    monetary=('payAmount', 'sum')\n",
    ")\n",
    "\n",
    "df_customer.sample(5, random_state=42)"
   ]
  },
  {
   "cell_type": "code",
   "execution_count": 716,
   "metadata": {},
   "outputs": [
    {
     "data": {
      "image/png": "[encoded data removed]",
      "text/plain": [
       "<Figure size 750x500 with 2 Axes>"
      ]
     },
     "metadata": {},
     "output_type": "display_data"
    },
    {
     "data": {
      "text/plain": [
       "0.00     1.0\n",
       "0.25     2.0\n",
       "0.50     3.0\n",
       "0.75     8.0\n",
       "1.00    30.0\n",
       "Name: recency, dtype: float64"
      ]
     },
     "metadata": {},
     "output_type": "display_data"
    }
   ],
   "source": [
    "grid = {\n",
    "    'height_ratios': (0.15, 0.85),\n",
    "    'hspace': 0.05\n",
    "}\n",
    "\n",
    "fig, (ax1, ax2) = plt.subplots(nrows=2, ncols=1, figsize=(7.5, 5), gridspec_kw=grid)\n",
    "\n",
    "sns.boxplot(data=df_customer, x='recency', ax=ax1)\n",
    "sns.histplot(data=df_customer, x='recency', kde=True, ax=ax2)\n",
    "\n",
    "plt.show()\n",
    "\n",
    "display(df_customer['recency'].quantile([0, 0.25, 0.5, 0.75, 1]))"
   ]
  },
  {
   "cell_type": "code",
   "execution_count": 717,
   "metadata": {},
   "outputs": [
    {
     "data": {
      "text/html": [
       "<div>\n",
       "<style scoped>\n",
       "    .dataframe tbody tr th:only-of-type {\n",
       "        vertical-align: middle;\n",
       "    }\n",
       "\n",
       "    .dataframe tbody tr th {\n",
       "        vertical-align: top;\n",
       "    }\n",
       "\n",
       "    .dataframe thead th {\n",
       "        text-align: right;\n",
       "    }\n",
       "</style>\n",
       "<table border=\"1\" class=\"dataframe\">\n",
       "  <thead>\n",
       "    <tr style=\"text-align: right;\">\n",
       "      <th></th>\n",
       "      <th>recency</th>\n",
       "      <th>frequency</th>\n",
       "      <th>monetary</th>\n",
       "      <th>r_score</th>\n",
       "    </tr>\n",
       "    <tr>\n",
       "      <th>payCardName</th>\n",
       "      <th></th>\n",
       "      <th></th>\n",
       "      <th></th>\n",
       "      <th></th>\n",
       "    </tr>\n",
       "  </thead>\n",
       "  <tbody>\n",
       "    <tr>\n",
       "      <th>Kunthara Budiman</th>\n",
       "      <td>1</td>\n",
       "      <td>4</td>\n",
       "      <td>10500.0</td>\n",
       "      <td>4</td>\n",
       "    </tr>\n",
       "    <tr>\n",
       "      <th>Sarah Hardiansyah</th>\n",
       "      <td>13</td>\n",
       "      <td>1</td>\n",
       "      <td>0.0</td>\n",
       "      <td>1</td>\n",
       "    </tr>\n",
       "    <tr>\n",
       "      <th>H. Satya Nashiruddin, S.Farm</th>\n",
       "      <td>2</td>\n",
       "      <td>3</td>\n",
       "      <td>7000.0</td>\n",
       "      <td>4</td>\n",
       "    </tr>\n",
       "    <tr>\n",
       "      <th>Endra Nababan, M.Farm</th>\n",
       "      <td>3</td>\n",
       "      <td>33</td>\n",
       "      <td>115500.0</td>\n",
       "      <td>3</td>\n",
       "    </tr>\n",
       "    <tr>\n",
       "      <th>R.A. Gasti Budiman, S.T.</th>\n",
       "      <td>4</td>\n",
       "      <td>1</td>\n",
       "      <td>3500.0</td>\n",
       "      <td>2</td>\n",
       "    </tr>\n",
       "  </tbody>\n",
       "</table>\n",
       "</div>"
      ],
      "text/plain": [
       "                              recency  frequency  monetary  r_score\n",
       "payCardName                                                        \n",
       "Kunthara Budiman                    1          4   10500.0        4\n",
       "Sarah Hardiansyah                  13          1       0.0        1\n",
       "H. Satya Nashiruddin, S.Farm        2          3    7000.0        4\n",
       "Endra Nababan, M.Farm               3         33  115500.0        3\n",
       "R.A. Gasti Budiman, S.T.            4          1    3500.0        2"
      ]
     },
     "execution_count": 717,
     "metadata": {},
     "output_type": "execute_result"
    }
   ],
   "source": [
    "df_customer['r_score'] = pd.qcut(df_customer['recency'], q=4, labels=[4, 3, 2, 1]).astype(int)      # q=4, kita bagi menjadi 4 kelompok dengan jumlah yang sama\n",
    "df_customer.sample(5, random_state=42)"
   ]
  },
  {
   "cell_type": "code",
   "execution_count": 718,
   "metadata": {},
   "outputs": [
    {
     "data": {
      "image/png": "[encoded data removed]",
      "text/plain": [
       "<Figure size 750x500 with 2 Axes>"
      ]
     },
     "metadata": {},
     "output_type": "display_data"
    },
    {
     "data": {
      "text/plain": [
       "0.00     1.0\n",
       "0.25     3.0\n",
       "0.50    10.0\n",
       "0.75    34.0\n",
       "1.00    71.0\n",
       "Name: frequency, dtype: float64"
      ]
     },
     "metadata": {},
     "output_type": "display_data"
    }
   ],
   "source": [
    "grid = {\n",
    "    'height_ratios': (0.15, 0.85),\n",
    "    'hspace': 0.05\n",
    "}\n",
    "\n",
    "fig, (ax1, ax2) = plt.subplots(nrows=2, ncols=1, figsize=(7.5, 5), gridspec_kw=grid)\n",
    "\n",
    "sns.boxplot(data=df_customer, x='frequency', ax=ax1)\n",
    "sns.histplot(data=df_customer, x='frequency', kde=True, ax=ax2, bins=50)\n",
    "\n",
    "plt.show()\n",
    "\n",
    "display(df_customer['frequency'].quantile([0, 0.25, 0.5, 0.75, 1]))"
   ]
  },
  {
   "cell_type": "code",
   "execution_count": 719,
   "metadata": {},
   "outputs": [
    {
     "data": {
      "text/html": [
       "<div>\n",
       "<style scoped>\n",
       "    .dataframe tbody tr th:only-of-type {\n",
       "        vertical-align: middle;\n",
       "    }\n",
       "\n",
       "    .dataframe tbody tr th {\n",
       "        vertical-align: top;\n",
       "    }\n",
       "\n",
       "    .dataframe thead th {\n",
       "        text-align: right;\n",
       "    }\n",
       "</style>\n",
       "<table border=\"1\" class=\"dataframe\">\n",
       "  <thead>\n",
       "    <tr style=\"text-align: right;\">\n",
       "      <th></th>\n",
       "      <th>recency</th>\n",
       "      <th>frequency</th>\n",
       "      <th>monetary</th>\n",
       "      <th>r_score</th>\n",
       "      <th>f_score</th>\n",
       "    </tr>\n",
       "    <tr>\n",
       "      <th>payCardName</th>\n",
       "      <th></th>\n",
       "      <th></th>\n",
       "      <th></th>\n",
       "      <th></th>\n",
       "      <th></th>\n",
       "    </tr>\n",
       "  </thead>\n",
       "  <tbody>\n",
       "    <tr>\n",
       "      <th>Kunthara Budiman</th>\n",
       "      <td>1</td>\n",
       "      <td>4</td>\n",
       "      <td>10500.0</td>\n",
       "      <td>4</td>\n",
       "      <td>2</td>\n",
       "    </tr>\n",
       "    <tr>\n",
       "      <th>Sarah Hardiansyah</th>\n",
       "      <td>13</td>\n",
       "      <td>1</td>\n",
       "      <td>0.0</td>\n",
       "      <td>1</td>\n",
       "      <td>1</td>\n",
       "    </tr>\n",
       "    <tr>\n",
       "      <th>H. Satya Nashiruddin, S.Farm</th>\n",
       "      <td>2</td>\n",
       "      <td>3</td>\n",
       "      <td>7000.0</td>\n",
       "      <td>4</td>\n",
       "      <td>2</td>\n",
       "    </tr>\n",
       "    <tr>\n",
       "      <th>Endra Nababan, M.Farm</th>\n",
       "      <td>3</td>\n",
       "      <td>33</td>\n",
       "      <td>115500.0</td>\n",
       "      <td>3</td>\n",
       "      <td>3</td>\n",
       "    </tr>\n",
       "    <tr>\n",
       "      <th>R.A. Gasti Budiman, S.T.</th>\n",
       "      <td>4</td>\n",
       "      <td>1</td>\n",
       "      <td>3500.0</td>\n",
       "      <td>2</td>\n",
       "      <td>1</td>\n",
       "    </tr>\n",
       "  </tbody>\n",
       "</table>\n",
       "</div>"
      ],
      "text/plain": [
       "                              recency  frequency  monetary  r_score  f_score\n",
       "payCardName                                                                 \n",
       "Kunthara Budiman                    1          4   10500.0        4        2\n",
       "Sarah Hardiansyah                  13          1       0.0        1        1\n",
       "H. Satya Nashiruddin, S.Farm        2          3    7000.0        4        2\n",
       "Endra Nababan, M.Farm               3         33  115500.0        3        3\n",
       "R.A. Gasti Budiman, S.T.            4          1    3500.0        2        1"
      ]
     },
     "execution_count": 719,
     "metadata": {},
     "output_type": "execute_result"
    }
   ],
   "source": [
    "def f_score(x):\n",
    "    if x==1:\n",
    "        return 1\n",
    "    elif x <= 10:\n",
    "        return 2\n",
    "    elif x <= 34:\n",
    "        return 3\n",
    "    else:\n",
    "        return 4\n",
    "    \n",
    "df_customer['f_score'] = df_customer['frequency'].apply(f_score)\n",
    "df_customer.sample(5, random_state=42)"
   ]
  },
  {
   "cell_type": "code",
   "execution_count": 720,
   "metadata": {},
   "outputs": [
    {
     "data": {
      "image/png": "[encoded data removed]",
      "text/plain": [
       "<Figure size 750x500 with 2 Axes>"
      ]
     },
     "metadata": {},
     "output_type": "display_data"
    },
    {
     "data": {
      "text/plain": [
       "0.00         0.0\n",
       "0.25         0.0\n",
       "0.50      7000.0\n",
       "0.75     43500.0\n",
       "1.00    760000.0\n",
       "Name: monetary, dtype: float64"
      ]
     },
     "metadata": {},
     "output_type": "display_data"
    }
   ],
   "source": [
    "grid = {\n",
    "    'height_ratios': (0.15, 0.85),\n",
    "    'hspace': 0.05\n",
    "}\n",
    "\n",
    "fig, (ax1, ax2) = plt.subplots(nrows=2, ncols=1, figsize=(7.5, 5), gridspec_kw=grid)\n",
    "\n",
    "sns.boxplot(data=df_customer, x='monetary', ax=ax1)\n",
    "sns.histplot(data=df_customer, x='monetary', kde=True, ax=ax2, bins=50)\n",
    "\n",
    "plt.show()\n",
    "\n",
    "display(df_customer['monetary'].quantile([0, 0.25, 0.5, 0.75, 1]))"
   ]
  },
  {
   "cell_type": "code",
   "execution_count": 721,
   "metadata": {},
   "outputs": [
    {
     "data": {
      "text/html": [
       "<div>\n",
       "<style scoped>\n",
       "    .dataframe tbody tr th:only-of-type {\n",
       "        vertical-align: middle;\n",
       "    }\n",
       "\n",
       "    .dataframe tbody tr th {\n",
       "        vertical-align: top;\n",
       "    }\n",
       "\n",
       "    .dataframe thead th {\n",
       "        text-align: right;\n",
       "    }\n",
       "</style>\n",
       "<table border=\"1\" class=\"dataframe\">\n",
       "  <thead>\n",
       "    <tr style=\"text-align: right;\">\n",
       "      <th></th>\n",
       "      <th>recency</th>\n",
       "      <th>frequency</th>\n",
       "      <th>monetary</th>\n",
       "      <th>r_score</th>\n",
       "      <th>f_score</th>\n",
       "      <th>m_score</th>\n",
       "    </tr>\n",
       "    <tr>\n",
       "      <th>payCardName</th>\n",
       "      <th></th>\n",
       "      <th></th>\n",
       "      <th></th>\n",
       "      <th></th>\n",
       "      <th></th>\n",
       "      <th></th>\n",
       "    </tr>\n",
       "  </thead>\n",
       "  <tbody>\n",
       "    <tr>\n",
       "      <th>Widya Mulyani</th>\n",
       "      <td>1</td>\n",
       "      <td>4</td>\n",
       "      <td>23500.0</td>\n",
       "      <td>4</td>\n",
       "      <td>2</td>\n",
       "      <td>3</td>\n",
       "    </tr>\n",
       "    <tr>\n",
       "      <th>Suci Hutagalung</th>\n",
       "      <td>2</td>\n",
       "      <td>34</td>\n",
       "      <td>3500.0</td>\n",
       "      <td>4</td>\n",
       "      <td>3</td>\n",
       "      <td>1</td>\n",
       "    </tr>\n",
       "    <tr>\n",
       "      <th>Jaya Saptono, S.Psi</th>\n",
       "      <td>20</td>\n",
       "      <td>1</td>\n",
       "      <td>3500.0</td>\n",
       "      <td>1</td>\n",
       "      <td>1</td>\n",
       "      <td>1</td>\n",
       "    </tr>\n",
       "    <tr>\n",
       "      <th>Drs. Victoria Sihombing</th>\n",
       "      <td>12</td>\n",
       "      <td>13</td>\n",
       "      <td>0.0</td>\n",
       "      <td>1</td>\n",
       "      <td>3</td>\n",
       "      <td>1</td>\n",
       "    </tr>\n",
       "    <tr>\n",
       "      <th>KH. Indra Haryanti, S.Gz</th>\n",
       "      <td>3</td>\n",
       "      <td>30</td>\n",
       "      <td>0.0</td>\n",
       "      <td>3</td>\n",
       "      <td>3</td>\n",
       "      <td>1</td>\n",
       "    </tr>\n",
       "  </tbody>\n",
       "</table>\n",
       "</div>"
      ],
      "text/plain": [
       "                          recency  frequency  monetary  r_score  f_score  \\\n",
       "payCardName                                                                \n",
       "Widya Mulyani                   1          4   23500.0        4        2   \n",
       "Suci Hutagalung                 2         34    3500.0        4        3   \n",
       "Jaya Saptono, S.Psi            20          1    3500.0        1        1   \n",
       "Drs. Victoria Sihombing        12         13       0.0        1        3   \n",
       "KH. Indra Haryanti, S.Gz        3         30       0.0        3        3   \n",
       "\n",
       "                          m_score  \n",
       "payCardName                        \n",
       "Widya Mulyani                   3  \n",
       "Suci Hutagalung                 1  \n",
       "Jaya Saptono, S.Psi             1  \n",
       "Drs. Victoria Sihombing         1  \n",
       "KH. Indra Haryanti, S.Gz        1  "
      ]
     },
     "execution_count": 721,
     "metadata": {},
     "output_type": "execute_result"
    }
   ],
   "source": [
    "df_customer['m_score'] = pd.qcut(df_customer['monetary'], q=3, labels=[1, 2, 3]).astype(int)\n",
    "df_customer.sample(5, random_state=41)"
   ]
  },
  {
   "cell_type": "code",
   "execution_count": 722,
   "metadata": {},
   "outputs": [
    {
     "data": {
      "text/html": [
       "<div>\n",
       "<style scoped>\n",
       "    .dataframe tbody tr th:only-of-type {\n",
       "        vertical-align: middle;\n",
       "    }\n",
       "\n",
       "    .dataframe tbody tr th {\n",
       "        vertical-align: top;\n",
       "    }\n",
       "\n",
       "    .dataframe thead th {\n",
       "        text-align: right;\n",
       "    }\n",
       "</style>\n",
       "<table border=\"1\" class=\"dataframe\">\n",
       "  <thead>\n",
       "    <tr style=\"text-align: right;\">\n",
       "      <th></th>\n",
       "      <th>recency</th>\n",
       "      <th>frequency</th>\n",
       "      <th>monetary</th>\n",
       "      <th>r_score</th>\n",
       "      <th>f_score</th>\n",
       "      <th>m_score</th>\n",
       "      <th>rfm_score</th>\n",
       "    </tr>\n",
       "    <tr>\n",
       "      <th>payCardName</th>\n",
       "      <th></th>\n",
       "      <th></th>\n",
       "      <th></th>\n",
       "      <th></th>\n",
       "      <th></th>\n",
       "      <th></th>\n",
       "      <th></th>\n",
       "    </tr>\n",
       "  </thead>\n",
       "  <tbody>\n",
       "    <tr>\n",
       "      <th>Kunthara Budiman</th>\n",
       "      <td>1</td>\n",
       "      <td>4</td>\n",
       "      <td>10500.0</td>\n",
       "      <td>4</td>\n",
       "      <td>2</td>\n",
       "      <td>2</td>\n",
       "      <td>8</td>\n",
       "    </tr>\n",
       "    <tr>\n",
       "      <th>Sarah Hardiansyah</th>\n",
       "      <td>13</td>\n",
       "      <td>1</td>\n",
       "      <td>0.0</td>\n",
       "      <td>1</td>\n",
       "      <td>1</td>\n",
       "      <td>1</td>\n",
       "      <td>3</td>\n",
       "    </tr>\n",
       "    <tr>\n",
       "      <th>H. Satya Nashiruddin, S.Farm</th>\n",
       "      <td>2</td>\n",
       "      <td>3</td>\n",
       "      <td>7000.0</td>\n",
       "      <td>4</td>\n",
       "      <td>2</td>\n",
       "      <td>2</td>\n",
       "      <td>8</td>\n",
       "    </tr>\n",
       "    <tr>\n",
       "      <th>Endra Nababan, M.Farm</th>\n",
       "      <td>3</td>\n",
       "      <td>33</td>\n",
       "      <td>115500.0</td>\n",
       "      <td>3</td>\n",
       "      <td>3</td>\n",
       "      <td>3</td>\n",
       "      <td>9</td>\n",
       "    </tr>\n",
       "    <tr>\n",
       "      <th>R.A. Gasti Budiman, S.T.</th>\n",
       "      <td>4</td>\n",
       "      <td>1</td>\n",
       "      <td>3500.0</td>\n",
       "      <td>2</td>\n",
       "      <td>1</td>\n",
       "      <td>1</td>\n",
       "      <td>4</td>\n",
       "    </tr>\n",
       "  </tbody>\n",
       "</table>\n",
       "</div>"
      ],
      "text/plain": [
       "                              recency  frequency  monetary  r_score  f_score  \\\n",
       "payCardName                                                                    \n",
       "Kunthara Budiman                    1          4   10500.0        4        2   \n",
       "Sarah Hardiansyah                  13          1       0.0        1        1   \n",
       "H. Satya Nashiruddin, S.Farm        2          3    7000.0        4        2   \n",
       "Endra Nababan, M.Farm               3         33  115500.0        3        3   \n",
       "R.A. Gasti Budiman, S.T.            4          1    3500.0        2        1   \n",
       "\n",
       "                              m_score  rfm_score  \n",
       "payCardName                                       \n",
       "Kunthara Budiman                    2          8  \n",
       "Sarah Hardiansyah                   1          3  \n",
       "H. Satya Nashiruddin, S.Farm        2          8  \n",
       "Endra Nababan, M.Farm               3          9  \n",
       "R.A. Gasti Budiman, S.T.            1          4  "
      ]
     },
     "execution_count": 722,
     "metadata": {},
     "output_type": "execute_result"
    }
   ],
   "source": [
    "df_customer['rfm_score'] = df_customer['r_score'] + df_customer['f_score'] + df_customer['m_score']\n",
    "df_customer.sample(5, random_state=42)"
   ]
  },
  {
   "cell_type": "code",
   "execution_count": 723,
   "metadata": {},
   "outputs": [
    {
     "data": {
      "text/html": [
       "<div>\n",
       "<style scoped>\n",
       "    .dataframe tbody tr th:only-of-type {\n",
       "        vertical-align: middle;\n",
       "    }\n",
       "\n",
       "    .dataframe tbody tr th {\n",
       "        vertical-align: top;\n",
       "    }\n",
       "\n",
       "    .dataframe thead th {\n",
       "        text-align: right;\n",
       "    }\n",
       "</style>\n",
       "<table border=\"1\" class=\"dataframe\">\n",
       "  <thead>\n",
       "    <tr style=\"text-align: right;\">\n",
       "      <th></th>\n",
       "      <th>recency</th>\n",
       "      <th>frequency</th>\n",
       "      <th>monetary</th>\n",
       "      <th>r_score</th>\n",
       "      <th>f_score</th>\n",
       "      <th>m_score</th>\n",
       "      <th>rfm_score</th>\n",
       "      <th>rfm_level</th>\n",
       "    </tr>\n",
       "    <tr>\n",
       "      <th>payCardName</th>\n",
       "      <th></th>\n",
       "      <th></th>\n",
       "      <th></th>\n",
       "      <th></th>\n",
       "      <th></th>\n",
       "      <th></th>\n",
       "      <th></th>\n",
       "      <th></th>\n",
       "    </tr>\n",
       "  </thead>\n",
       "  <tbody>\n",
       "    <tr>\n",
       "      <th>drg. Gawati Uyainah, S.T.</th>\n",
       "      <td>3</td>\n",
       "      <td>32</td>\n",
       "      <td>0.0</td>\n",
       "      <td>3</td>\n",
       "      <td>3</td>\n",
       "      <td>1</td>\n",
       "      <td>7</td>\n",
       "      <td>Cukup</td>\n",
       "    </tr>\n",
       "    <tr>\n",
       "      <th>dr. Gasti Budiyanto</th>\n",
       "      <td>3</td>\n",
       "      <td>37</td>\n",
       "      <td>129500.0</td>\n",
       "      <td>3</td>\n",
       "      <td>4</td>\n",
       "      <td>3</td>\n",
       "      <td>10</td>\n",
       "      <td>Aktif</td>\n",
       "    </tr>\n",
       "    <tr>\n",
       "      <th>dr. Balangga Zulkarnain</th>\n",
       "      <td>3</td>\n",
       "      <td>35</td>\n",
       "      <td>122500.0</td>\n",
       "      <td>3</td>\n",
       "      <td>4</td>\n",
       "      <td>3</td>\n",
       "      <td>10</td>\n",
       "      <td>Aktif</td>\n",
       "    </tr>\n",
       "    <tr>\n",
       "      <th>Sakti Puspita</th>\n",
       "      <td>2</td>\n",
       "      <td>2</td>\n",
       "      <td>0.0</td>\n",
       "      <td>4</td>\n",
       "      <td>2</td>\n",
       "      <td>1</td>\n",
       "      <td>7</td>\n",
       "      <td>Cukup</td>\n",
       "    </tr>\n",
       "    <tr>\n",
       "      <th>Drs. Siska Firmansyah, M.M.</th>\n",
       "      <td>3</td>\n",
       "      <td>34</td>\n",
       "      <td>0.0</td>\n",
       "      <td>3</td>\n",
       "      <td>3</td>\n",
       "      <td>1</td>\n",
       "      <td>7</td>\n",
       "      <td>Cukup</td>\n",
       "    </tr>\n",
       "  </tbody>\n",
       "</table>\n",
       "</div>"
      ],
      "text/plain": [
       "                             recency  frequency  monetary  r_score  f_score  \\\n",
       "payCardName                                                                   \n",
       "drg. Gawati Uyainah, S.T.          3         32       0.0        3        3   \n",
       "dr. Gasti Budiyanto                3         37  129500.0        3        4   \n",
       "dr. Balangga Zulkarnain            3         35  122500.0        3        4   \n",
       "Sakti Puspita                      2          2       0.0        4        2   \n",
       "Drs. Siska Firmansyah, M.M.        3         34       0.0        3        3   \n",
       "\n",
       "                             m_score  rfm_score rfm_level  \n",
       "payCardName                                                \n",
       "drg. Gawati Uyainah, S.T.          1          7     Cukup  \n",
       "dr. Gasti Budiyanto                3         10     Aktif  \n",
       "dr. Balangga Zulkarnain            3         10     Aktif  \n",
       "Sakti Puspita                      1          7     Cukup  \n",
       "Drs. Siska Firmansyah, M.M.        1          7     Cukup  "
      ]
     },
     "execution_count": 723,
     "metadata": {},
     "output_type": "execute_result"
    }
   ],
   "source": [
    "def rfm_segmentation(x):\n",
    "    if x <= 5:\n",
    "        return 'Pasif'\n",
    "    elif x <= 7:\n",
    "        return 'Cukup'\n",
    "    elif x <= 10:\n",
    "        return 'Aktif'\n",
    "    else:\n",
    "        return 'Sangat Aktif'\n",
    "    \n",
    "df_customer['rfm_level'] = df_customer['rfm_score'].apply(rfm_segmentation)\n",
    "df_customer.sample(5, random_state=43)"
   ]
  },
  {
   "cell_type": "code",
   "execution_count": 724,
   "metadata": {},
   "outputs": [
    {
     "data": {
      "text/html": [
       "<div>\n",
       "<style scoped>\n",
       "    .dataframe tbody tr th:only-of-type {\n",
       "        vertical-align: middle;\n",
       "    }\n",
       "\n",
       "    .dataframe tbody tr th {\n",
       "        vertical-align: top;\n",
       "    }\n",
       "\n",
       "    .dataframe thead th {\n",
       "        text-align: right;\n",
       "    }\n",
       "</style>\n",
       "<table border=\"1\" class=\"dataframe\">\n",
       "  <thead>\n",
       "    <tr style=\"text-align: right;\">\n",
       "      <th></th>\n",
       "      <th>recency</th>\n",
       "      <th>frequency</th>\n",
       "      <th>monetary</th>\n",
       "      <th>r_score</th>\n",
       "      <th>f_score</th>\n",
       "      <th>m_score</th>\n",
       "      <th>rfm_score</th>\n",
       "      <th>rfm_level</th>\n",
       "    </tr>\n",
       "    <tr>\n",
       "      <th>payCardName</th>\n",
       "      <th></th>\n",
       "      <th></th>\n",
       "      <th></th>\n",
       "      <th></th>\n",
       "      <th></th>\n",
       "      <th></th>\n",
       "      <th></th>\n",
       "      <th></th>\n",
       "    </tr>\n",
       "  </thead>\n",
       "  <tbody>\n",
       "    <tr>\n",
       "      <th>Fathonah Permadi</th>\n",
       "      <td>2</td>\n",
       "      <td>37</td>\n",
       "      <td>740000.0</td>\n",
       "      <td>4</td>\n",
       "      <td>4</td>\n",
       "      <td>3</td>\n",
       "      <td>11</td>\n",
       "      <td>Sangat Aktif</td>\n",
       "    </tr>\n",
       "    <tr>\n",
       "      <th>Jaka Zulaika</th>\n",
       "      <td>2</td>\n",
       "      <td>36</td>\n",
       "      <td>126000.0</td>\n",
       "      <td>4</td>\n",
       "      <td>4</td>\n",
       "      <td>3</td>\n",
       "      <td>11</td>\n",
       "      <td>Sangat Aktif</td>\n",
       "    </tr>\n",
       "    <tr>\n",
       "      <th>Jamalia Permadi</th>\n",
       "      <td>2</td>\n",
       "      <td>37</td>\n",
       "      <td>129500.0</td>\n",
       "      <td>4</td>\n",
       "      <td>4</td>\n",
       "      <td>3</td>\n",
       "      <td>11</td>\n",
       "      <td>Sangat Aktif</td>\n",
       "    </tr>\n",
       "    <tr>\n",
       "      <th>Latika Maheswara</th>\n",
       "      <td>2</td>\n",
       "      <td>38</td>\n",
       "      <td>133000.0</td>\n",
       "      <td>4</td>\n",
       "      <td>4</td>\n",
       "      <td>3</td>\n",
       "      <td>11</td>\n",
       "      <td>Sangat Aktif</td>\n",
       "    </tr>\n",
       "    <tr>\n",
       "      <th>Marwata Najmudin</th>\n",
       "      <td>2</td>\n",
       "      <td>35</td>\n",
       "      <td>122500.0</td>\n",
       "      <td>4</td>\n",
       "      <td>4</td>\n",
       "      <td>3</td>\n",
       "      <td>11</td>\n",
       "      <td>Sangat Aktif</td>\n",
       "    </tr>\n",
       "    <tr>\n",
       "      <th>Rahayu Prabowo</th>\n",
       "      <td>2</td>\n",
       "      <td>40</td>\n",
       "      <td>140000.0</td>\n",
       "      <td>4</td>\n",
       "      <td>4</td>\n",
       "      <td>3</td>\n",
       "      <td>11</td>\n",
       "      <td>Sangat Aktif</td>\n",
       "    </tr>\n",
       "    <tr>\n",
       "      <th>Sutan Aswani Budiyanto, M.Kom.</th>\n",
       "      <td>2</td>\n",
       "      <td>35</td>\n",
       "      <td>122500.0</td>\n",
       "      <td>4</td>\n",
       "      <td>4</td>\n",
       "      <td>3</td>\n",
       "      <td>11</td>\n",
       "      <td>Sangat Aktif</td>\n",
       "    </tr>\n",
       "  </tbody>\n",
       "</table>\n",
       "</div>"
      ],
      "text/plain": [
       "                                recency  frequency  monetary  r_score  \\\n",
       "payCardName                                                             \n",
       "Fathonah Permadi                      2         37  740000.0        4   \n",
       "Jaka Zulaika                          2         36  126000.0        4   \n",
       "Jamalia Permadi                       2         37  129500.0        4   \n",
       "Latika Maheswara                      2         38  133000.0        4   \n",
       "Marwata Najmudin                      2         35  122500.0        4   \n",
       "Rahayu Prabowo                        2         40  140000.0        4   \n",
       "Sutan Aswani Budiyanto, M.Kom.        2         35  122500.0        4   \n",
       "\n",
       "                                f_score  m_score  rfm_score     rfm_level  \n",
       "payCardName                                                                \n",
       "Fathonah Permadi                      4        3         11  Sangat Aktif  \n",
       "Jaka Zulaika                          4        3         11  Sangat Aktif  \n",
       "Jamalia Permadi                       4        3         11  Sangat Aktif  \n",
       "Latika Maheswara                      4        3         11  Sangat Aktif  \n",
       "Marwata Najmudin                      4        3         11  Sangat Aktif  \n",
       "Rahayu Prabowo                        4        3         11  Sangat Aktif  \n",
       "Sutan Aswani Budiyanto, M.Kom.        4        3         11  Sangat Aktif  "
      ]
     },
     "execution_count": 724,
     "metadata": {},
     "output_type": "execute_result"
    }
   ],
   "source": [
    "df_customer[df_customer['rfm_level']=='Sangat Aktif']"
   ]
  },
  {
   "cell_type": "code",
   "execution_count": 725,
   "metadata": {},
   "outputs": [],
   "source": [
    "df.to_csv('Transjakarta1.csv')"
   ]
  }
 ],
 "metadata": {
  "kernelspec": {
   "display_name": "base",
   "language": "python",
   "name": "python3"
  },
  "language_info": {
   "codemirror_mode": {
    "name": "ipython",
    "version": 3
   },
   "file_extension": ".py",
   "mimetype": "text/x-python",
   "name": "python",
   "nbconvert_exporter": "python",
   "pygments_lexer": "ipython3",
   "version": "3.11.5"
  }
 },
 "nbformat": 4,
 "nbformat_minor": 2
}
